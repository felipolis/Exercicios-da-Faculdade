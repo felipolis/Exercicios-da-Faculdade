{
 "cells": [
  {
   "attachments": {},
   "cell_type": "markdown",
   "metadata": {},
   "source": [
    "## Carregando os Dados"
   ]
  },
  {
   "cell_type": "code",
   "execution_count": 1,
   "metadata": {},
   "outputs": [],
   "source": [
    "import pandas as pd\n",
    "import numpy as np\n",
    "from sklearn.preprocessing import MinMaxScaler\n",
    "\n",
    "# Carregando dados de treinamento\n",
    "train = pd.read_csv('./data/treino_5x5.csv')\n",
    "y_train = train['classe'].values\n",
    "X_train = train.drop('classe', axis=1).values\n",
    "\n",
    "# Carregando dados de teste\n",
    "test = pd.read_csv('./data/teste_5x5.csv')\n",
    "y_test = test['classe'].values\n",
    "X_test = test.drop('classe', axis=1).values\n",
    "\n",
    "# Normalizando dados\n",
    "scaler = MinMaxScaler()\n",
    "X_train = scaler.fit_transform(X_train)\n",
    "X_test = scaler.transform(X_test)"
   ]
  },
  {
   "attachments": {},
   "cell_type": "markdown",
   "metadata": {},
   "source": [
    "## KNN"
   ]
  },
  {
   "cell_type": "code",
   "execution_count": 2,
   "metadata": {},
   "outputs": [
    {
     "name": "stdout",
     "output_type": "stream",
     "text": [
      "Fitting 5 folds for each of 54 candidates, totalling 270 fits\n",
      "Melhor Acurácia: 0.958\n",
      "Melhor K: 3\n",
      "Melhor Distancia: euclidean\n",
      "Melhor P: 1\n"
     ]
    }
   ],
   "source": [
    "# Buscando melhores parametros\n",
    "\n",
    "from sklearn.neighbors import KNeighborsClassifier\n",
    "from sklearn.model_selection import GridSearchCV\n",
    "\n",
    "# Definindo parametros\n",
    "param_grid = {\n",
    "    'n_neighbors': [1, 3, 5, 7, 9, 11],\n",
    "    'metric': ['euclidean', 'manhattan', 'minkowski'],\n",
    "    'p': [1, 2, 3]\n",
    "}\n",
    "\n",
    "# Instanciando modelo\n",
    "knn = KNeighborsClassifier()\n",
    "\n",
    "# Instanciando GridSearch\n",
    "grid = GridSearchCV(knn, param_grid, cv=5, scoring='accuracy', verbose=1, n_jobs=-1)\n",
    "\n",
    "# Treinando modelo\n",
    "grid.fit(X_train, y_train)\n",
    "\n",
    "# Melhores parametros\n",
    "print(f'Melhor Acurácia: {grid.best_score_}')\n",
    "print(f'Melhor K: {grid.best_estimator_.n_neighbors}')\n",
    "print(f'Melhor Distancia: {grid.best_estimator_.metric}')\n",
    "print(f'Melhor P: {grid.best_estimator_.p}')\n"
   ]
  },
  {
   "cell_type": "code",
   "execution_count": 3,
   "metadata": {},
   "outputs": [
    {
     "name": "stdout",
     "output_type": "stream",
     "text": [
      "Acurácia: 0.98\n"
     ]
    }
   ],
   "source": [
    "# Testando com os dados de teste\n",
    "from sklearn.metrics import accuracy_score\n",
    "\n",
    "# Instanciando modelo\n",
    "knn = KNeighborsClassifier(n_neighbors=grid.best_estimator_.n_neighbors, metric=grid.best_estimator_.metric, p=grid.best_estimator_.p)\n",
    "\n",
    "# Treinando modelo\n",
    "knn.fit(X_train, y_train)\n",
    "\n",
    "# Prevendo dados de teste\n",
    "y_pred = knn.predict(X_test)\n",
    "\n",
    "# Acurácia\n",
    "print(f'Acurácia: {accuracy_score(y_test, y_pred)}')"
   ]
  },
  {
   "attachments": {},
   "cell_type": "markdown",
   "metadata": {},
   "source": [
    "## Naive Bayes"
   ]
  },
  {
   "cell_type": "code",
   "execution_count": 4,
   "metadata": {},
   "outputs": [
    {
     "name": "stdout",
     "output_type": "stream",
     "text": [
      "Fitting 5 folds for each of 5 candidates, totalling 25 fits\n",
      "Melhor Acurácia: 0.86\n",
      "Melhor var_smoothing: 1e-05\n"
     ]
    }
   ],
   "source": [
    "# Buscando melhores parametros Naive Bayes\n",
    "\n",
    "from sklearn.naive_bayes import GaussianNB\n",
    "\n",
    "# Definindo parametros\n",
    "param_grid = {\n",
    "    'var_smoothing': [1e-9, 1e-8, 1e-7, 1e-6, 1e-5] # var_smoothing: É um parâmetro de suavização (float), padrão = 1e-9. Aumenta a robustez do modelo, evitando que as probabilidades sejam zero.\n",
    "}\n",
    "\n",
    "# Instanciando modelo\n",
    "nb = GaussianNB()\n",
    "\n",
    "# Instanciando GridSearch\n",
    "grid = GridSearchCV(nb, param_grid, cv=5, scoring='accuracy', verbose=1, n_jobs=-1)\n",
    "\n",
    "# Treinando modelo\n",
    "grid.fit(X_train, y_train)\n",
    "\n",
    "# Melhores parametros\n",
    "print(f'Melhor Acurácia: {grid.best_score_}')\n",
    "print(f'Melhor var_smoothing: {grid.best_estimator_.var_smoothing}')\n"
   ]
  },
  {
   "cell_type": "code",
   "execution_count": 5,
   "metadata": {},
   "outputs": [
    {
     "name": "stdout",
     "output_type": "stream",
     "text": [
      "Acurácia: 0.916\n"
     ]
    }
   ],
   "source": [
    "# Testando com os dados de teste\n",
    "from sklearn.metrics import accuracy_score\n",
    "\n",
    "# Instanciando modelo\n",
    "nb = GaussianNB(var_smoothing=grid.best_estimator_.var_smoothing)\n",
    "\n",
    "# Treinando modelo\n",
    "nb.fit(X_train, y_train)\n",
    "\n",
    "# Prevendo dados de teste\n",
    "y_pred = nb.predict(X_test)\n",
    "\n",
    "# Acurácia\n",
    "print(f'Acurácia: {accuracy_score(y_test, y_pred)}')"
   ]
  }
 ],
 "metadata": {
  "kernelspec": {
   "display_name": "Python 3",
   "language": "python",
   "name": "python3"
  },
  "language_info": {
   "codemirror_mode": {
    "name": "ipython",
    "version": 3
   },
   "file_extension": ".py",
   "mimetype": "text/x-python",
   "name": "python",
   "nbconvert_exporter": "python",
   "pygments_lexer": "ipython3",
   "version": "3.11.1"
  },
  "orig_nbformat": 4
 },
 "nbformat": 4,
 "nbformat_minor": 2
}
