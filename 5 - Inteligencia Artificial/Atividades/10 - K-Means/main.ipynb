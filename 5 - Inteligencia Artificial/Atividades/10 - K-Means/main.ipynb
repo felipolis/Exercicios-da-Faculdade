{
 "cells": [
  {
   "cell_type": "code",
   "execution_count": null,
   "metadata": {},
   "outputs": [],
   "source": [
    "\"\"\" \n",
    "Utilizando uma linguagem de programação adequada, a qual tenha domínio, implemente a seguinte tarefa:\n",
    "\n",
    "Implemente o algoritmo k-means (pode usar o kmeans do scikit-learn) apresentado em aula ADNP para o problema de reconhecimento de dígitos (0-9). Download\n",
    "Seu algoritmo deve gerar centróides que vão substituir as instâncias de treinamento.\n",
    "Gere: 5, 10 e 20  centróides para cada classe; \n",
    "Lembre-se para gerar estes centróides, você deve passar somente as 100 instâncias de cada classe. Ou seja, a ideia é que ele gere centróides que represente a classe que estamos trabalhando.\n",
    "Treine um modelo usando estes centróides ; Escolha um algoritmo de aprendizagem supervisionada estudado ;\n",
    "Teste no conjunto de testes disponibilizada;\n",
    "Verifique se as taxas usando centróides são melhores ou piores que usando todos as amostras no treinamento.\n",
    "Não esqueça de normalizar os dados.\n",
    "\n",
    "\"\"\""
   ]
  },
  {
   "cell_type": "code",
   "execution_count": null,
   "metadata": {},
   "outputs": [],
   "source": [
    "from sklearn.cluster import KMeans\n",
    "from sklearn.neighbors import KNeighborsClassifier\n",
    "from sklearn.preprocessing import MaxAbsScaler\n",
    "from sklearn.model_selection import train_test_split\n",
    "import matplotlib.pyplot as plt\n",
    "import numpy as np\n",
    "import os"
   ]
  },
  {
   "cell_type": "code",
   "execution_count": null,
   "metadata": {},
   "outputs": [],
   "source": [
    "# Se não existir, cria o diretório 'output'\n",
    "if not os.path.exists('output'):\n",
    "    os.makedirs('output')\n",
    "\n",
    "# Deleta todos os arquivos do diretório 'output'\n",
    "for file in os.listdir('output'):\n",
    "    os.remove('output/' + file)"
   ]
  },
  {
   "cell_type": "code",
   "execution_count": null,
   "metadata": {},
   "outputs": [],
   "source": [
    "# Carregando os dados de treinamento\n",
    "data = np.loadtxt('./data/treinamento.txt')\n",
    "X = data[:, :-1]\n",
    "y = data[:, -1]\n",
    "\n",
    "# Normalizando os dados\n",
    "scaler = MaxAbsScaler()\n",
    "X = scaler.fit_transform(X)\n",
    "\n",
    "# Para cada classe (100 linhas), vamos encontrar os n centroides, sendo n = 5, 10 e 20\n",
    "# crie um arquivo novo para armazenar os centroides (no mesmo arquivo)\n",
    "for n in [5, 10, 20]:\n",
    "    # Para cada classe\n",
    "    for digit_class in sorted(list(set(y))): # Para cada classe de digitos\n",
    "        indexes = y == digit_class # Pegar os indices dos digitos da classe\n",
    "\n",
    "        km = KMeans(n_clusters=n, n_init='auto')\n",
    "        km.fit(X[indexes,:])\n",
    "\n",
    "        # caso o arquivo não exista, cria um novo e escreve os centroides\n",
    "        # Centroide1(.5f) Centroide2(.5f) ... CentroideN(.5f) classe(.0f)\n",
    "        with open(f'./output/centroides_{n}_treino.txt', 'a') as f:\n",
    "            for centroid in km.cluster_centers_:\n",
    "                f.write(' '.join([f'{c:.5f}' for c in centroid]) + f' {digit_class:.0f}\\n')\n",
    "\n",
    "\n"
   ]
  },
  {
   "cell_type": "code",
   "execution_count": null,
   "metadata": {},
   "outputs": [],
   "source": [
    "# Carregando os dados de teste\n",
    "data = np.loadtxt('./data/teste.txt')\n",
    "X_test = data[:, :-1]\n",
    "y_test = data[:, -1]\n",
    "\n",
    "# Normalizando os dados\n",
    "scaler = MaxAbsScaler()\n",
    "X_test = scaler.fit_transform(X_test)\n",
    "\n",
    "# Para cada classe (100 linhas), vamos encontrar os n centroides, sendo n = 5, 10 e 20\n",
    "# crie um arquivo novo para armazenar os centroides (no mesmo arquivo)\n",
    "for n in [5, 10, 20]:\n",
    "    # Para cada classe\n",
    "    for digit_class in sorted(list(set(y_test))): # Para cada classe de digitos\n",
    "        indexes = y_test == digit_class # Pegar os indices dos digitos da classe\n",
    "\n",
    "        km = KMeans(n_clusters=n, n_init='auto')\n",
    "        km.fit(X_test[indexes,:])\n",
    "\n",
    "        # caso o arquivo não exista, cria um novo e escreve os centroides\n",
    "        with open(f'./output/centroides_{n}_teste.txt', 'a') as f:\n",
    "            for centroid in km.cluster_centers_:\n",
    "                f.write(' '.join([f'{c:.5f}' for c in centroid]) + f' {digit_class:.0f}\\n')\n"
   ]
  },
  {
   "cell_type": "code",
   "execution_count": null,
   "metadata": {},
   "outputs": [],
   "source": [
    "# Carregando os centroides\n",
    "centroides = np.loadtxt('./output/centroides_5_treino.txt')\n",
    "X = centroides[:, :-1]\n",
    "y = centroides[:, -1]\n",
    "\n",
    "# Dividindo os dados em treino e teste\n",
    "X_train, X_test, y_train, y_test = train_test_split(X, y, test_size=.3, random_state=42)\n",
    "\n",
    "# Treinando o modelo\n",
    "knn = KNeighborsClassifier(n_neighbors=3)\n",
    "knn.fit(X_train, y_train)\n",
    "\n",
    "# Testando o modelo\n",
    "y_pred = knn.predict(X_test)\n",
    "\n",
    "# Calculando a acurácia\n",
    "acc = np.mean(y_pred == y_test)\n",
    "print(f'Acurácia: {acc:.5f}')\n",
    "\n"
   ]
  },
  {
   "cell_type": "code",
   "execution_count": null,
   "metadata": {},
   "outputs": [],
   "source": [
    "# Carregando os centroides\n",
    "centroides = np.loadtxt('./output/centroides_10_treino.txt')\n",
    "X = centroides[:, :-1]\n",
    "y = centroides[:, -1]\n",
    "\n",
    "# Dividindo os dados em treino e teste\n",
    "X_train, X_test, y_train, y_test = train_test_split(X, y, test_size=.3, random_state=42)\n",
    "\n",
    "# Treinando o modelo\n",
    "knn = KNeighborsClassifier(n_neighbors=3)\n",
    "knn.fit(X_train, y_train)\n",
    "\n",
    "# Testando o modelo\n",
    "y_pred = knn.predict(X_test)\n",
    "\n",
    "# Calculando a acurácia\n",
    "acc = np.mean(y_pred == y_test)\n",
    "print(f'Acurácia: {acc:.5f}')"
   ]
  },
  {
   "cell_type": "code",
   "execution_count": null,
   "metadata": {},
   "outputs": [],
   "source": [
    "# Carregando os centroides\n",
    "centroides = np.loadtxt('./output/centroides_20_treino.txt')\n",
    "X = centroides[:, :-1]\n",
    "y = centroides[:, -1]\n",
    "\n",
    "# Dividindo os dados em treino e teste\n",
    "X_train, X_test, y_train, y_test = train_test_split(X, y, test_size=.3, random_state=42)\n",
    "\n",
    "# Treinando o modelo\n",
    "knn = KNeighborsClassifier(n_neighbors=3)\n",
    "knn.fit(X_train, y_train)\n",
    "\n",
    "# Testando o modelo\n",
    "y_pred = knn.predict(X_test)\n",
    "\n",
    "# Calculando a acurácia\n",
    "acc = np.mean(y_pred == y_test)\n",
    "print(f'Acurácia: {acc:.5f}')"
   ]
  }
 ],
 "metadata": {
  "kernelspec": {
   "display_name": "Python 3",
   "language": "python",
   "name": "python3"
  },
  "language_info": {
   "codemirror_mode": {
    "name": "ipython",
    "version": 3
   },
   "file_extension": ".py",
   "mimetype": "text/x-python",
   "name": "python",
   "nbconvert_exporter": "python",
   "pygments_lexer": "ipython3",
   "version": "3.11.1"
  },
  "orig_nbformat": 4
 },
 "nbformat": 4,
 "nbformat_minor": 2
}
