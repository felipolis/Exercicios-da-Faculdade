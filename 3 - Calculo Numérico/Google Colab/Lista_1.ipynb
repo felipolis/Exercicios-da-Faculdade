{
  "nbformat": 4,
  "nbformat_minor": 0,
  "metadata": {
    "accelerator": "GPU",
    "colab": {
      "name": "Lista 1",
      "provenance": [],
      "collapsed_sections": []
    },
    "kernelspec": {
      "display_name": "Python 3",
      "name": "python3"
    }
  },
  "cells": [
    {
      "cell_type": "markdown",
      "metadata": {
        "id": "vqwwLQy89Ep7"
      },
      "source": [
        "Universidade Tecnológica Federal do Paraná  \n",
        "Professor: Wellington José Corrêa  \n",
        "Orientando: Enzo Dornelles Italiano  \n",
        "Cálculo Numérico  \n",
        "Conversão de Bases e Aritmética de Ponto Flutuante"
      ]
    },
    {
      "cell_type": "markdown",
      "metadata": {
        "id": "ZAujhG8z9SWp"
      },
      "source": [
        "# Conversão de Base e Aritmética de Ponto Flutuante"
      ]
    },
    {
      "cell_type": "markdown",
      "metadata": {
        "id": "2fD5I16Tr1Sc"
      },
      "source": [
        "Antes de iniciar é preciso rodar uma vez o código do tópico **Códigos.** \n",
        "\n",
        "Lembre-se que às vezes, é conveniente clicar logo acima em *open in playground mode*, bem como salvar uma cópia em seu *Google Drive.*"
      ]
    },
    {
      "cell_type": "markdown",
      "metadata": {
        "id": "3JRFRN1IqL2K"
      },
      "source": [
        "##Códigos"
      ]
    },
    {
      "cell_type": "code",
      "metadata": {
        "id": "kzcN7xYOqOee"
      },
      "source": [
        "import math\n",
        "def dectobinDecimal(n):\n",
        "    n = int(n)\n",
        "    binario = \"\"\n",
        "    while(True):\n",
        "        binario = binario + str(n%2)\n",
        "        n = n//2\n",
        "        if n == 0:\n",
        "            break\n",
        "    binario = binario[::-1]\n",
        "    print(binario)\n",
        "\n",
        "def dectobinDecimal1(n):\n",
        "    n = int(n)\n",
        "    binario = \"\"\n",
        "    while(True):\n",
        "        binario = binario + str(n%2)\n",
        "        n = n//2\n",
        "        if n == 0:\n",
        "            break\n",
        "    binario = binario[::-1]\n",
        "    print(binario, end='')\n",
        "\n",
        "def dectobinFracionario(n):\n",
        "    n = str(n)\n",
        "    x = n.split(\".\")\n",
        "    dectobinDecimal1(x[0])\n",
        "\n",
        "    fracionario = \"\"\n",
        "    n = \"0.\" + x[1]\n",
        "    n = float(n)\n",
        "    while(True):\n",
        "        n = n * 2\n",
        "        if(math.floor(n) == 1):\n",
        "            fracionario = fracionario + \"1\"\n",
        "            n = n - 1\n",
        "        else:\n",
        "            fracionario = fracionario + \"0\"\n",
        "        if(n == 0):\n",
        "            break\n",
        "    print(\".\" + fracionario)\n",
        "\n",
        "def bintodecDecimal(n):\n",
        "    n = str(n)\n",
        "    decimal = 0\n",
        "    n = n[::-1]\n",
        "    tam = len(n)\n",
        "    for i in range(tam):\n",
        "        if n[i] == \"1\":\n",
        "            decimal = decimal + 2**i\n",
        "    print(decimal)\n",
        "\n",
        "def bintodecDecimal1(n):\n",
        "    n = str(n)\n",
        "    decimal = 0\n",
        "    n = n[::-1]\n",
        "    tam = len(n)\n",
        "    for i in range(tam):\n",
        "        if n[i] == \"1\":\n",
        "            decimal = decimal + 2**i\n",
        "    print(decimal, end=\"\")\n",
        "    return decimal\n",
        "\n",
        "def bintodecFracionario(n):\n",
        "    n = str(n)\n",
        "    x = n.split(\".\")\n",
        "    bintodecDecimal1(x[0])\n",
        "    \n",
        "    temp = 0\n",
        "    tam = len(x[1])\n",
        "    for i in range (tam):\n",
        "        if x[1][i] == \"1\":\n",
        "            temp = temp + 2 ** -(i+1)\n",
        "    temp = str(temp)\n",
        "    fracionario = temp.split(\".\")\n",
        "    print(\".\" + fracionario[1])\n",
        "\n",
        "def dectohex(n):\n",
        "    n = int(n)\n",
        "    hexa = \"\"\n",
        "    while(True):\n",
        "        if(n % 16 == 10):\n",
        "            hexa = hexa + \"A\"\n",
        "        elif(n % 16 == 11):\n",
        "            hexa = hexa + \"B\"\n",
        "        elif(n % 16 == 12):\n",
        "            hexa = hexa + \"C\"\n",
        "        elif(n % 16 == 13):\n",
        "            hexa = hexa + \"D\"\n",
        "        elif(n % 16 == 14):\n",
        "            hexa = hexa + \"E\"\n",
        "        elif(n % 16 == 15):\n",
        "            hexa = hexa + \"F\"\n",
        "        else:\n",
        "            hexa = hexa + str(n%16)\n",
        "        n = n//16\n",
        "        if n == 0:\n",
        "            break\n",
        "    hexa = hexa[::-1]\n",
        "    print(hexa)\n",
        "\n",
        "def dectohex1(n):\n",
        "    n = int(n)\n",
        "    hexa = \"\"\n",
        "    while(True):\n",
        "        if(n % 16 == 10):\n",
        "            hexa = hexa + \"A\"\n",
        "        elif(n % 16 == 11):\n",
        "            hexa = hexa + \"B\"\n",
        "        elif(n % 16 == 12):\n",
        "            hexa = hexa + \"C\"\n",
        "        elif(n % 16 == 13):\n",
        "            hexa = hexa + \"D\"\n",
        "        elif(n % 16 == 14):\n",
        "            hexa = hexa + \"E\"\n",
        "        elif(n % 16 == 15):\n",
        "            hexa = hexa + \"F\"\n",
        "        else:\n",
        "            hexa = hexa + str(n%16)\n",
        "        n = n//16\n",
        "        if n == 0:\n",
        "            break\n",
        "    hexa = hexa[::-1]\n",
        "    print(hexa, end=\"\")\n",
        "    return hexa\n",
        "\n",
        "def dectohexF(n):\n",
        "    n = str(n)\n",
        "    x = n.split(\".\")\n",
        "    dectohex1(x[0])\n",
        "    hexa = \"\"\n",
        "    n = \"0.\" + x[1]\n",
        "    n = float(n)\n",
        "    while(True):\n",
        "        n = n * 16\n",
        "        if(math.floor(n) > 1):\n",
        "            hexa = hexa + str(math.floor(n))\n",
        "            n = n - math.floor(n)\n",
        "        else:\n",
        "            hexa = hexa + \"0\"\n",
        "        if(n == 0):\n",
        "            break\n",
        "    hexa = str(hexa)\n",
        "    print(\".\" + hexa)\n",
        "\n",
        "def hexstring2int(n):\n",
        "    decimal = 0\n",
        "    n = n[::-1]\n",
        "    tam = len(n)\n",
        "    for i in range(tam):\n",
        "        if n[i] == \"A\":\n",
        "            decimal = decimal + 10 * 16**i\n",
        "        elif n[i] == \"B\":\n",
        "            decimal = decimal + 11 * 16**i\n",
        "        elif n[i] == \"C\":\n",
        "            decimal = decimal + 12 * 16**i\n",
        "        elif n[i] == \"D\":\n",
        "            decimal = decimal + 13 * 16**i\n",
        "        elif n[i] == \"E\":\n",
        "            decimal = decimal + 14 * 16**i\n",
        "        elif n[i] == \"F\":\n",
        "            decimal = decimal + 15 * 16**i\n",
        "        else:\n",
        "            decimal = decimal + int(n[i]) * 16**i\n",
        "    print(decimal)\n",
        "\n",
        "def erroAbs(Aex, Aaprox):\n",
        "    Eabs = Aex - Aaprox\n",
        "    if Eabs < 0:\n",
        "        Eabs *= -1\n",
        "    print(Eabs)\n",
        "\n",
        "def erroRel(Aex, Aaprox):\n",
        "    Eabs = Aex - Aaprox\n",
        "    if Eabs < 0:\n",
        "        Eabs *= -1\n",
        "    Erel = Eabs / Aaprox\n",
        "    print(Erel)\n",
        "\n",
        "def paraPontoFlut(n):\n",
        "    i = 0\n",
        "    while n > 1:\n",
        "        n *= (10**-1)\n",
        "        i+=1\n",
        "    n = float(n)\n",
        "    return n, i\n",
        "\n",
        "def trunc(n, p):\n",
        "    x, c = paraPontoFlut(n)\n",
        "    c = int(c)\n",
        "    trunc = \"\"\n",
        "    x = str(x)\n",
        "    for i in range(p+2): # +2 para o código desconsiderar o 0.\n",
        "        trunc = trunc + x[i]\n",
        "    trunc = float(trunc)\n",
        "    trunc = trunc * 10**c\n",
        "    w, y, z = str(trunc).partition('.')\n",
        "    x = \".\".join([w, z[:p]])\n",
        "    print(x)\n",
        "\n",
        "def arred(n, p):\n",
        "    x, c = paraPontoFlut(n)\n",
        "\n",
        "    x = round(x, p)\n",
        "    x = round(x, p)\n",
        "    x = x * 10**c\n",
        "    print(x)\n",
        "\n",
        "from decimal import *\n",
        "def Represenbin(n):\n",
        "    s = int(n[0])\n",
        "    c = 0\n",
        "    i, j = 1, 10\n",
        "    while i < 12 and j > -1:\n",
        "        x = int(n[i])\n",
        "        c = c + x * (2 ** j)\n",
        "        i += 1\n",
        "        j -= 1\n",
        "\n",
        "    f = 0\n",
        "    i, j =  12, -1\n",
        "    while i < 64 and j > -53:\n",
        "        x = int(n[i])\n",
        "        f = f + x * (2**j)\n",
        "        i += 1\n",
        "        j -= 1\n",
        "\n",
        "    result = Decimal((-1)**s * 2**(c-1023) * (1+f))\n",
        "    print(result)\n",
        "\n",
        "    import math\n",
        "\n",
        "\n",
        "def truncar(number, digits) -> float:\n",
        "    stepper = pow(10.0, digits-1)\n",
        "    return math.trunc(stepper * number) / stepper\n",
        "\n",
        "def arredondar(number, digits) -> float:\n",
        "    stepper = pow(10.0, digits-1)\n",
        "    return round(stepper * number) / stepper\n",
        "     "
      ],
      "execution_count": null,
      "outputs": []
    },
    {
      "cell_type": "markdown",
      "metadata": {
        "id": "QOMJ4RPVqAYe"
      },
      "source": [
        "## 1. Conversão de Base"
      ]
    },
    {
      "cell_type": "markdown",
      "metadata": {
        "id": "5jylQhauqEJ_"
      },
      "source": [
        "### 1.1 Conversão de base decimal para base binária.\n",
        "a)Parte inteira: usaremos a função dectobinDecimal(n), onde n é o número inteiro na base 10.\n",
        "\n",
        "Exemplo: Converta o número 42 na base 2."
      ]
    },
    {
      "cell_type": "code",
      "metadata": {
        "id": "K40M0Zdw-YsU",
        "colab": {
          "base_uri": "https://localhost:8080/"
        },
        "outputId": "3d5c01ee-b870-4b87-8091-b5ad8cc3d3a4"
      },
      "source": [
        "dectobinDecimal(35)"
      ],
      "execution_count": null,
      "outputs": [
        {
          "output_type": "stream",
          "text": [
            "100011\n"
          ],
          "name": "stdout"
        }
      ]
    },
    {
      "cell_type": "markdown",
      "metadata": {
        "id": "H60_MN1NSRfj"
      },
      "source": [
        "Assim, $42_2$ = 101010"
      ]
    },
    {
      "cell_type": "markdown",
      "metadata": {
        "id": "pzUnHGgA_TQI"
      },
      "source": [
        "b) Parte decimal: Usaremos a função\n",
        "dectobinFracionario(n) onde n é o número fracionário na base 10.\n",
        "\n",
        "Exemplo: Converta o número 8,7 na base 2."
      ]
    },
    {
      "cell_type": "code",
      "metadata": {
        "id": "xhH1xNM-_16R"
      },
      "source": [
        "dectobinFracionario(8.7)"
      ],
      "execution_count": null,
      "outputs": []
    },
    {
      "cell_type": "markdown",
      "metadata": {
        "id": "ROwnVClLAjuW"
      },
      "source": [
        "Portanto, $8,7_2 \\approx$ 1000,1011"
      ]
    },
    {
      "cell_type": "markdown",
      "metadata": {
        "id": "pcEkVwTdBCFr"
      },
      "source": [
        "### 1.2 Conversão de base binária para a base decimal.\n",
        "Como na seção anterior, dividiremos em duas partes.\n",
        "\n",
        "a) Parte inteira: Nesta situação usaremos o comando bintodecDecimal(n), de modo que n é o número na base 2.\n",
        "\n",
        "Exemplo: Converta o número 101010 na base decimal."
      ]
    },
    {
      "cell_type": "code",
      "metadata": {
        "id": "r0P1PL71CIgM"
      },
      "source": [
        "bintodecDecimal(101010)"
      ],
      "execution_count": null,
      "outputs": []
    },
    {
      "cell_type": "markdown",
      "metadata": {
        "id": "dbjKrqdiCWx_"
      },
      "source": [
        "Portanto, $101010_{10}$ = 42."
      ]
    },
    {
      "cell_type": "markdown",
      "metadata": {
        "id": "ahuP2CghC0Rh"
      },
      "source": [
        "b) Parte fracionária: Agora usaremos a função bintodecFracionario(n), onde n é o número na base 2.\n",
        "\n",
        "Exemplo: Converta o número 1000,1011 na base decimal."
      ]
    },
    {
      "cell_type": "code",
      "metadata": {
        "id": "7pZPF86hDPa-"
      },
      "source": [
        "bintodecFracionario(1000.1011)"
      ],
      "execution_count": null,
      "outputs": []
    },
    {
      "cell_type": "markdown",
      "metadata": {
        "id": "cteCCSIJENCz"
      },
      "source": [
        "Portanto, $1000,1011_{10} \\approx$  8,7."
      ]
    },
    {
      "cell_type": "markdown",
      "metadata": {
        "id": "58J381XaEbF7"
      },
      "source": [
        "### 1.3 Conversão de base decimal para base hexadecimal\n",
        "a) Parte inteira: Usaremos a função dectohex(n) onde n é o número inteiro na base 10.\n",
        "\n",
        "Exemplo: Converta o número 16435930 na base hexadecimal."
      ]
    },
    {
      "cell_type": "code",
      "metadata": {
        "id": "V5HnWTrSEy79"
      },
      "source": [
        "dectohex(16435930)"
      ],
      "execution_count": null,
      "outputs": []
    },
    {
      "cell_type": "markdown",
      "metadata": {
        "id": "ReMRQqH6FIVx"
      },
      "source": [
        "b) Parte decimal: Usaremos o comando dectohexF(n) onde n é o número fracionário na base 10.\n",
        "\n",
        "Exemplo: Converta o número 10,75 na base hexadecimal."
      ]
    },
    {
      "cell_type": "code",
      "metadata": {
        "id": "w5HqJAGkFP88"
      },
      "source": [
        "dectohexF(10.75)"
      ],
      "execution_count": null,
      "outputs": []
    },
    {
      "cell_type": "markdown",
      "metadata": {
        "id": "epeoPkWgGCVP"
      },
      "source": [
        "### 1.4 Conversão de base hexadecimal para base decimal\n",
        "Neste caso, basta usar o comando hexstring2int(\"n\") onde n é o número na base hexadecimal.\n",
        "\n",
        "Exemplo: Converta o número hexadecimal \"FACADA\" na base decimal."
      ]
    },
    {
      "cell_type": "code",
      "metadata": {
        "id": "G0DcS3MQGTj1"
      },
      "source": [
        "hexstring2int(\"FACADA\")"
      ],
      "execution_count": null,
      "outputs": []
    },
    {
      "cell_type": "markdown",
      "metadata": {
        "id": "5HaAY4fYGbd7"
      },
      "source": [
        "## 2. Aritmética de Ponto Flutuante\n",
        "### 2.1 Erro absoluto e relativo\n",
        "No que segue, denotaremos o valor exato por $\\text{a}_{\\text{ex}}$ e  a aproximação de  $\\text{a}_{\\text{ex}}$ por $\\text{a}_{\\text{approx}}$.\n",
        "\n",
        "Usaremos os comandos:\n",
        "\n",
        "Erro absoluto: `erroAbs(Aex,Aaprox)`\n",
        "\n",
        "Erro relativo: `erroRel(Aex,Aaprox)`\n",
        "\n",
        "**Exemplo:** Determine o erro absoluto e o erro relativo na aproximação de $\\text{a}_{\\text{ex}} =  \\sqrt{2}$ por $\\text{a}_{\\text{approx}} = 1,41$."
      ]
    },
    {
      "cell_type": "code",
      "metadata": {
        "id": "b1rOb9O8HruI"
      },
      "source": [
        "erroAbs(math.sqrt(2), 1.41)"
      ],
      "execution_count": null,
      "outputs": []
    },
    {
      "cell_type": "code",
      "metadata": {
        "id": "jOMuXWkeIJxk"
      },
      "source": [
        "erroRel(math.sqrt(2), 1.41)"
      ],
      "execution_count": null,
      "outputs": []
    },
    {
      "cell_type": "markdown",
      "metadata": {
        "id": "vULLDFwIIaiq"
      },
      "source": [
        "### 2.2 Truncamento e Arredondamento\n",
        "Para tanto, denotemos por “n” o número a ser digitado e “p” o número de algarismos a ser estabelecido pelo truncamento e arredondamento. Temos os seguintes comandos:\n",
        "\n",
        "**Truncamento:** truncar(n, p)\n",
        "\n",
        "\n",
        "**Arredondamento:** arredondar(n, p)\n",
        "\n",
        "Exemplo: Realize a aritmética de truncamento com cinco algarismos para os números 1,23675 e $\\pi.$"
      ]
    },
    {
      "cell_type": "code",
      "metadata": {
        "id": "P4hG3o8ADQKr"
      },
      "source": [
        "truncar(1.23675, 5)"
      ],
      "execution_count": null,
      "outputs": []
    },
    {
      "cell_type": "code",
      "metadata": {
        "id": "425ug8pzJU8l"
      },
      "source": [
        "truncar(math.pi,5)"
      ],
      "execution_count": null,
      "outputs": []
    },
    {
      "cell_type": "markdown",
      "metadata": {
        "id": "CqdIDr7oJtLF"
      },
      "source": [
        "Exemplo: Empregue a aritmética de arredondamento com cinco algarismos para os números $\\pi$, 3,2365789 e 3,23442323."
      ]
    },
    {
      "cell_type": "code",
      "metadata": {
        "id": "n-nf3uRFJyD3"
      },
      "source": [
        "\n",
        "arredondar(math.pi, 5)"
      ],
      "execution_count": null,
      "outputs": []
    },
    {
      "cell_type": "code",
      "metadata": {
        "id": "SdyCnLHziCLc"
      },
      "source": [
        "arredondar(3.2365789,5)"
      ],
      "execution_count": null,
      "outputs": []
    },
    {
      "cell_type": "code",
      "metadata": {
        "id": "vc7J-4GsDDSz"
      },
      "source": [
        "arredondar(3.234422,5)"
      ],
      "execution_count": null,
      "outputs": []
    },
    {
      "cell_type": "markdown",
      "metadata": {
        "id": "aM0iwPapKTod"
      },
      "source": [
        "### 2.3 Representação Numérica de Ponto Flutuante\n",
        "Pelo padrão IEEE 754 podemos ter uma representação de números fracionários binários bem maior.\n",
        "\n",
        "A função aqui é Represenbin(n), onde n é o número binário a ser convertido para decimal.\n",
        "\n",
        "Exemplo: Converta o número 0100000000111011100100010000000000000000000000000000000000000000\n"
      ]
    },
    {
      "cell_type": "code",
      "metadata": {
        "id": "-T2hCJz_LdIH"
      },
      "source": [
        "Represenbin('0100000000111011100100010000000000000000000000000000000000000000')\n",
        "# Represenbin('01' + 8*'0' + '11101110010001' + 40*'0')"
      ],
      "execution_count": null,
      "outputs": []
    }
  ]
}