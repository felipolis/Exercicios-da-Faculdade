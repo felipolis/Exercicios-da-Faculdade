{
  "nbformat": 4,
  "nbformat_minor": 0,
  "metadata": {
    "colab": {
      "name": "Lista 2 - Sala de aula",
      "provenance": [],
      "collapsed_sections": [],
      "toc_visible": true
    },
    "kernelspec": {
      "name": "python3",
      "display_name": "Python 3"
    }
  },
  "cells": [
    {
      "cell_type": "markdown",
      "metadata": {
        "id": "C19y_d_xSou6"
      },
      "source": [
        "Universidade Tecnológica Federal do Paraná  \n",
        "Professor: Wellington José Corrêa  \n",
        "Orientando: Enzo Dornelles Italiano  \n",
        "Cálculo Numérico"
      ]
    },
    {
      "cell_type": "markdown",
      "metadata": {
        "id": "VYmffNqGSwen"
      },
      "source": [
        "#Raízes de Equações"
      ]
    },
    {
      "cell_type": "markdown",
      "metadata": {
        "id": "x1qPTto7S7FM"
      },
      "source": [
        "Nesta lista vamos determinar numéricamente as raízes da equação $f(x) = 0$ pelos métodos da bissecção, do ponto fixo, Newton-Raphson, secante e regula falsi. Para facilitar o uso ao aluno, usaremos alguns exemplos apresentados em sala.\n",
        "\n",
        "Antes de iniciar é necessário executar uma vez o código do tópico **Códigos.** Lembre-se que às vezes, é conveniente clicar logo acima em *open in playground mode*, bem como salvar uma cópia em seu *Google Drive.*"
      ]
    },
    {
      "cell_type": "markdown",
      "metadata": {
        "id": "20LjG-wooDTd"
      },
      "source": [
        "## Códigos"
      ]
    },
    {
      "cell_type": "code",
      "metadata": {
        "id": "cQ0-cUxfAZVl",
        "colab": {
          "base_uri": "https://localhost:8080/"
        },
        "outputId": "d5e2b58a-c26d-4c5b-81f7-3897a363b4be"
      },
      "source": [
        "!pip install mpld3\n",
        "!pip install \"git+https://github.com/javadba/mpld3@display_fix\"\n",
        "import math\n",
        "import matplotlib.pyplot as plt\n",
        "from prettytable import PrettyTable\n",
        "from sympy import *\n",
        "import numpy as np\n",
        "import mpld3\n",
        "from mpld3 import plugins\n",
        "x = symbols('x')\n",
        " \n",
        "def plot2d(f, inicio, fim):\n",
        "    z = np.arange(inicio,fim,0.1)\n",
        "    \n",
        "    y = []\n",
        "    for i in range(len(z)):\n",
        "        y.append(f.subs(x,z[i]))\n",
        "    \n",
        "    fig, ax = plt.subplots()\n",
        "    ax.set(title='Gráfico função f(x)='+str(f))\n",
        "    ax.plot(z,y)\n",
        "    ax.grid()\n",
        "    plt.show()\n",
        " \n",
        "def bisseccao(f, e, a, b):\n",
        "    fa = f.subs(x,a)\n",
        "    fb = f.subs(x,b)\n",
        "    if fa * fb >= 0:\n",
        "        print(\"Não atende ao critério f(a) * f(b) < 0\")\n",
        "        return\n",
        "    \n",
        "    k = 0\n",
        "    ak = []\n",
        "    bk = []\n",
        "    xk = []\n",
        "    fak = []\n",
        "    fbk = []\n",
        "    xk = []\n",
        "    fxk = []\n",
        "    xk_x = []\n",
        "    ak.append(a)\n",
        "    bk.append(b)\n",
        " \n",
        "    kf = math.log((b-a)/e,2)-1\n",
        "    times = math.ceil(kf) + 1\n",
        " \n",
        "    for k in range(times):\n",
        "        if k == 0:\n",
        "            y = ak[len(ak)-1]\n",
        "            fak.append(round(f.subs(x,y),9))\n",
        "            y = bk[len(bk)-1]\n",
        "            fbk.append(round(f.subs(x,y),9))\n",
        "            xk.append((ak[len(ak)-1] + bk[len(bk)-1])/2)\n",
        "            y = xk[len(xk)-1]\n",
        "            fxk.append(round(f.subs(x,y),9))\n",
        "            xk_x.append('-')\n",
        "        else:\n",
        "            if (fak[len(fak)-1] < 0 and fxk[len(fxk)-1] < 0) or (fak[len(fak)-1] > 0 and fxk[len(fxk)-1] > 0):\n",
        "                ak.append(xk[len(xk)-1])\n",
        "                bk.append(bk[len(bk)-1])\n",
        "            else:\n",
        "                ak.append(ak[len(ak)-1])\n",
        "                bk.append(xk[len(xk)-1])\n",
        " \n",
        "            y = ak[len(ak)-1]\n",
        "            fak.append(round(f.subs(x,y),9))\n",
        "            y = bk[len(bk)-1]\n",
        "            fbk.append(round(f.subs(x,y),9))\n",
        "            xk.append((ak[len(ak)-1] + bk[len(bk)-1])/2)\n",
        "            y = xk[len(xk)-1]\n",
        "            fxk.append(round(f.subs(x,y),9))\n",
        "            temp = xk[len(xk)-1] - xk[len(xk)-2]\n",
        "            if temp < 0:\n",
        "                temp = temp * -1\n",
        "            xk_x.append(temp)\n",
        " \n",
        "    Table = PrettyTable([\"k\", \"a\", \"b\", \"f(a)\", \"f(b)\", \"x\", \"f(x)\", \"|x(k) - x(k-1)|\"])\n",
        "    for k in range(times):\n",
        "        Table.add_row([k, ak[k], bk[k], fak[k], fbk[k], xk[k], fxk[k], xk_x[k]])\n",
        " \n",
        " \n",
        "    print(Table)\n",
        "    print(\"Donde \\u03B5 é aproximadamente \" + str(xk[len(xk)-1]))\n",
        " \n",
        "def graficoBissec(f, e, a, b):\n",
        "    k = 0\n",
        "    ak = []\n",
        "    bk = []\n",
        "    xk = []\n",
        "    fak = []\n",
        "    fbk = []\n",
        "    xk = []\n",
        "    fxk = []\n",
        "    xk_x = []\n",
        "    ak.append(a)\n",
        "    bk.append(b)\n",
        " \n",
        "    kf = math.log((b-a)/e,2)-1\n",
        "    times = math.ceil(kf) + 1\n",
        " \n",
        "    for k in range(times):\n",
        "        if k == 0:\n",
        "            y = ak[len(ak)-1]\n",
        "            fak.append(round(f.subs(x,y),9))\n",
        "            y = bk[len(bk)-1]\n",
        "            fbk.append(round(f.subs(x,y),9))\n",
        "            xk.append((ak[len(ak)-1] + bk[len(bk)-1])/2)\n",
        "            y = xk[len(xk)-1]\n",
        "            fxk.append(round(f.subs(x,y),9))\n",
        "            xk_x.append('-')\n",
        "        else:\n",
        "            if (fak[len(fak)-1] < 0 and fxk[len(fxk)-1] < 0) or (fak[len(fak)-1] > 0 and fxk[len(fxk)-1] > 0):\n",
        "                ak.append(xk[len(xk)-1])\n",
        "                bk.append(bk[len(bk)-1])\n",
        "            else:\n",
        "                ak.append(ak[len(ak)-1])\n",
        "                bk.append(xk[len(xk)-1])\n",
        " \n",
        "            y = ak[len(ak)-1]\n",
        "            fak.append(round(f.subs(x,y),9))\n",
        "            y = bk[len(bk)-1]\n",
        "            fbk.append(round(f.subs(x,y),9))\n",
        "            xk.append((ak[len(ak)-1] + bk[len(bk)-1])/2)\n",
        "            y = xk[len(xk)-1]\n",
        "            fxk.append(round(f.subs(x,y),9))\n",
        "            temp = xk[len(xk)-1] - xk[len(xk)-2]\n",
        "            if temp < 0:\n",
        "                temp = temp * -1\n",
        "            xk_x.append(temp)\n",
        " \n",
        "    return xk,fxk\n",
        " \n",
        "def pontoFixo(f,e,xi):\n",
        "    xk = []\n",
        "    xk.append(xi)\n",
        "    xk_x = []\n",
        "    xk_x.append(\"-\")\n",
        "    end_condition = 0\n",
        "    while not end_condition:\n",
        "        xk.append(f.subs(x,xk[len(xk)-1]))\n",
        "        xk_x.append(abs(xk[len(xk)-1]-xk[len(xk)-2]))\n",
        "        if xk_x[len(xk_x)-1] < e:\n",
        "            end_condition = 1\n",
        "    \n",
        "    Table = PrettyTable([\"k\", \"xk\", \"|x(k) - x(k-1)|\"])\n",
        "    for k in range(0, len(xk)):\n",
        "        Table.add_row([k, xk[k], xk_x[k]])\n",
        "    \n",
        "    print(Table)\n",
        "    print(\"Donde \\u03B5 é aproximadamente \" + str(xk[len(xk)-1]))\n",
        " \n",
        "def graficoPontoFixo(f,e,a,b,xi):\n",
        "    xk = []\n",
        "    xk.append(xi)\n",
        "    xk_x = []\n",
        "    xk_x.append(\"-\")\n",
        "    end_condition = 0\n",
        "    while not end_condition:\n",
        "        xk.append(f.subs(x,xk[len(xk)-1]))\n",
        "        xk_x.append(abs(xk[len(xk)-1]-xk[len(xk)-2]))\n",
        "        if xk_x[len(xk_x)-1] < e:\n",
        "            end_condition = 1\n",
        "    return xk\n",
        " \n",
        "def newton(f, e, a, b):\n",
        "    xk = []\n",
        "    xk.append(b)\n",
        "    xk_x = []\n",
        "    xk_x.append(0)\n",
        "    end_condition = 0\n",
        " \n",
        "    if f.subs(x,xk[len(xk)-1]) * diff(diff(f,x),x).subs(x,xk[len(xk)-1]) > 0:\n",
        "        while not end_condition:\n",
        "            func = f.subs(x,xk[len(xk)-1])\n",
        "            derivate = diff(f,x).subs(x,xk[len(xk)-1])\n",
        "            temp = xk[len(xk)-1] - func/derivate\n",
        "            xk.append(N(temp))\n",
        " \n",
        "            temp2 = xk[len(xk)-2] - xk[len(xk)-1]\n",
        "            if temp2 < 0:\n",
        "                temp2 = temp2 * -1\n",
        " \n",
        "            xk_x.append(N(temp2))\n",
        "            if xk_x[len(xk_x)-1] < e:\n",
        "                end_condition = 1\n",
        "            \n",
        "        Table = PrettyTable([\"k\", \"xk\", \"|x(k) - x(k-1)|\"])\n",
        "        for k in range(1, len(xk)):\n",
        "            Table.add_row([k, xk[k], xk_x[k]])\n",
        "        \n",
        "        print(Table)\n",
        " \n",
        "        print(\"Donde \\u03B5 é aproximadamente \" + str(xk[len(xk)-1]))\n",
        " \n",
        "def graficoNewton(f, e, a, b):\n",
        "    xk = []\n",
        "    xk.append(b)\n",
        "    xk_x = []\n",
        "    xk_x.append(0)\n",
        "    end_condition = 0\n",
        " \n",
        "    if f.subs(x,xk[len(xk)-1]) * diff(diff(f,x),x).subs(x,xk[len(xk)-1]) > 0:\n",
        "        while not end_condition:\n",
        "            func = f.subs(x,xk[len(xk)-1])\n",
        "            derivate = diff(f,x).subs(x,xk[len(xk)-1])\n",
        "            temp = xk[len(xk)-1] - func/derivate\n",
        "            xk.append(N(temp))\n",
        " \n",
        "            temp2 = xk[len(xk)-2] - xk[len(xk)-1]\n",
        "            if temp2 < 0:\n",
        "                temp2 = temp2 * -1\n",
        " \n",
        "            xk_x.append(N(temp2))\n",
        "            if xk_x[len(xk_x)-1] < e:\n",
        "                end_condition = 1\n",
        "    return xk[1:]\n",
        " \n",
        "def secante(f, e, a, b):\n",
        "    if f.subs(x, a)*f.subs(x, b) > 0:\n",
        "      print(\"O procedimento não foi bem sucedido pois f(a) e f(b) tem sinais iguais\")\n",
        "      print(\"f(a) =\", f.subs(x,a))\n",
        "      print(\"f(b) =\", f.subs(x,b))\n",
        "      return\n",
        "    xk = []\n",
        "    xk.append(a)\n",
        "    xk.append(b)\n",
        "    xk_x = []\n",
        "    xk_x.append(0)\n",
        "    xk_x.append(0)\n",
        "    end_condition = 0\n",
        " \n",
        "    while not end_condition:\n",
        "        temp  = f.subs(x, xk[len(xk)-1]) * (xk[len(xk)-1] - xk[len(xk)-2])\n",
        "        temp2 = f.subs(x, xk[len(xk)-1]) - f.subs(x,xk[len(xk)-2])\n",
        "        temp3 = xk[len(xk)-1] - (temp/temp2)\n",
        "        xk.append(temp3)\n",
        " \n",
        "        temp4 = xk[len(xk)-1] - xk[len(xk)-2]\n",
        "        \n",
        "        if temp4 < 0:\n",
        "            temp4 = temp4 * -1\n",
        " \n",
        "        xk_x.append(temp4)\n",
        " \n",
        "        if xk_x[len(xk_x)-1] < e:\n",
        "            end_condition = 1\n",
        " \n",
        "    Table = PrettyTable([\"k\", \"xk\", \"|x(k+1) - x(k)|\"])\n",
        "    for k in range(2, len(xk)):\n",
        "        Table.add_row([k, xk[k], xk_x[k]])\n",
        "        \n",
        "    print(Table)\n",
        "    print(\"Donde \\u03B5 é aproximadamente \" + str(xk[len(xk)-1]))\n",
        " \n",
        "def graficoSecante(f, e, a, b):\n",
        "    if f.subs(x, a)*f.subs(x, b) > 0:\n",
        "      print(\"O procedimento não foi bem sucedido pois f(a) e f(b) tem sinais iguais\")\n",
        "      print(\"f(a) =\", f.subs(x,a))\n",
        "      print(\"f(b) =\", f.subs(x,b))\n",
        "      return\n",
        "    xk = []\n",
        "    xk.append(a)\n",
        "    xk.append(b)\n",
        "    xk_x = []\n",
        "    xk_x.append(0)\n",
        "    xk_x.append(0)\n",
        "    end_condition = 0\n",
        " \n",
        "    while not end_condition:\n",
        "        temp  = f.subs(x, xk[len(xk)-1]) * (xk[len(xk)-1] - xk[len(xk)-2])\n",
        "        temp2 = f.subs(x, xk[len(xk)-1]) - f.subs(x,xk[len(xk)-2])\n",
        "        temp3 = xk[len(xk)-1] - (temp/temp2)\n",
        "        xk.append(temp3)\n",
        " \n",
        "        temp4 = xk[len(xk)-1] - xk[len(xk)-2]\n",
        "        \n",
        "        if temp4 < 0:\n",
        "            temp4 = temp4 * -1\n",
        " \n",
        "        xk_x.append(temp4)\n",
        " \n",
        "        if xk_x[len(xk_x)-1] < e:\n",
        "            end_condition = 1\n",
        "    return xk[2:]\n",
        " \n",
        "def regulaFalsi(f, e, a, b):\n",
        "    if f.subs(x, a)*f.subs(x, b) > 0:\n",
        "      print(\"O procedimento não foi bem sucedido pois f(a) e f(b) tem sinais iguais\")\n",
        "      print(\"f(a) =\", f.subs(x,a))\n",
        "      print(\"f(b) =\", f.subs(x,b))\n",
        "      return\n",
        "    xk = []\n",
        "    xk_x = []\n",
        " \n",
        "    x0 = a\n",
        "    x1 = b\n",
        " \n",
        "    end_condition = 0\n",
        " \n",
        "    while not end_condition:\n",
        "        temp = x1 - f.subs(x, x1) * (x1 - x0) / (f.subs(x, x1) - f.subs(x, x0))\n",
        " \n",
        "        temp2 = temp - x1\n",
        "        \n",
        "        if temp2 < 0:\n",
        "            temp2 = temp2 * -1\n",
        " \n",
        "        if temp2 < e:\n",
        "            xk.append(temp)\n",
        "            xk_x.append(temp2)\n",
        "            end_condition = 1\n",
        "            continue\n",
        " \n",
        "        k = f.subs(x, temp)\n",
        " \n",
        "        if k*f.subs(x, x1) < 0:\n",
        "            x0 = x1\n",
        " \n",
        "        x1 = temp\n",
        "        xk.append(temp)\n",
        "        xk_x.append(temp2)\n",
        "        \n",
        " \n",
        "    Table = PrettyTable([\"k\", \"xk\", \"|x(k) - x(k-1)|\"])\n",
        "    for k in range(len(xk)):\n",
        "        Table.add_row([k+2, xk[k], xk_x[k]])\n",
        "        \n",
        "    print(Table)\n",
        "    print(\"Donde \\u03B5 é aproximadamente \" + str(xk[len(xk)-1]))\n",
        " \n",
        "def graficoRegulaFalsi(f, e, a, b):\n",
        "    if f.subs(x, a)*f.subs(x, b) > 0:\n",
        "      print(\"O procedimento não foi bem sucedido pois f(a) e f(b) tem sinais iguais\")\n",
        "      print(\"f(a) =\", f.subs(x,a))\n",
        "      print(\"f(b) =\", f.subs(x,b))\n",
        "      return\n",
        "    \n",
        "    xk = []\n",
        "    xk_x = []\n",
        " \n",
        "    x0 = a\n",
        "    x1 = b\n",
        " \n",
        "    end_condition = 0\n",
        " \n",
        "    while not end_condition:\n",
        "        temp = x1 - f.subs(x, x1) * (x1 - x0) / (f.subs(x, x1) - f.subs(x, x0))\n",
        " \n",
        "        temp2 = temp - x1\n",
        "        \n",
        "        if temp2 < 0:\n",
        "            temp2 = temp2 * -1\n",
        " \n",
        "        if temp2 < e:\n",
        "            xk.append(temp)\n",
        "            xk_x.append(temp2)\n",
        "            end_condition = 1\n",
        "            continue\n",
        " \n",
        "        k = f.subs(x, temp)\n",
        " \n",
        "        if k*f.subs(x, x1) < 0:\n",
        "            x0 = x1\n",
        " \n",
        "        x1 = temp\n",
        "        xk.append(temp)\n",
        "        xk_x.append(temp2)\n",
        "    return xk"
      ],
      "execution_count": null,
      "outputs": [
        {
          "output_type": "stream",
          "text": [
            "Collecting mpld3\n",
            "\u001b[?25l  Downloading https://files.pythonhosted.org/packages/7d/b4/f380b6d58658106870161d703972b74fc2e66317acf298f873c0816d1fb2/mpld3-0.5.2.tar.gz (888kB)\n",
            "\u001b[K     |████████████████████████████████| 890kB 3.2MB/s \n",
            "\u001b[?25hRequirement already satisfied: jinja2 in /usr/local/lib/python3.7/dist-packages (from mpld3) (2.11.3)\n",
            "Requirement already satisfied: matplotlib in /usr/local/lib/python3.7/dist-packages (from mpld3) (3.2.2)\n",
            "Requirement already satisfied: MarkupSafe>=0.23 in /usr/local/lib/python3.7/dist-packages (from jinja2->mpld3) (2.0.1)\n",
            "Requirement already satisfied: python-dateutil>=2.1 in /usr/local/lib/python3.7/dist-packages (from matplotlib->mpld3) (2.8.1)\n",
            "Requirement already satisfied: kiwisolver>=1.0.1 in /usr/local/lib/python3.7/dist-packages (from matplotlib->mpld3) (1.3.1)\n",
            "Requirement already satisfied: cycler>=0.10 in /usr/local/lib/python3.7/dist-packages (from matplotlib->mpld3) (0.10.0)\n",
            "Requirement already satisfied: numpy>=1.11 in /usr/local/lib/python3.7/dist-packages (from matplotlib->mpld3) (1.19.5)\n",
            "Requirement already satisfied: pyparsing!=2.0.4,!=2.1.2,!=2.1.6,>=2.0.1 in /usr/local/lib/python3.7/dist-packages (from matplotlib->mpld3) (2.4.7)\n",
            "Requirement already satisfied: six>=1.5 in /usr/local/lib/python3.7/dist-packages (from python-dateutil>=2.1->matplotlib->mpld3) (1.15.0)\n",
            "Building wheels for collected packages: mpld3\n",
            "  Building wheel for mpld3 (setup.py) ... \u001b[?25l\u001b[?25hdone\n",
            "  Created wheel for mpld3: filename=mpld3-0.5.2-cp37-none-any.whl size=200644 sha256=fac8d9cb47e3800650d39bf7415e7a3b6e4e25153aab5f793354dd159cc6a362\n",
            "  Stored in directory: /root/.cache/pip/wheels/21/73/06/ea4b85609301850b1289a282852d92e22fcbf7a250ed5f547f\n",
            "Successfully built mpld3\n",
            "Installing collected packages: mpld3\n",
            "Successfully installed mpld3-0.5.2\n",
            "Collecting git+https://github.com/javadba/mpld3@display_fix\n",
            "  Cloning https://github.com/javadba/mpld3 (to revision display_fix) to /tmp/pip-req-build-cenxxptm\n",
            "  Running command git clone -q https://github.com/javadba/mpld3 /tmp/pip-req-build-cenxxptm\n",
            "  Running command git checkout -b display_fix --track origin/display_fix\n",
            "  Switched to a new branch 'display_fix'\n",
            "  Branch 'display_fix' set up to track remote branch 'display_fix' from 'origin'.\n",
            "  Running command git submodule update --init --recursive -q\n",
            "Building wheels for collected packages: mpld3\n",
            "  Building wheel for mpld3 (setup.py) ... \u001b[?25l\u001b[?25hdone\n",
            "  Created wheel for mpld3: filename=mpld3-0.3.1.dev1-cp37-none-any.whl size=116984 sha256=700e4b91e8ed4ef05b0c4093bd90e6a43c4e7d958748dc3a079af3e88b65e5ef\n",
            "  Stored in directory: /tmp/pip-ephem-wheel-cache-8de58ncx/wheels/68/68/6f/80a05346b88378d8e262669b1ae89773bafe4df4e536e92166\n",
            "Successfully built mpld3\n",
            "Installing collected packages: mpld3\n",
            "  Found existing installation: mpld3 0.5.2\n",
            "    Uninstalling mpld3-0.5.2:\n",
            "      Successfully uninstalled mpld3-0.5.2\n",
            "Successfully installed mpld3-0.3.1.dev1\n"
          ],
          "name": "stdout"
        }
      ]
    },
    {
      "cell_type": "markdown",
      "metadata": {
        "id": "XkKknAAaTkBe"
      },
      "source": [
        "## 1. Método da Bissecção"
      ]
    },
    {
      "cell_type": "markdown",
      "metadata": {
        "id": "mVs2QmvsTx7G"
      },
      "source": [
        "De modo a empregar o método da bissecção, basta usar o procedimento bisseccao(f,epsilon,a,b).\n",
        "\n",
        "Exemplo: Calcule a raiz positiva da equação  $f(x)=x^2−3$  com tolerância  $\\varepsilon ≤0.01.$"
      ]
    },
    {
      "cell_type": "code",
      "metadata": {
        "id": "7S-TKvPsnZ44"
      },
      "source": [
        "import math\n",
        "def f(x): return x**2-3"
      ],
      "execution_count": null,
      "outputs": []
    },
    {
      "cell_type": "markdown",
      "metadata": {
        "id": "r-MlRx5zU4Ai"
      },
      "source": [
        "Para a escolha adequada do intervalo [a,b], é conveniente plotar o gráfico de f recorrendo ao comando:"
      ]
    },
    {
      "cell_type": "code",
      "metadata": {
        "id": "tGBQ4zvhVQB_",
        "colab": {
          "base_uri": "https://localhost:8080/",
          "height": 281
        },
        "outputId": "9fbd4aa9-6243-4ab0-b8cc-f95e3b0d2729"
      },
      "source": [
        "plot2d(f(x), -1, 2)"
      ],
      "execution_count": null,
      "outputs": [
        {
          "output_type": "display_data",
          "data": {
            "image/png": "[encoded data removed]",
            "text/plain": [
              "<Figure size 432x288 with 1 Axes>"
            ]
          },
          "metadata": {
            "tags": [],
            "needs_background": "light"
          }
        }
      ]
    },
    {
      "cell_type": "markdown",
      "metadata": {
        "id": "5F-vmV3ZWpG_"
      },
      "source": [
        "Observando o gráfico acima, escolhamos os pontos $a=1$ e $b=2$, por exemplo. Logo,"
      ]
    },
    {
      "cell_type": "code",
      "metadata": {
        "id": "Q1Dy6eSyWt5S",
        "colab": {
          "base_uri": "https://localhost:8080/"
        },
        "outputId": "d146b379-afe5-416e-a340-b13f592b8615"
      },
      "source": [
        "bisseccao(f(x), 0.01, 1, 2)"
      ],
      "execution_count": null,
      "outputs": [
        {
          "output_type": "stream",
          "text": [
            "+---+---------+----------+--------------+-------------+-----------+--------------+-----------------+\n",
            "| k |    a    |    b     |     f(a)     |     f(b)    |     x     |     f(x)     | |x(k) - x(k-1)| |\n",
            "+---+---------+----------+--------------+-------------+-----------+--------------+-----------------+\n",
            "| 0 |    1    |    2     |      -2      |      1      |    1.5    | -0.750000000 |        -        |\n",
            "| 1 |   1.5   |    2     | -0.750000000 |      1      |    1.75   | 0.062500000  |       0.25      |\n",
            "| 2 |   1.5   |   1.75   | -0.750000000 | 0.062500000 |   1.625   | -0.359375000 |      0.125      |\n",
            "| 3 |  1.625  |   1.75   | -0.359375000 | 0.062500000 |   1.6875  | -0.152343750 |      0.0625     |\n",
            "| 4 |  1.6875 |   1.75   | -0.152343750 | 0.062500000 |  1.71875  | -0.045898438 |     0.03125     |\n",
            "| 5 | 1.71875 |   1.75   | -0.045898438 | 0.062500000 |  1.734375 | 0.008056641  |     0.015625    |\n",
            "| 6 | 1.71875 | 1.734375 | -0.045898438 | 0.008056641 | 1.7265625 | -0.018981934 |    0.0078125    |\n",
            "+---+---------+----------+--------------+-------------+-----------+--------------+-----------------+\n",
            "Donde ε é aproximadamente 1.7265625\n"
          ],
          "name": "stdout"
        }
      ]
    },
    {
      "cell_type": "code",
      "metadata": {
        "colab": {
          "base_uri": "https://localhost:8080/"
        },
        "id": "eH9FU5vnyhIw",
        "outputId": "48a49f0f-983b-45c7-b5d3-3bd0723ccc7e"
      },
      "source": [
        "newton(f(x), 0.001, .9, .96)"
      ],
      "execution_count": null,
      "outputs": [
        {
          "output_type": "stream",
          "text": [
            "+---+-------------------+---------------------+\n",
            "| k |         xk        |   |x(k) - x(k-1)|   |\n",
            "+---+-------------------+---------------------+\n",
            "| 1 | 0.953653296625298 | 0.00634670337470233 |\n",
            "| 2 | 0.953613900950977 | 3.93956743207635e-5 |\n",
            "+---+-------------------+---------------------+\n",
            "Donde ε é aproximadamente 0.953613900950977\n"
          ],
          "name": "stdout"
        }
      ]
    },
    {
      "cell_type": "markdown",
      "metadata": {
        "id": "UsLSuWDYNJmn"
      },
      "source": [
        "Agora, recorramos ao procedimento que nos dará o gráfico de $f(x)$ e das iterações obtidas pelo método da bissecção:"
      ]
    },
    {
      "cell_type": "code",
      "metadata": {
        "id": "F7QuhKGXSQ6o",
        "colab": {
          "base_uri": "https://localhost:8080/",
          "height": 17
        },
        "outputId": "5e0fd51a-8b2a-401a-9afa-bc5276640e87"
      },
      "source": [
        "result = graficoBissec(f(x), 0.01, 1, 2)\n",
        "inicio = 1\n",
        "fim = 2\n",
        "z = np.arange(inicio,fim,0.001)\n",
        "    \n",
        "y = []\n",
        "for i in range(len(z)):\n",
        "    y.append(f(x).subs(x,z[i]))\n",
        "\n",
        "fig, ax = plt.subplots()\n",
        "ax.set(title='Gráfico função f(x)='+str(f(x)))\n",
        "ax.plot(z,y, \"-o\", markersize=2)\n",
        "plt.plot(result[0],result[1],'ro')\n",
        "ax.grid()\n",
        "plugins.connect(fig, plugins.MousePosition(fontsize=14))\n",
        "\n",
        "mpld3.display()"
      ],
      "execution_count": null,
      "outputs": [
        {
          "output_type": "execute_result",
          "data": {
            "text/html": [
              "\n",
              "\n",
              "<style>\n",
              "\n",
              "</style>\n",
              "\n",
              "<div id=\"fig_el591404109156750883935169732\"></div>\n",
              "<script>\n",
              "function mpld3_load_lib(url, callback){\n",
              "  var s = document.createElement('script');\n",
              "  s.src = url;\n",
              "  s.async = true;\n",
              "  s.onreadystatechange = s.onload = callback;\n",
              "  s.onerror = function(){console.warn(\"failed to load library \" + url);};\n",
              "  document.getElementsByTagName(\"head\")[0].appendChild(s);\n",
              "}\n",
              "\n",
              "if(typeof(mpld3) !== \"undefined\" && mpld3._mpld3IsLoaded){\n",
              "   // already loaded: just create the figure\n",
              "   !function(mpld3){\n",
              "       \n",
              "       mpld3.draw_figure(\"fig_el591404109156750883935169732\", {\"width\": 432.0, \"height\": 288.0, \"axes\": [{\"bbox\": [0.125, 0.125, 0.775, 0.755], \"xlim\": [0.9500500000000055, 2.0489499999998846], \"ylim\": [-2.149800049999978, 1.1458010499995381], \"xdomain\": [0.9500500000000055, 2.0489499999998846], \"ydomain\": [-2.149800049999978, 1.1458010499995381], \"xscale\": \"linear\", \"yscale\": \"linear\", \"axes\": [{\"position\": \"bottom\", \"nticks\": 8, \"tickvalues\": null, \"tickformat\": null, \"scale\": \"linear\", \"fontsize\": 10.0, \"grid\": {\"gridOn\": true, \"color\": \"#B0B0B0\", \"dasharray\": \"none\", \"alpha\": 1.0}, \"visible\": true}, {\"position\": \"left\", \"nticks\": 9, \"tickvalues\": null, \"tickformat\": null, \"scale\": \"linear\", \"fontsize\": 10.0, \"grid\": {\"gridOn\": true, \"color\": \"#B0B0B0\", \"dasharray\": \"none\", \"alpha\": 1.0}, \"visible\": true}], \"axesbg\": \"#FFFFFF\", \"axesbgalpha\": null, \"zoomable\": true, \"id\": \"el59140410917172048\", \"lines\": [{\"data\": \"data01\", \"xindex\": 0, \"yindex\": 1, \"coordinates\": \"data\", \"id\": \"el59140410757630992\", \"color\": \"#1F77B4\", \"linewidth\": 1.5, \"dasharray\": \"none\", \"alpha\": 1, \"zorder\": 2, \"drawstyle\": \"default\"}], \"paths\": [], \"markers\": [{\"data\": \"data01\", \"xindex\": 0, \"yindex\": 1, \"coordinates\": \"data\", \"id\": \"el59140410757630992pts\", \"facecolor\": \"#1F77B4\", \"edgecolor\": \"#1F77B4\", \"edgewidth\": 1.0, \"alpha\": 1, \"zorder\": 2, \"markerpath\": [[[0.0, 1.0], [0.2652031, 1.0], [0.5195798707848535, 0.8946336915882417], [0.7071067811865476, 0.7071067811865476], [0.8946336915882417, 0.5195798707848535], [1.0, 0.2652031], [1.0, 0.0], [1.0, -0.2652031], [0.8946336915882417, -0.5195798707848535], [0.7071067811865476, -0.7071067811865476], [0.5195798707848535, -0.8946336915882417], [0.2652031, -1.0], [0.0, -1.0], [-0.2652031, -1.0], [-0.5195798707848535, -0.8946336915882417], [-0.7071067811865476, -0.7071067811865476], [-0.8946336915882417, -0.5195798707848535], [-1.0, -0.2652031], [-1.0, 0.0], [-1.0, 0.2652031], [-0.8946336915882417, 0.5195798707848535], [-0.7071067811865476, 0.7071067811865476], [-0.5195798707848535, 0.8946336915882417], [-0.2652031, 1.0], [0.0, 1.0]], [\"M\", \"C\", \"C\", \"C\", \"C\", \"C\", \"C\", \"C\", \"C\", \"Z\"]]}, {\"data\": \"data02\", \"xindex\": 0, \"yindex\": 1, \"coordinates\": \"data\", \"id\": \"el59140410757674000pts\", \"facecolor\": \"#FF0000\", \"edgecolor\": \"#FF0000\", \"edgewidth\": 1.0, \"alpha\": 1, \"zorder\": 2, \"markerpath\": [[[0.0, 3.0], [0.7956093000000001, 3.0], [1.5587396123545605, 2.683901074764725], [2.121320343559643, 2.121320343559643], [2.683901074764725, 1.5587396123545605], [3.0, 0.7956093000000001], [3.0, 0.0], [3.0, -0.7956093000000001], [2.683901074764725, -1.5587396123545605], [2.121320343559643, -2.121320343559643], [1.5587396123545605, -2.683901074764725], [0.7956093000000001, -3.0], [0.0, -3.0], [-0.7956093000000001, -3.0], [-1.5587396123545605, -2.683901074764725], [-2.121320343559643, -2.121320343559643], [-2.683901074764725, -1.5587396123545605], [-3.0, -0.7956093000000001], [-3.0, 0.0], [-3.0, 0.7956093000000001], [-2.683901074764725, 1.5587396123545605], [-2.121320343559643, 2.121320343559643], [-1.5587396123545605, 2.683901074764725], [-0.7956093000000001, 3.0], [0.0, 3.0]], [\"M\", \"C\", \"C\", \"C\", \"C\", \"C\", \"C\", \"C\", \"C\", \"Z\"]]}], \"texts\": [{\"text\": \"Gr\\u00e1fico fun\\u00e7\\u00e3o f(x)=x**2 - 3\", \"position\": [0.49999999999999994, 1.0275938189845473], \"coordinates\": \"axes\", \"h_anchor\": \"middle\", \"v_baseline\": \"auto\", \"rotation\": -0.0, \"fontsize\": 12.0, \"color\": \"#000000\", \"alpha\": 1, \"zorder\": 3, \"id\": \"el59140410914915472\"}], \"collections\": [], \"images\": [], \"sharex\": [], \"sharey\": []}], \"data\": {\"data01\": [[1.0, -2.0], [1.001, -1.9979990000000003], [1.0019999999999998, -1.9959960000000005], [1.0029999999999997, -1.9939910000000007], [1.0039999999999996, -1.9919840000000009], [1.0049999999999994, -1.9899750000000012], [1.0059999999999993, -1.9879640000000014], [1.0069999999999992, -1.9859510000000016], [1.0079999999999991, -1.9839360000000017], [1.008999999999999, -1.981919000000002], [1.009999999999999, -1.9799000000000022], [1.0109999999999988, -1.9778790000000024], [1.0119999999999987, -1.9758560000000027], [1.0129999999999986, -1.973831000000003], [1.0139999999999985, -1.9718040000000032], [1.0149999999999983, -1.9697750000000034], [1.0159999999999982, -1.9677440000000035], [1.0169999999999981, -1.9657110000000038], [1.017999999999998, -1.963676000000004], [1.018999999999998, -1.9616390000000044], [1.0199999999999978, -1.9596000000000044], [1.0209999999999977, -1.9575590000000047], [1.0219999999999976, -1.955516000000005], [1.0229999999999975, -1.9534710000000053], [1.0239999999999974, -1.9514240000000054], [1.0249999999999972, -1.9493750000000056], [1.0259999999999971, -1.9473240000000058], [1.026999999999997, -1.9452710000000062], [1.027999999999997, -1.9432160000000063], [1.0289999999999968, -1.9411590000000065], [1.0299999999999967, -1.9391000000000067], [1.0309999999999966, -1.937039000000007], [1.0319999999999965, -1.9349760000000074], [1.0329999999999964, -1.9329110000000076], [1.0339999999999963, -1.9308440000000078], [1.0349999999999961, -1.928775000000008], [1.035999999999996, -1.9267040000000082], [1.036999999999996, -1.9246310000000084], [1.0379999999999958, -1.9225560000000086], [1.0389999999999957, -1.920479000000009], [1.0399999999999956, -1.9184000000000092], [1.0409999999999955, -1.9163190000000094], [1.0419999999999954, -1.9142360000000096], [1.0429999999999953, -1.91215100000001], [1.0439999999999952, -1.9100640000000102], [1.044999999999995, -1.9079750000000104], [1.045999999999995, -1.9058840000000106], [1.0469999999999948, -1.903791000000011], [1.0479999999999947, -1.9016960000000112], [1.0489999999999946, -1.8995990000000114], [1.0499999999999945, -1.8975000000000115], [1.0509999999999944, -1.8953990000000118], [1.0519999999999943, -1.893296000000012], [1.0529999999999942, -1.8911910000000123], [1.053999999999994, -1.8890840000000126], [1.054999999999994, -1.8869750000000127], [1.0559999999999938, -1.884864000000013], [1.0569999999999937, -1.8827510000000132], [1.0579999999999936, -1.8806360000000135], [1.0589999999999935, -1.8785190000000138], [1.0599999999999934, -1.876400000000014], [1.0609999999999933, -1.8742790000000142], [1.0619999999999932, -1.8721560000000146], [1.062999999999993, -1.8700310000000147], [1.063999999999993, -1.867904000000015], [1.0649999999999928, -1.8657750000000153], [1.0659999999999927, -1.8636440000000154], [1.0669999999999926, -1.8615110000000157], [1.0679999999999925, -1.859376000000016], [1.0689999999999924, -1.8572390000000163], [1.0699999999999923, -1.8551000000000164], [1.0709999999999922, -1.8529590000000167], [1.071999999999992, -1.850816000000017], [1.072999999999992, -1.8486710000000173], [1.0739999999999919, -1.8465240000000176], [1.0749999999999917, -1.8443750000000179], [1.0759999999999916, -1.842224000000018], [1.0769999999999915, -1.8400710000000182], [1.0779999999999914, -1.8379160000000185], [1.0789999999999913, -1.8357590000000188], [1.0799999999999912, -1.833600000000019], [1.080999999999991, -1.8314390000000194], [1.081999999999991, -1.8292760000000194], [1.0829999999999909, -1.8271110000000197], [1.0839999999999907, -1.82494400000002], [1.0849999999999906, -1.8227750000000202], [1.0859999999999905, -1.8206040000000205], [1.0869999999999904, -1.8184310000000208], [1.0879999999999903, -1.8162560000000212], [1.0889999999999902, -1.8140790000000213], [1.08999999999999, -1.8119000000000216], [1.09099999999999, -1.8097190000000218], [1.0919999999999899, -1.8075360000000222], [1.0929999999999898, -1.8053510000000224], [1.0939999999999896, -1.8031640000000226], [1.0949999999999895, -1.8009750000000229], [1.0959999999999894, -1.7987840000000233], [1.0969999999999893, -1.7965910000000234], [1.0979999999999892, -1.7943960000000236], [1.098999999999989, -1.7921990000000239], [1.099999999999989, -1.7900000000000242], [1.1009999999999889, -1.7877990000000246], [1.1019999999999888, -1.7855960000000248], [1.1029999999999887, -1.783391000000025], [1.1039999999999885, -1.7811840000000252], [1.1049999999999884, -1.7789750000000255], [1.1059999999999883, -1.7767640000000258], [1.1069999999999882, -1.7745510000000262], [1.107999999999988, -1.7723360000000263], [1.108999999999988, -1.7701190000000266], [1.1099999999999879, -1.767900000000027], [1.1109999999999878, -1.765679000000027], [1.1119999999999877, -1.7634560000000274], [1.1129999999999876, -1.7612310000000277], [1.1139999999999874, -1.759004000000028], [1.1149999999999873, -1.7567750000000282], [1.1159999999999872, -1.7545440000000285], [1.1169999999999871, -1.7523110000000288], [1.117999999999987, -1.750076000000029], [1.118999999999987, -1.7478390000000292], [1.1199999999999868, -1.7456000000000296], [1.1209999999999867, -1.7433590000000299], [1.1219999999999866, -1.74111600000003], [1.1229999999999865, -1.7388710000000305], [1.1239999999999863, -1.7366240000000308], [1.1249999999999862, -1.7343750000000309], [1.1259999999999861, -1.7321240000000313], [1.126999999999986, -1.7298710000000315], [1.127999999999986, -1.7276160000000318], [1.1289999999999858, -1.725359000000032], [1.1299999999999857, -1.7231000000000323], [1.1309999999999856, -1.7208390000000326], [1.1319999999999855, -1.718576000000033], [1.1329999999999854, -1.7163110000000332], [1.1339999999999852, -1.7140440000000334], [1.1349999999999851, -1.7117750000000338], [1.135999999999985, -1.709504000000034], [1.136999999999985, -1.7072310000000344], [1.1379999999999848, -1.7049560000000346], [1.1389999999999847, -1.702679000000035], [1.1399999999999846, -1.7004000000000352], [1.1409999999999845, -1.6981190000000355], [1.1419999999999844, -1.6958360000000356], [1.1429999999999843, -1.693551000000036], [1.1439999999999841, -1.6912640000000363], [1.144999999999984, -1.6889750000000365], [1.145999999999984, -1.686684000000037], [1.1469999999999838, -1.684391000000037], [1.1479999999999837, -1.6820960000000373], [1.1489999999999836, -1.6797990000000378], [1.1499999999999835, -1.677500000000038], [1.1509999999999834, -1.6751990000000383], [1.1519999999999833, -1.6728960000000386], [1.1529999999999831, -1.6705910000000388], [1.153999999999983, -1.6682840000000392], [1.154999999999983, -1.6659750000000395], [1.1559999999999828, -1.6636640000000398], [1.1569999999999827, -1.66135100000004], [1.1579999999999826, -1.6590360000000404], [1.1589999999999825, -1.6567190000000407], [1.1599999999999824, -1.654400000000041], [1.1609999999999823, -1.6520790000000412], [1.1619999999999822, -1.6497560000000415], [1.162999999999982, -1.6474310000000418], [1.163999999999982, -1.645104000000042], [1.1649999999999818, -1.6427750000000423], [1.1659999999999817, -1.6404440000000426], [1.1669999999999816, -1.638111000000043], [1.1679999999999815, -1.6357760000000432], [1.1689999999999814, -1.6334390000000436], [1.1699999999999813, -1.6311000000000437], [1.1709999999999812, -1.628759000000044], [1.171999999999981, -1.6264160000000445], [1.172999999999981, -1.6240710000000447], [1.1739999999999808, -1.621724000000045], [1.1749999999999807, -1.6193750000000453], [1.1759999999999806, -1.6170240000000455], [1.1769999999999805, -1.614671000000046], [1.1779999999999804, -1.6123160000000463], [1.1789999999999803, -1.6099590000000465], [1.1799999999999802, -1.6076000000000468], [1.18099999999998, -1.6052390000000472], [1.18199999999998, -1.6028760000000475], [1.1829999999999798, -1.6005110000000478], [1.1839999999999797, -1.598144000000048], [1.1849999999999796, -1.5957750000000483], [1.1859999999999795, -1.5934040000000487], [1.1869999999999794, -1.591031000000049], [1.1879999999999793, -1.5886560000000491], [1.1889999999999792, -1.5862790000000495], [1.189999999999979, -1.5839000000000498], [1.190999999999979, -1.58151900000005], [1.1919999999999789, -1.5791360000000505], [1.1929999999999787, -1.5767510000000506], [1.1939999999999786, -1.574364000000051], [1.1949999999999785, -1.5719750000000514], [1.1959999999999784, -1.5695840000000516], [1.1969999999999783, -1.567191000000052], [1.1979999999999782, -1.5647960000000523], [1.198999999999978, -1.5623990000000525], [1.199999999999978, -1.560000000000053], [1.2009999999999779, -1.5575990000000532], [1.2019999999999778, -1.5551960000000535], [1.2029999999999776, -1.5527910000000538], [1.2039999999999775, -1.5503840000000542], [1.2049999999999774, -1.5479750000000545], [1.2059999999999773, -1.5455640000000548], [1.2069999999999772, -1.543151000000055], [1.207999999999977, -1.5407360000000554], [1.208999999999977, -1.5383190000000557], [1.2099999999999769, -1.535900000000056], [1.2109999999999768, -1.5334790000000562], [1.2119999999999767, -1.5310560000000566], [1.2129999999999765, -1.528631000000057], [1.2139999999999764, -1.5262040000000572], [1.2149999999999763, -1.5237750000000576], [1.2159999999999762, -1.5213440000000578], [1.216999999999976, -1.518911000000058], [1.217999999999976, -1.5164760000000586], [1.2189999999999759, -1.5140390000000588], [1.2199999999999758, -1.5116000000000591], [1.2209999999999757, -1.5091590000000594], [1.2219999999999756, -1.5067160000000597], [1.2229999999999754, -1.50427100000006], [1.2239999999999753, -1.5018240000000604], [1.2249999999999752, -1.4993750000000607], [1.225999999999975, -1.496924000000061], [1.226999999999975, -1.4944710000000614], [1.227999999999975, -1.4920160000000617], [1.2289999999999748, -1.489559000000062], [1.2299999999999747, -1.4871000000000623], [1.2309999999999746, -1.4846390000000627], [1.2319999999999744, -1.482176000000063], [1.2329999999999743, -1.4797110000000633], [1.2339999999999742, -1.4772440000000635], [1.2349999999999741, -1.474775000000064], [1.235999999999974, -1.4723040000000642], [1.236999999999974, -1.4698310000000645], [1.2379999999999738, -1.467356000000065], [1.2389999999999737, -1.4648790000000653], [1.2399999999999736, -1.4624000000000656], [1.2409999999999735, -1.459919000000066], [1.2419999999999733, -1.4574360000000661], [1.2429999999999732, -1.4549510000000665], [1.2439999999999731, -1.4524640000000668], [1.244999999999973, -1.4499750000000673], [1.245999999999973, -1.4474840000000675], [1.2469999999999728, -1.4449910000000679], [1.2479999999999727, -1.4424960000000682], [1.2489999999999726, -1.4399990000000684], [1.2499999999999725, -1.4375000000000688], [1.2509999999999724, -1.4349990000000692], [1.2519999999999722, -1.4324960000000695], [1.2529999999999721, -1.4299910000000697], [1.253999999999972, -1.4274840000000701], [1.254999999999972, -1.4249750000000705], [1.2559999999999718, -1.4224640000000708], [1.2569999999999717, -1.4199510000000712], [1.2579999999999716, -1.4174360000000714], [1.2589999999999715, -1.4149190000000718], [1.2599999999999714, -1.4124000000000723], [1.2609999999999713, -1.4098790000000725], [1.2619999999999711, -1.4073560000000729], [1.262999999999971, -1.4048310000000732], [1.263999999999971, -1.4023040000000735], [1.2649999999999708, -1.399775000000074], [1.2659999999999707, -1.397244000000074], [1.2669999999999706, -1.3947110000000744], [1.2679999999999705, -1.392176000000075], [1.2689999999999704, -1.3896390000000751], [1.2699999999999703, -1.3871000000000755], [1.2709999999999702, -1.3845590000000758], [1.27199999999997, -1.3820160000000763], [1.27299999999997, -1.3794710000000765], [1.2739999999999698, -1.3769240000000769], [1.2749999999999697, -1.3743750000000772], [1.2759999999999696, -1.3718240000000776], [1.2769999999999695, -1.3692710000000778], [1.2779999999999694, -1.3667160000000782], [1.2789999999999693, -1.3641590000000785], [1.2799999999999692, -1.361600000000079], [1.280999999999969, -1.3590390000000794], [1.281999999999969, -1.3564760000000797], [1.2829999999999688, -1.35391100000008], [1.2839999999999687, -1.3513440000000803], [1.2849999999999686, -1.3487750000000807], [1.2859999999999685, -1.346204000000081], [1.2869999999999684, -1.3436310000000813], [1.2879999999999683, -1.3410560000000817], [1.2889999999999682, -1.3384790000000821], [1.289999999999968, -1.3359000000000825], [1.290999999999968, -1.3333190000000827], [1.2919999999999678, -1.3307360000000832], [1.2929999999999677, -1.3281510000000833], [1.2939999999999676, -1.325564000000084], [1.2949999999999675, -1.3229750000000842], [1.2959999999999674, -1.3203840000000846], [1.2969999999999673, -1.3177910000000848], [1.2979999999999672, -1.3151960000000853], [1.298999999999967, -1.3125990000000856], [1.299999999999967, -1.310000000000086], [1.3009999999999668, -1.3073990000000864], [1.3019999999999667, -1.3047960000000867], [1.3029999999999666, -1.302191000000087], [1.3039999999999665, -1.2995840000000873], [1.3049999999999664, -1.2969750000000877], [1.3059999999999663, -1.294364000000088], [1.3069999999999662, -1.2917510000000885], [1.307999999999966, -1.2891360000000887], [1.308999999999966, -1.286519000000089], [1.3099999999999659, -1.2839000000000895], [1.3109999999999657, -1.2812790000000898], [1.3119999999999656, -1.2786560000000902], [1.3129999999999655, -1.2760310000000905], [1.3139999999999654, -1.2734040000000908], [1.3149999999999653, -1.2707750000000912], [1.3159999999999652, -1.2681440000000916], [1.316999999999965, -1.265511000000092], [1.317999999999965, -1.2628760000000923], [1.3189999999999649, -1.2602390000000927], [1.3199999999999648, -1.257600000000093], [1.3209999999999646, -1.2549590000000934], [1.3219999999999645, -1.2523160000000937], [1.3229999999999644, -1.2496710000000941], [1.3239999999999643, -1.2470240000000945], [1.3249999999999642, -1.2443750000000948], [1.325999999999964, -1.2417240000000953], [1.326999999999964, -1.2390710000000955], [1.3279999999999639, -1.2364160000000959], [1.3289999999999638, -1.2337590000000964], [1.3299999999999637, -1.2311000000000967], [1.3309999999999635, -1.228439000000097], [1.3319999999999634, -1.2257760000000975], [1.3329999999999633, -1.2231110000000978], [1.3339999999999632, -1.2204440000000982], [1.334999999999963, -1.2177750000000984], [1.335999999999963, -1.2151040000000988], [1.3369999999999629, -1.2124310000000993], [1.3379999999999628, -1.2097560000000995], [1.3389999999999627, -1.2070790000001], [1.3399999999999626, -1.2044000000001003], [1.3409999999999624, -1.2017190000001008], [1.3419999999999623, -1.199036000000101], [1.3429999999999622, -1.1963510000001014], [1.3439999999999621, -1.1936640000001018], [1.344999999999962, -1.1909750000001023], [1.345999999999962, -1.1882840000001025], [1.3469999999999618, -1.1855910000001029], [1.3479999999999617, -1.1828960000001034], [1.3489999999999616, -1.1801990000001037], [1.3499999999999615, -1.1775000000001041], [1.3509999999999613, -1.1747990000001045], [1.3519999999999612, -1.1720960000001048], [1.3529999999999611, -1.169391000000105], [1.353999999999961, -1.1666840000001055], [1.354999999999961, -1.163975000000106], [1.3559999999999608, -1.1612640000001064], [1.3569999999999607, -1.1585510000001067], [1.3579999999999606, -1.1558360000001071], [1.3589999999999605, -1.1531190000001075], [1.3599999999999604, -1.1504000000001078], [1.3609999999999602, -1.1476790000001083], [1.3619999999999601, -1.1449560000001087], [1.36299999999996, -1.142231000000109], [1.36399999999996, -1.1395040000001093], [1.3649999999999598, -1.1367750000001098], [1.3659999999999597, -1.1340440000001102], [1.3669999999999596, -1.1313110000001105], [1.3679999999999595, -1.1285760000001108], [1.3689999999999594, -1.1258390000001113], [1.3699999999999593, -1.1231000000001117], [1.3709999999999591, -1.120359000000112], [1.371999999999959, -1.1176160000001125], [1.372999999999959, -1.1148710000001127], [1.3739999999999588, -1.1121240000001131], [1.3749999999999587, -1.1093750000001135], [1.3759999999999586, -1.106624000000114], [1.3769999999999585, -1.1038710000001144], [1.3779999999999584, -1.1011160000001148], [1.3789999999999583, -1.098359000000115], [1.3799999999999581, -1.0956000000001156], [1.380999999999958, -1.0928390000001158], [1.381999999999958, -1.0900760000001162], [1.3829999999999578, -1.0873110000001167], [1.3839999999999577, -1.084544000000117], [1.3849999999999576, -1.0817750000001174], [1.3859999999999575, -1.0790040000001178], [1.3869999999999574, -1.0762310000001183], [1.3879999999999573, -1.0734560000001185], [1.3889999999999572, -1.070679000000119], [1.389999999999957, -1.0679000000001193], [1.390999999999957, -1.0651190000001198], [1.3919999999999568, -1.0623360000001203], [1.3929999999999567, -1.0595510000001205], [1.3939999999999566, -1.056764000000121], [1.3949999999999565, -1.0539750000001213], [1.3959999999999564, -1.0511840000001218], [1.3969999999999563, -1.0483910000001222], [1.3979999999999562, -1.0455960000001225], [1.398999999999956, -1.042799000000123], [1.399999999999956, -1.0400000000001233], [1.4009999999999558, -1.0371990000001237], [1.4019999999999557, -1.0343960000001242], [1.4029999999999556, -1.0315910000001245], [1.4039999999999555, -1.028784000000125], [1.4049999999999554, -1.0259750000001253], [1.4059999999999553, -1.0231640000001256], [1.4069999999999552, -1.0203510000001261], [1.407999999999955, -1.0175360000001266], [1.408999999999955, -1.014719000000127], [1.4099999999999548, -1.0119000000001273], [1.4109999999999547, -1.0090790000001277], [1.4119999999999546, -1.0062560000001282], [1.4129999999999545, -1.0034310000001285], [1.4139999999999544, -1.0006040000001288], [1.4149999999999543, -0.9977750000001295], [1.4159999999999542, -0.99494400000013], [1.416999999999954, -0.9921110000001301], [1.417999999999954, -0.9892760000001304], [1.4189999999999539, -0.9864390000001309], [1.4199999999999537, -0.9836000000001315], [1.4209999999999536, -0.9807590000001318], [1.4219999999999535, -0.9779160000001323], [1.4229999999999534, -0.9750710000001326], [1.4239999999999533, -0.972224000000133], [1.4249999999999532, -0.9693750000001335], [1.425999999999953, -0.9665240000001338], [1.426999999999953, -0.9636710000001343], [1.4279999999999529, -0.9608160000001345], [1.4289999999999528, -0.9579590000001352], [1.4299999999999526, -0.9551000000001353], [1.4309999999999525, -0.952239000000136], [1.4319999999999524, -0.9493760000001363], [1.4329999999999523, -0.9465110000001369], [1.4339999999999522, -0.9436440000001372], [1.434999999999952, -0.9407750000001376], [1.435999999999952, -0.9379040000001377], [1.4369999999999519, -0.9350310000001385], [1.4379999999999518, -0.9321560000001385], [1.4389999999999517, -0.9292790000001392], [1.4399999999999515, -0.9264000000001396], [1.4409999999999514, -0.9235190000001401], [1.4419999999999513, -0.9206360000001403], [1.4429999999999512, -0.9177510000001408], [1.443999999999951, -0.9148640000001413], [1.444999999999951, -0.9119750000001416], [1.4459999999999509, -0.9090840000001421], [1.4469999999999508, -0.9061910000001423], [1.4479999999999507, -0.9032960000001431], [1.4489999999999505, -0.9003990000001432], [1.4499999999999504, -0.8975000000001438], [1.4509999999999503, -0.8945990000001443], [1.4519999999999502, -0.8916960000001444], [1.45299999999995, -0.8887910000001451], [1.45399999999995, -0.8858840000001456], [1.4549999999999499, -0.8829750000001457], [1.4559999999999498, -0.8800640000001461], [1.4569999999999497, -0.8771510000001466], [1.4579999999999496, -0.8742360000001472], [1.4589999999999494, -0.8713190000001476], [1.4599999999999493, -0.8684000000001477], [1.4609999999999492, -0.8654790000001484], [1.4619999999999491, -0.8625560000001489], [1.462999999999949, -0.859631000000149], [1.463999999999949, -0.8567040000001498], [1.4649999999999488, -0.8537750000001498], [1.4659999999999487, -0.8508440000001505], [1.4669999999999486, -0.8479110000001508], [1.4679999999999485, -0.8449760000001514], [1.4689999999999483, -0.8420390000001516], [1.4699999999999482, -0.8391000000001521], [1.4709999999999481, -0.8361590000001526], [1.471999999999948, -0.833216000000153], [1.472999999999948, -0.8302710000001534], [1.4739999999999478, -0.827324000000154], [1.4749999999999477, -0.8243750000001544], [1.4759999999999476, -0.8214240000001549], [1.4769999999999475, -0.8184710000001552], [1.4779999999999474, -0.8155160000001556], [1.4789999999999472, -0.8125590000001561], [1.4799999999999471, -0.8096000000001564], [1.480999999999947, -0.8066390000001569], [1.481999999999947, -0.8036760000001575], [1.4829999999999468, -0.8007110000001578], [1.4839999999999467, -0.7977440000001583], [1.4849999999999466, -0.7947750000001585], [1.4859999999999465, -0.7918040000001589], [1.4869999999999464, -0.7888310000001595], [1.4879999999999463, -0.7858560000001598], [1.4889999999999461, -0.7828790000001602], [1.489999999999946, -0.7799000000001608], [1.490999999999946, -0.7769190000001611], [1.4919999999999458, -0.7739360000001616], [1.4929999999999457, -0.7709510000001623], [1.4939999999999456, -0.7679640000001626], [1.4949999999999455, -0.7649750000001632], [1.4959999999999454, -0.7619840000001634], [1.4969999999999453, -0.7589910000001638], [1.4979999999999452, -0.7559960000001644], [1.498999999999945, -0.7529990000001647], [1.499999999999945, -0.7500000000001652], [1.5009999999999448, -0.7469990000001658], [1.5019999999999447, -0.7439960000001662], [1.5029999999999446, -0.7409910000001667], [1.5039999999999445, -0.737984000000167], [1.5049999999999444, -0.7349750000001674], [1.5059999999999443, -0.7319640000001679], [1.5069999999999442, -0.7289510000001682], [1.507999999999944, -0.7259360000001687], [1.508999999999944, -0.7229190000001693], [1.5099999999999438, -0.7199000000001696], [1.5109999999999437, -0.7168790000001701], [1.5119999999999436, -0.7138560000001704], [1.5129999999999435, -0.7108310000001712], [1.5139999999999434, -0.7078040000001713], [1.5149999999999433, -0.704775000000172], [1.5159999999999432, -0.7017440000001725], [1.516999999999943, -0.6987110000001726], [1.517999999999943, -0.6956760000001734], [1.5189999999999428, -0.6926390000001739], [1.5199999999999427, -0.6896000000001741], [1.5209999999999426, -0.6865590000001744], [1.5219999999999425, -0.683516000000175], [1.5229999999999424, -0.6804710000001752], [1.5239999999999423, -0.6774240000001761], [1.5249999999999422, -0.6743750000001763], [1.525999999999942, -0.671324000000177], [1.526999999999942, -0.6682710000001775], [1.5279999999999418, -0.6652160000001777], [1.5289999999999417, -0.662159000000178], [1.5299999999999416, -0.6591000000001785], [1.5309999999999415, -0.6560390000001792], [1.5319999999999414, -0.6529760000001796], [1.5329999999999413, -0.6499110000001798], [1.5339999999999412, -0.6468440000001805], [1.534999999999941, -0.643775000000181], [1.535999999999941, -0.6407040000001811], [1.5369999999999409, -0.6376310000001819], [1.5379999999999407, -0.6345560000001824], [1.5389999999999406, -0.6314790000001826], [1.5399999999999405, -0.628400000000183], [1.5409999999999404, -0.6253190000001836], [1.5419999999999403, -0.6222360000001843], [1.5429999999999402, -0.6191510000001847], [1.54399999999994, -0.6160640000001849], [1.54499999999994, -0.6129750000001857], [1.5459999999999399, -0.6098840000001857], [1.5469999999999398, -0.6067910000001864], [1.5479999999999396, -0.6036960000001867], [1.5489999999999395, -0.6005990000001873], [1.5499999999999394, -0.597500000000188], [1.5509999999999393, -0.5943990000001884], [1.5519999999999392, -0.5912960000001886], [1.552999999999939, -0.5881910000001893], [1.553999999999939, -0.5850840000001898], [1.5549999999999389, -0.58197500000019], [1.5559999999999388, -0.5788640000001908], [1.5569999999999387, -0.5757510000001909], [1.5579999999999385, -0.5726360000001915], [1.5589999999999384, -0.569519000000192], [1.5599999999999383, -0.5664000000001925], [1.5609999999999382, -0.5632790000001928], [1.561999999999938, -0.5601560000001933], [1.562999999999938, -0.5570310000001939], [1.5639999999999379, -0.5539040000001942], [1.5649999999999378, -0.5507750000001947], [1.5659999999999377, -0.5476440000001954], [1.5669999999999376, -0.5445110000001958], [1.5679999999999374, -0.5413760000001964], [1.5689999999999373, -0.5382390000001966], [1.5699999999999372, -0.5351000000001971], [1.5709999999999371, -0.5319590000001977], [1.571999999999937, -0.528816000000198], [1.572999999999937, -0.5256710000001985], [1.5739999999999368, -0.5225240000001992], [1.5749999999999367, -0.5193750000001995], [1.5759999999999366, -0.5162240000002001], [1.5769999999999365, -0.5130710000002003], [1.5779999999999363, -0.5099160000002008], [1.5789999999999362, -0.5067590000002014], [1.5799999999999361, -0.5036000000002017], [1.580999999999936, -0.5004390000002021], [1.581999999999936, -0.4972760000002028], [1.5829999999999358, -0.49411100000020314], [1.5839999999999357, -0.49094400000020366], [1.5849999999999356, -0.48777500000020435], [1.5859999999999355, -0.48460400000020476], [1.5869999999999354, -0.48143100000020533], [1.5879999999999352, -0.4782560000002056], [1.5889999999999351, -0.4750790000002061], [1.589999999999935, -0.4719000000002067], [1.590999999999935, -0.46871900000020705], [1.5919999999999348, -0.46553600000020756], [1.5929999999999347, -0.46235100000020823], [1.5939999999999346, -0.4591640000002086], [1.5949999999999345, -0.4559750000002092], [1.5959999999999344, -0.45278400000020946], [1.5969999999999342, -0.4495910000002099], [1.5979999999999341, -0.4463960000002105], [1.598999999999934, -0.44319900000021084], [1.599999999999934, -0.44000000000021133], [1.6009999999999338, -0.436799000000212], [1.6019999999999337, -0.43359600000021237], [1.6029999999999336, -0.4303910000002129], [1.6039999999999335, -0.4271840000002136], [1.6049999999999334, -0.42397500000021404], [1.6059999999999333, -0.4207640000002142], [1.6069999999999331, -0.41755100000021494], [1.607999999999933, -0.4143360000002154], [1.608999999999933, -0.4111190000002156], [1.6099999999999328, -0.4079000000002164], [1.6109999999999327, -0.40467900000021695], [1.6119999999999326, -0.4014560000002172], [1.6129999999999325, -0.3982310000002176], [1.6139999999999324, -0.3950040000002182], [1.6149999999999323, -0.3917750000002189], [1.6159999999999322, -0.3885440000002194], [1.616999999999932, -0.38531100000021956], [1.617999999999932, -0.38207600000022035], [1.6189999999999318, -0.37883900000022086], [1.6199999999999317, -0.3756000000002211], [1.6209999999999316, -0.37235900000022193], [1.6219999999999315, -0.36911600000022204], [1.6229999999999314, -0.36587100000022277], [1.6239999999999313, -0.3626240000002232], [1.6249999999999312, -0.3593750000002238], [1.625999999999931, -0.35612400000022415], [1.626999999999931, -0.35287100000022464], [1.6279999999999308, -0.3496160000002253], [1.6289999999999307, -0.3463590000002257], [1.6299999999999306, -0.3431000000002262], [1.6309999999999305, -0.3398390000002265], [1.6319999999999304, -0.33657600000022736], [1.6329999999999303, -0.3333110000002275], [1.6339999999999302, -0.33004400000022827], [1.63499999999993, -0.32677500000022874], [1.63599999999993, -0.3235040000002294], [1.6369999999999298, -0.32023100000022975], [1.6379999999999297, -0.3169560000002303], [1.6389999999999296, -0.3136790000002305], [1.6399999999999295, -0.3104000000002314], [1.6409999999999294, -0.3071190000002315], [1.6419999999999293, -0.30383600000023225], [1.6429999999999292, -0.3005510000002327], [1.643999999999929, -0.29726400000023334], [1.644999999999929, -0.2939750000002337], [1.6459999999999289, -0.2906840000002342], [1.6469999999999287, -0.2873910000002349], [1.6479999999999286, -0.28409600000023527], [1.6489999999999285, -0.28079900000023583], [1.6499999999999284, -0.2775000000002361], [1.6509999999999283, -0.27419900000023656], [1.6519999999999282, -0.27089600000023717], [1.652999999999928, -0.26759100000023794], [1.653999999999928, -0.26428400000023844], [1.6549999999999279, -0.26097500000023865], [1.6559999999999278, -0.2576640000002395], [1.6569999999999276, -0.2543510000002396], [1.6579999999999275, -0.2510360000002403], [1.6589999999999274, -0.24771900000024072], [1.6599999999999273, -0.2444000000002413], [1.6609999999999272, -0.24107900000024163], [1.661999999999927, -0.23775600000024255], [1.662999999999927, -0.23443100000024275], [1.6639999999999269, -0.23110400000024356], [1.6649999999999268, -0.2277750000002441], [1.6659999999999267, -0.22444400000024434], [1.6669999999999265, -0.22111100000024475], [1.6679999999999264, -0.21777600000024533], [1.6689999999999263, -0.21443900000024607], [1.6699999999999262, -0.21110000000024653], [1.670999999999926, -0.20775900000024716], [1.671999999999926, -0.2044160000002475], [1.6729999999999259, -0.20107100000024802], [1.6739999999999258, -0.1977240000002487], [1.6749999999999257, -0.1943750000002491], [1.6759999999999255, -0.19102400000024966], [1.6769999999999254, -0.18767100000024994], [1.6779999999999253, -0.1843160000002504], [1.6789999999999252, -0.180959000000251], [1.679999999999925, -0.17760000000025178], [1.680999999999925, -0.17423900000025228], [1.6819999999999249, -0.1708760000002525], [1.6829999999999248, -0.16751100000025332], [1.6839999999999247, -0.16414400000025386], [1.6849999999999246, -0.16077500000025413], [1.6859999999999244, -0.15740400000025456], [1.6869999999999243, -0.15403100000025516], [1.6879999999999242, -0.15065600000025592], [1.6889999999999241, -0.1472790000002564], [1.689999999999924, -0.14390000000025704], [1.690999999999924, -0.1405190000002574], [1.6919999999999238, -0.13713600000025794], [1.6929999999999237, -0.13375100000025864], [1.6939999999999236, -0.13036400000025905], [1.6949999999999235, -0.12697500000025963], [1.6959999999999233, -0.12358400000025993], [1.6969999999999232, -0.1201910000002604], [1.6979999999999231, -0.11679600000026102], [1.698999999999923, -0.11339900000026137], [1.699999999999923, -0.11000000000026233], [1.7009999999999228, -0.10659900000026257], [1.7019999999999227, -0.10319600000026297], [1.7029999999999226, -0.09979100000026353], [1.7039999999999225, -0.09638400000026426], [1.7049999999999224, -0.09297500000026471], [1.7059999999999222, -0.08956400000026532], [1.7069999999999221, -0.08615100000026565], [1.707999999999922, -0.08273600000026615], [1.708999999999922, -0.07931900000026681], [1.7099999999999218, -0.07590000000026764], [1.7109999999999217, -0.07247900000026775], [1.7119999999999216, -0.06905600000026846], [1.7129999999999215, -0.06563100000026889], [1.7139999999999214, -0.06220400000026949], [1.7149999999999213, -0.05877500000027025], [1.7159999999999211, -0.05534400000027073], [1.716999999999921, -0.05191100000027138], [1.717999999999921, -0.048476000000271746], [1.7189999999999208, -0.04503900000027228], [1.7199999999999207, -0.041600000000272974], [1.7209999999999206, -0.03815900000027339], [1.7219999999999205, -0.03471600000027397], [1.7229999999999204, -0.031271000000274274], [1.7239999999999203, -0.02782400000027474], [1.7249999999999202, -0.02437500000027537], [1.72599999999992, -0.020924000000276166], [1.72699999999992, -0.017471000000276682], [1.7279999999999198, -0.014016000000276918], [1.7289999999999197, -0.010559000000277763], [1.7299999999999196, -0.007100000000278328], [1.7309999999999195, -0.003639000000278614], [1.7319999999999194, -0.00017600000027906404], [1.7329999999999193, 0.003288999999720321], [1.7339999999999192, 0.006755999999719542], [1.734999999999919, 0.010224999999719042], [1.735999999999919, 0.013695999999718378], [1.7369999999999188, 0.017168999999717993], [1.7379999999999187, 0.020643999999717444], [1.7389999999999186, 0.02412099999971673], [1.7399999999999185, 0.027599999999716296], [1.7409999999999184, 0.031080999999715697], [1.7419999999999183, 0.03456399999971538], [1.7429999999999182, 0.038048999999714894], [1.743999999999918, 0.041535999999714246], [1.744999999999918, 0.04502499999971343], [1.7459999999999178, 0.0485159999997129], [1.7469999999999177, 0.052008999999712646], [1.7479999999999176, 0.055503999999711784], [1.7489999999999175, 0.059000999999711645], [1.7499999999999174, 0.0624999999997109], [1.7509999999999173, 0.06600099999971043], [1.7519999999999172, 0.0695039999997098], [1.752999999999917, 0.07300899999970945], [1.753999999999917, 0.07651599999970848], [1.7549999999999168, 0.08002499999970825], [1.7559999999999167, 0.0835359999997074], [1.7569999999999166, 0.08704899999970683], [1.7579999999999165, 0.09056399999970655], [1.7589999999999164, 0.0940809999997061], [1.7599999999999163, 0.09759999999970548], [1.7609999999999162, 0.1011209999997047], [1.761999999999916, 0.1046439999997042], [1.762999999999916, 0.10816899999970353], [1.7639999999999159, 0.11169599999970314], [1.7649999999999157, 0.1152249999997026], [1.7659999999999156, 0.11875599999970188], [1.7669999999999155, 0.12228899999970144], [1.7679999999999154, 0.12582399999970084], [1.7689999999999153, 0.12936099999970052], [1.7699999999999152, 0.1328999999996996], [1.770999999999915, 0.13644099999969939], [1.771999999999915, 0.13998399999969857], [1.7729999999999149, 0.14352899999969804], [1.7739999999999148, 0.14707599999969734], [1.7749999999999146, 0.15062499999969692], [1.7759999999999145, 0.15417599999969633], [1.7769999999999144, 0.15772899999969603], [1.7779999999999143, 0.16128399999969512], [1.7789999999999142, 0.16484099999969493], [1.779999999999914, 0.16839999999969413], [1.780999999999914, 0.1719609999996936], [1.7819999999999139, 0.17552399999969293], [1.7829999999999138, 0.17908899999969252], [1.7839999999999137, 0.18265599999969195], [1.7849999999999135, 0.18622499999969122], [1.7859999999999134, 0.18979599999969077], [1.7869999999999133, 0.19336899999969015], [1.7879999999999132, 0.1969439999996898], [1.788999999999913, 0.20052099999968886], [1.789999999999913, 0.20409999999968864], [1.7909999999999129, 0.2076809999996878], [1.7919999999999128, 0.21126399999968726], [1.7929999999999127, 0.21484899999968698], [1.7939999999999126, 0.2184359999996861], [1.7949999999999124, 0.2220249999996855], [1.7959999999999123, 0.22561599999968518], [1.7969999999999122, 0.2292089999996847], [1.7979999999999121, 0.23280399999968404], [1.798999999999912, 0.23640099999968323], [1.799999999999912, 0.2399999999996827], [1.8009999999999118, 0.24360099999968243], [1.8019999999999117, 0.24720399999968157], [1.8029999999999116, 0.250808999999681], [1.8039999999999115, 0.2544159999996807], [1.8049999999999113, 0.25802499999967976], [1.8059999999999112, 0.26163599999967957], [1.8069999999999111, 0.26524899999967877], [1.807999999999911, 0.26886399999967825], [1.808999999999911, 0.27248099999967756], [1.8099999999999108, 0.27609999999967716], [1.8109999999999107, 0.2797209999996766], [1.8119999999999106, 0.28334399999967586], [1.8129999999999105, 0.2869689999996754], [1.8139999999999104, 0.2905959999996748], [1.8149999999999102, 0.294224999999674], [1.8159999999999101, 0.2978559999996735], [1.81699999999991, 0.3014889999996728], [1.81799999999991, 0.30512399999967244], [1.8189999999999098, 0.3087609999996719], [1.8199999999999097, 0.31239999999967116], [1.8209999999999096, 0.3160409999996707], [1.8219999999999095, 0.3196839999996701], [1.8229999999999094, 0.32332899999966935], [1.8239999999999092, 0.32697599999966886], [1.8249999999999091, 0.3306249999996682], [1.825999999999909, 0.33427599999966784], [1.826999999999909, 0.3379289999996673], [1.8279999999999088, 0.3415839999996666], [1.8289999999999087, 0.3452409999996662], [1.8299999999999086, 0.3488999999996656], [1.8309999999999085, 0.35256099999966484], [1.8319999999999084, 0.35622399999966436], [1.8329999999999083, 0.35988899999966373], [1.8339999999999081, 0.3635559999996629], [1.834999999999908, 0.3672249999996624], [1.835999999999908, 0.3708959999996617], [1.8369999999999078, 0.3745689999996613], [1.8379999999999077, 0.37824399999966074], [1.8389999999999076, 0.38192099999966], [1.8399999999999075, 0.38559999999965955], [1.8409999999999074, 0.3892809999996589], [1.8419999999999073, 0.3929639999996586], [1.8429999999999072, 0.39664899999965764], [1.843999999999907, 0.4003359999996574], [1.844999999999907, 0.4040249999996566], [1.8459999999999068, 0.407715999999656], [1.8469999999999067, 0.4114089999996553], [1.8479999999999066, 0.41510399999965486], [1.8489999999999065, 0.41880099999965426], [1.8499999999999064, 0.4224999999996535], [1.8509999999999063, 0.426200999999653], [1.8519999999999062, 0.42990399999965234], [1.852999999999906, 0.43360899999965197], [1.853999999999906, 0.43731599999965143], [1.8549999999999058, 0.4410249999996507], [1.8559999999999057, 0.44473599999964986], [1.8569999999999056, 0.44844899999964927], [1.8579999999999055, 0.45216399999964896], [1.8589999999999054, 0.45588099999964804], [1.8599999999999053, 0.45959999999964785], [1.8609999999999052, 0.46332099999964704], [1.861999999999905, 0.4670439999996465], [1.862999999999905, 0.47076899999964583], [1.8639999999999048, 0.4744959999996454], [1.8649999999999047, 0.47822499999964485], [1.8659999999999046, 0.4819559999996441], [1.8669999999999045, 0.48568899999964366], [1.8679999999999044, 0.48942399999964303], [1.8689999999999043, 0.49316099999964225], [1.8699999999999042, 0.49689999999964174], [1.870999999999904, 0.5006409999996411], [1.871999999999904, 0.5043839999996402], [1.8729999999999039, 0.5081289999996397], [1.8739999999999037, 0.5118759999996394], [1.8749999999999036, 0.5156249999996385], [1.8759999999999035, 0.5193759999996379], [1.8769999999999034, 0.5231289999996376], [1.8779999999999033, 0.5268839999996366], [1.8789999999999032, 0.530640999999636], [1.879999999999903, 0.5343999999996356], [1.880999999999903, 0.5381609999996351], [1.8819999999999029, 0.5419239999996344], [1.8829999999999028, 0.5456889999996339], [1.8839999999999026, 0.5494559999996333], [1.8849999999999025, 0.5532249999996326], [1.8859999999999024, 0.5569959999996321], [1.8869999999999023, 0.5607689999996315], [1.8879999999999022, 0.5645439999996307], [1.888999999999902, 0.5683209999996301], [1.889999999999902, 0.5720999999996295], [1.8909999999999019, 0.575880999999629], [1.8919999999999018, 0.5796639999996285], [1.8929999999999017, 0.5834489999996277], [1.8939999999999015, 0.5872359999996268], [1.8949999999999014, 0.5910249999996262], [1.8959999999999013, 0.5948159999996259], [1.8969999999999012, 0.5986089999996254], [1.897999999999901, 0.6024039999996247], [1.898999999999901, 0.6062009999996238], [1.8999999999999009, 0.6099999999996233], [1.9009999999999008, 0.6138009999996226], [1.9019999999999007, 0.6176039999996221], [1.9029999999999005, 0.6214089999996215], [1.9039999999999004, 0.6252159999996207], [1.9049999999999003, 0.6290249999996202], [1.9059999999999002, 0.6328359999996196], [1.9069999999999, 0.6366489999996192], [1.9079999999999, 0.6404639999996182], [1.9089999999998999, 0.644280999999618], [1.9099999999998998, 0.6480999999996171], [1.9109999999998997, 0.6519209999996165], [1.9119999999998996, 0.6557439999996157], [1.9129999999998994, 0.6595689999996153], [1.9139999999998993, 0.6633959999996146], [1.9149999999998992, 0.6672249999996138], [1.9159999999998991, 0.6710559999996133], [1.916999999999899, 0.6748889999996126], [1.917999999999899, 0.6787239999996122], [1.9189999999998988, 0.6825609999996116], [1.9199999999998987, 0.6863999999996109], [1.9209999999998986, 0.6902409999996104], [1.9219999999998985, 0.6940839999996098], [1.9229999999998983, 0.697928999999609], [1.9239999999998982, 0.7017759999996085], [1.9249999999998981, 0.7056249999996078], [1.925999999999898, 0.709475999999607], [1.926999999999898, 0.7133289999996064], [1.9279999999998978, 0.7171839999996057], [1.9289999999998977, 0.7210409999996052], [1.9299999999998976, 0.7248999999996046], [1.9309999999998975, 0.7287609999996039], [1.9319999999998974, 0.7326239999996034], [1.9329999999998972, 0.7364889999996027], [1.9339999999998971, 0.7403559999996023], [1.934999999999897, 0.7442249999996013], [1.935999999999897, 0.7480959999996006], [1.9369999999998968, 0.7519689999996002], [1.9379999999998967, 0.7558439999995996], [1.9389999999998966, 0.7597209999995989], [1.9399999999998965, 0.7635999999995984], [1.9409999999998964, 0.7674809999995977], [1.9419999999998963, 0.7713639999995969], [1.9429999999998961, 0.7752489999995964], [1.943999999999896, 0.7791359999995957], [1.944999999999896, 0.7830249999995953], [1.9459999999998958, 0.7869159999995947], [1.9469999999998957, 0.790808999999594], [1.9479999999998956, 0.7947039999995931], [1.9489999999998955, 0.7986009999995924], [1.9499999999998954, 0.8024999999995921], [1.9509999999998953, 0.8064009999995911], [1.9519999999998952, 0.8103039999995905], [1.952999999999895, 0.8142089999995901], [1.953999999999895, 0.8181159999995895], [1.9549999999998948, 0.8220249999995888], [1.9559999999998947, 0.8259359999995883], [1.9569999999998946, 0.8298489999995873], [1.9579999999998945, 0.833763999999587], [1.9589999999998944, 0.837680999999586], [1.9599999999998943, 0.8415999999995853], [1.9609999999998942, 0.845520999999585], [1.961999999999894, 0.8494439999995844], [1.962999999999894, 0.8533689999995837], [1.9639999999998938, 0.8572959999995828], [1.9649999999998937, 0.8612249999995822], [1.9659999999998936, 0.8651559999995815], [1.9669999999998935, 0.869088999999581], [1.9679999999998934, 0.8730239999995804], [1.9689999999998933, 0.8769609999995795], [1.9699999999998932, 0.880899999999579], [1.970999999999893, 0.8848409999995783], [1.971999999999893, 0.8887839999995779], [1.9729999999998928, 0.8927289999995773], [1.9739999999998927, 0.8966759999995766], [1.9749999999998926, 0.9006249999995757], [1.9759999999998925, 0.904575999999575], [1.9769999999998924, 0.9085289999995747], [1.9779999999998923, 0.9124839999995737], [1.9789999999998922, 0.9164409999995731], [1.979999999999892, 0.9203999999995727], [1.980999999999892, 0.9243609999995721], [1.9819999999998918, 0.9283239999995714], [1.9829999999998917, 0.9322889999995705], [1.9839999999998916, 0.9362559999995699], [1.9849999999998915, 0.9402249999995695], [1.9859999999998914, 0.9441959999995686], [1.9869999999998913, 0.9481689999995679], [1.9879999999998912, 0.9521439999995676], [1.988999999999891, 0.9561209999995666], [1.989999999999891, 0.9600999999995659], [1.9909999999998909, 0.9640809999995654], [1.9919999999998907, 0.9680639999995648], [1.9929999999998906, 0.9720489999995641], [1.9939999999998905, 0.9760359999995636], [1.9949999999998904, 0.9800249999995629], [1.9959999999998903, 0.9840159999995621], [1.9969999999998902, 0.9880089999995616], [1.99799999999989, 0.9920039999995609], [1.99899999999989, 0.99600099999956]], \"data02\": [[1.5, -0.75], [1.75, 0.0625], [1.625, -0.359375], [1.6875, -0.15234375], [1.71875, -0.04589843802386895], [1.734375, 0.008056640974245965], [1.7265625, -0.018981934001203626]]}, \"id\": \"el59140410915675088\", \"plugins\": [{\"type\": \"reset\"}, {\"type\": \"zoom\", \"button\": true, \"enabled\": false}, {\"type\": \"boxzoom\", \"button\": true, \"enabled\": false}, {\"type\": \"mouseposition\", \"fontsize\": 14, \"fmt\": \".3g\"}]});\n",
              "   }(mpld3);\n",
              "}else if(typeof define === \"function\" && define.amd){\n",
              "   // require.js is available: use it to load d3/mpld3\n",
              "   require.config({paths: {d3: \"https://mpld3.github.io/js/d3.v3.min\"}});\n",
              "   require([\"d3\"], function(d3){\n",
              "      window.d3 = d3;\n",
              "      mpld3_load_lib(\"https://mpld3.github.io/js/mpld3.v0.3.1.dev1.js\", function(){\n",
              "         \n",
              "         mpld3.draw_figure(\"fig_el591404109156750883935169732\", {\"width\": 432.0, \"height\": 288.0, \"axes\": [{\"bbox\": [0.125, 0.125, 0.775, 0.755], \"xlim\": [0.9500500000000055, 2.0489499999998846], \"ylim\": [-2.149800049999978, 1.1458010499995381], \"xdomain\": [0.9500500000000055, 2.0489499999998846], \"ydomain\": [-2.149800049999978, 1.1458010499995381], \"xscale\": \"linear\", \"yscale\": \"linear\", \"axes\": [{\"position\": \"bottom\", \"nticks\": 8, \"tickvalues\": null, \"tickformat\": null, \"scale\": \"linear\", \"fontsize\": 10.0, \"grid\": {\"gridOn\": true, \"color\": \"#B0B0B0\", \"dasharray\": \"none\", \"alpha\": 1.0}, \"visible\": true}, {\"position\": \"left\", \"nticks\": 9, \"tickvalues\": null, \"tickformat\": null, \"scale\": \"linear\", \"fontsize\": 10.0, \"grid\": {\"gridOn\": true, \"color\": \"#B0B0B0\", \"dasharray\": \"none\", \"alpha\": 1.0}, \"visible\": true}], \"axesbg\": \"#FFFFFF\", \"axesbgalpha\": null, \"zoomable\": true, \"id\": \"el59140410917172048\", \"lines\": [{\"data\": \"data01\", \"xindex\": 0, \"yindex\": 1, \"coordinates\": \"data\", \"id\": \"el59140410757630992\", \"color\": \"#1F77B4\", \"linewidth\": 1.5, \"dasharray\": \"none\", \"alpha\": 1, \"zorder\": 2, \"drawstyle\": \"default\"}], \"paths\": [], \"markers\": [{\"data\": \"data01\", \"xindex\": 0, \"yindex\": 1, \"coordinates\": \"data\", \"id\": \"el59140410757630992pts\", \"facecolor\": \"#1F77B4\", \"edgecolor\": \"#1F77B4\", \"edgewidth\": 1.0, \"alpha\": 1, \"zorder\": 2, \"markerpath\": [[[0.0, 1.0], [0.2652031, 1.0], [0.5195798707848535, 0.8946336915882417], [0.7071067811865476, 0.7071067811865476], [0.8946336915882417, 0.5195798707848535], [1.0, 0.2652031], [1.0, 0.0], [1.0, -0.2652031], [0.8946336915882417, -0.5195798707848535], [0.7071067811865476, -0.7071067811865476], [0.5195798707848535, -0.8946336915882417], [0.2652031, -1.0], [0.0, -1.0], [-0.2652031, -1.0], [-0.5195798707848535, -0.8946336915882417], [-0.7071067811865476, -0.7071067811865476], [-0.8946336915882417, -0.5195798707848535], [-1.0, -0.2652031], [-1.0, 0.0], [-1.0, 0.2652031], [-0.8946336915882417, 0.5195798707848535], [-0.7071067811865476, 0.7071067811865476], [-0.5195798707848535, 0.8946336915882417], [-0.2652031, 1.0], [0.0, 1.0]], [\"M\", \"C\", \"C\", \"C\", \"C\", \"C\", \"C\", \"C\", \"C\", \"Z\"]]}, {\"data\": \"data02\", \"xindex\": 0, \"yindex\": 1, \"coordinates\": \"data\", \"id\": \"el59140410757674000pts\", \"facecolor\": \"#FF0000\", \"edgecolor\": \"#FF0000\", \"edgewidth\": 1.0, \"alpha\": 1, \"zorder\": 2, \"markerpath\": [[[0.0, 3.0], [0.7956093000000001, 3.0], [1.5587396123545605, 2.683901074764725], [2.121320343559643, 2.121320343559643], [2.683901074764725, 1.5587396123545605], [3.0, 0.7956093000000001], [3.0, 0.0], [3.0, -0.7956093000000001], [2.683901074764725, -1.5587396123545605], [2.121320343559643, -2.121320343559643], [1.5587396123545605, -2.683901074764725], [0.7956093000000001, -3.0], [0.0, -3.0], [-0.7956093000000001, -3.0], [-1.5587396123545605, -2.683901074764725], [-2.121320343559643, -2.121320343559643], [-2.683901074764725, -1.5587396123545605], [-3.0, -0.7956093000000001], [-3.0, 0.0], [-3.0, 0.7956093000000001], [-2.683901074764725, 1.5587396123545605], [-2.121320343559643, 2.121320343559643], [-1.5587396123545605, 2.683901074764725], [-0.7956093000000001, 3.0], [0.0, 3.0]], [\"M\", \"C\", \"C\", \"C\", \"C\", \"C\", \"C\", \"C\", \"C\", \"Z\"]]}], \"texts\": [{\"text\": \"Gr\\u00e1fico fun\\u00e7\\u00e3o f(x)=x**2 - 3\", \"position\": [0.49999999999999994, 1.0275938189845473], \"coordinates\": \"axes\", \"h_anchor\": \"middle\", \"v_baseline\": \"auto\", \"rotation\": -0.0, \"fontsize\": 12.0, \"color\": \"#000000\", \"alpha\": 1, \"zorder\": 3, \"id\": \"el59140410914915472\"}], \"collections\": [], \"images\": [], \"sharex\": [], \"sharey\": []}], \"data\": {\"data01\": [[1.0, -2.0], [1.001, -1.9979990000000003], [1.0019999999999998, -1.9959960000000005], [1.0029999999999997, -1.9939910000000007], [1.0039999999999996, -1.9919840000000009], [1.0049999999999994, -1.9899750000000012], [1.0059999999999993, -1.9879640000000014], [1.0069999999999992, -1.9859510000000016], [1.0079999999999991, -1.9839360000000017], [1.008999999999999, -1.981919000000002], [1.009999999999999, -1.9799000000000022], [1.0109999999999988, -1.9778790000000024], [1.0119999999999987, -1.9758560000000027], [1.0129999999999986, -1.973831000000003], [1.0139999999999985, -1.9718040000000032], [1.0149999999999983, -1.9697750000000034], [1.0159999999999982, -1.9677440000000035], [1.0169999999999981, -1.9657110000000038], [1.017999999999998, -1.963676000000004], [1.018999999999998, -1.9616390000000044], [1.0199999999999978, -1.9596000000000044], [1.0209999999999977, -1.9575590000000047], [1.0219999999999976, -1.955516000000005], [1.0229999999999975, -1.9534710000000053], [1.0239999999999974, -1.9514240000000054], [1.0249999999999972, -1.9493750000000056], [1.0259999999999971, -1.9473240000000058], [1.026999999999997, -1.9452710000000062], [1.027999999999997, -1.9432160000000063], [1.0289999999999968, -1.9411590000000065], [1.0299999999999967, -1.9391000000000067], [1.0309999999999966, -1.937039000000007], [1.0319999999999965, -1.9349760000000074], [1.0329999999999964, -1.9329110000000076], [1.0339999999999963, -1.9308440000000078], [1.0349999999999961, -1.928775000000008], [1.035999999999996, -1.9267040000000082], [1.036999999999996, -1.9246310000000084], [1.0379999999999958, -1.9225560000000086], [1.0389999999999957, -1.920479000000009], [1.0399999999999956, -1.9184000000000092], [1.0409999999999955, -1.9163190000000094], [1.0419999999999954, -1.9142360000000096], [1.0429999999999953, -1.91215100000001], [1.0439999999999952, -1.9100640000000102], [1.044999999999995, -1.9079750000000104], [1.045999999999995, -1.9058840000000106], [1.0469999999999948, -1.903791000000011], [1.0479999999999947, -1.9016960000000112], [1.0489999999999946, -1.8995990000000114], [1.0499999999999945, -1.8975000000000115], [1.0509999999999944, -1.8953990000000118], [1.0519999999999943, -1.893296000000012], [1.0529999999999942, -1.8911910000000123], [1.053999999999994, -1.8890840000000126], [1.054999999999994, -1.8869750000000127], [1.0559999999999938, -1.884864000000013], [1.0569999999999937, -1.8827510000000132], [1.0579999999999936, -1.8806360000000135], [1.0589999999999935, -1.8785190000000138], [1.0599999999999934, -1.876400000000014], [1.0609999999999933, -1.8742790000000142], [1.0619999999999932, -1.8721560000000146], [1.062999999999993, -1.8700310000000147], [1.063999999999993, -1.867904000000015], [1.0649999999999928, -1.8657750000000153], [1.0659999999999927, -1.8636440000000154], [1.0669999999999926, -1.8615110000000157], [1.0679999999999925, -1.859376000000016], [1.0689999999999924, -1.8572390000000163], [1.0699999999999923, -1.8551000000000164], [1.0709999999999922, -1.8529590000000167], [1.071999999999992, -1.850816000000017], [1.072999999999992, -1.8486710000000173], [1.0739999999999919, -1.8465240000000176], [1.0749999999999917, -1.8443750000000179], [1.0759999999999916, -1.842224000000018], [1.0769999999999915, -1.8400710000000182], [1.0779999999999914, -1.8379160000000185], [1.0789999999999913, -1.8357590000000188], [1.0799999999999912, -1.833600000000019], [1.080999999999991, -1.8314390000000194], [1.081999999999991, -1.8292760000000194], [1.0829999999999909, -1.8271110000000197], [1.0839999999999907, -1.82494400000002], [1.0849999999999906, -1.8227750000000202], [1.0859999999999905, -1.8206040000000205], [1.0869999999999904, -1.8184310000000208], [1.0879999999999903, -1.8162560000000212], [1.0889999999999902, -1.8140790000000213], [1.08999999999999, -1.8119000000000216], [1.09099999999999, -1.8097190000000218], [1.0919999999999899, -1.8075360000000222], [1.0929999999999898, -1.8053510000000224], [1.0939999999999896, -1.8031640000000226], [1.0949999999999895, -1.8009750000000229], [1.0959999999999894, -1.7987840000000233], [1.0969999999999893, -1.7965910000000234], [1.0979999999999892, -1.7943960000000236], [1.098999999999989, -1.7921990000000239], [1.099999999999989, -1.7900000000000242], [1.1009999999999889, -1.7877990000000246], [1.1019999999999888, -1.7855960000000248], [1.1029999999999887, -1.783391000000025], [1.1039999999999885, -1.7811840000000252], [1.1049999999999884, -1.7789750000000255], [1.1059999999999883, -1.7767640000000258], [1.1069999999999882, -1.7745510000000262], [1.107999999999988, -1.7723360000000263], [1.108999999999988, -1.7701190000000266], [1.1099999999999879, -1.767900000000027], [1.1109999999999878, -1.765679000000027], [1.1119999999999877, -1.7634560000000274], [1.1129999999999876, -1.7612310000000277], [1.1139999999999874, -1.759004000000028], [1.1149999999999873, -1.7567750000000282], [1.1159999999999872, -1.7545440000000285], [1.1169999999999871, -1.7523110000000288], [1.117999999999987, -1.750076000000029], [1.118999999999987, -1.7478390000000292], [1.1199999999999868, -1.7456000000000296], [1.1209999999999867, -1.7433590000000299], [1.1219999999999866, -1.74111600000003], [1.1229999999999865, -1.7388710000000305], [1.1239999999999863, -1.7366240000000308], [1.1249999999999862, -1.7343750000000309], [1.1259999999999861, -1.7321240000000313], [1.126999999999986, -1.7298710000000315], [1.127999999999986, -1.7276160000000318], [1.1289999999999858, -1.725359000000032], [1.1299999999999857, -1.7231000000000323], [1.1309999999999856, -1.7208390000000326], [1.1319999999999855, -1.718576000000033], [1.1329999999999854, -1.7163110000000332], [1.1339999999999852, -1.7140440000000334], [1.1349999999999851, -1.7117750000000338], [1.135999999999985, -1.709504000000034], [1.136999999999985, -1.7072310000000344], [1.1379999999999848, -1.7049560000000346], [1.1389999999999847, -1.702679000000035], [1.1399999999999846, -1.7004000000000352], [1.1409999999999845, -1.6981190000000355], [1.1419999999999844, -1.6958360000000356], [1.1429999999999843, -1.693551000000036], [1.1439999999999841, -1.6912640000000363], [1.144999999999984, -1.6889750000000365], [1.145999999999984, -1.686684000000037], [1.1469999999999838, -1.684391000000037], [1.1479999999999837, -1.6820960000000373], [1.1489999999999836, -1.6797990000000378], [1.1499999999999835, -1.677500000000038], [1.1509999999999834, -1.6751990000000383], [1.1519999999999833, -1.6728960000000386], [1.1529999999999831, -1.6705910000000388], [1.153999999999983, -1.6682840000000392], [1.154999999999983, -1.6659750000000395], [1.1559999999999828, -1.6636640000000398], [1.1569999999999827, -1.66135100000004], [1.1579999999999826, -1.6590360000000404], [1.1589999999999825, -1.6567190000000407], [1.1599999999999824, -1.654400000000041], [1.1609999999999823, -1.6520790000000412], [1.1619999999999822, -1.6497560000000415], [1.162999999999982, -1.6474310000000418], [1.163999999999982, -1.645104000000042], [1.1649999999999818, -1.6427750000000423], [1.1659999999999817, -1.6404440000000426], [1.1669999999999816, -1.638111000000043], [1.1679999999999815, -1.6357760000000432], [1.1689999999999814, -1.6334390000000436], [1.1699999999999813, -1.6311000000000437], [1.1709999999999812, -1.628759000000044], [1.171999999999981, -1.6264160000000445], [1.172999999999981, -1.6240710000000447], [1.1739999999999808, -1.621724000000045], [1.1749999999999807, -1.6193750000000453], [1.1759999999999806, -1.6170240000000455], [1.1769999999999805, -1.614671000000046], [1.1779999999999804, -1.6123160000000463], [1.1789999999999803, -1.6099590000000465], [1.1799999999999802, -1.6076000000000468], [1.18099999999998, -1.6052390000000472], [1.18199999999998, -1.6028760000000475], [1.1829999999999798, -1.6005110000000478], [1.1839999999999797, -1.598144000000048], [1.1849999999999796, -1.5957750000000483], [1.1859999999999795, -1.5934040000000487], [1.1869999999999794, -1.591031000000049], [1.1879999999999793, -1.5886560000000491], [1.1889999999999792, -1.5862790000000495], [1.189999999999979, -1.5839000000000498], [1.190999999999979, -1.58151900000005], [1.1919999999999789, -1.5791360000000505], [1.1929999999999787, -1.5767510000000506], [1.1939999999999786, -1.574364000000051], [1.1949999999999785, -1.5719750000000514], [1.1959999999999784, -1.5695840000000516], [1.1969999999999783, -1.567191000000052], [1.1979999999999782, -1.5647960000000523], [1.198999999999978, -1.5623990000000525], [1.199999999999978, -1.560000000000053], [1.2009999999999779, -1.5575990000000532], [1.2019999999999778, -1.5551960000000535], [1.2029999999999776, -1.5527910000000538], [1.2039999999999775, -1.5503840000000542], [1.2049999999999774, -1.5479750000000545], [1.2059999999999773, -1.5455640000000548], [1.2069999999999772, -1.543151000000055], [1.207999999999977, -1.5407360000000554], [1.208999999999977, -1.5383190000000557], [1.2099999999999769, -1.535900000000056], [1.2109999999999768, -1.5334790000000562], [1.2119999999999767, -1.5310560000000566], [1.2129999999999765, -1.528631000000057], [1.2139999999999764, -1.5262040000000572], [1.2149999999999763, -1.5237750000000576], [1.2159999999999762, -1.5213440000000578], [1.216999999999976, -1.518911000000058], [1.217999999999976, -1.5164760000000586], [1.2189999999999759, -1.5140390000000588], [1.2199999999999758, -1.5116000000000591], [1.2209999999999757, -1.5091590000000594], [1.2219999999999756, -1.5067160000000597], [1.2229999999999754, -1.50427100000006], [1.2239999999999753, -1.5018240000000604], [1.2249999999999752, -1.4993750000000607], [1.225999999999975, -1.496924000000061], [1.226999999999975, -1.4944710000000614], [1.227999999999975, -1.4920160000000617], [1.2289999999999748, -1.489559000000062], [1.2299999999999747, -1.4871000000000623], [1.2309999999999746, -1.4846390000000627], [1.2319999999999744, -1.482176000000063], [1.2329999999999743, -1.4797110000000633], [1.2339999999999742, -1.4772440000000635], [1.2349999999999741, -1.474775000000064], [1.235999999999974, -1.4723040000000642], [1.236999999999974, -1.4698310000000645], [1.2379999999999738, -1.467356000000065], [1.2389999999999737, -1.4648790000000653], [1.2399999999999736, -1.4624000000000656], [1.2409999999999735, -1.459919000000066], [1.2419999999999733, -1.4574360000000661], [1.2429999999999732, -1.4549510000000665], [1.2439999999999731, -1.4524640000000668], [1.244999999999973, -1.4499750000000673], [1.245999999999973, -1.4474840000000675], [1.2469999999999728, -1.4449910000000679], [1.2479999999999727, -1.4424960000000682], [1.2489999999999726, -1.4399990000000684], [1.2499999999999725, -1.4375000000000688], [1.2509999999999724, -1.4349990000000692], [1.2519999999999722, -1.4324960000000695], [1.2529999999999721, -1.4299910000000697], [1.253999999999972, -1.4274840000000701], [1.254999999999972, -1.4249750000000705], [1.2559999999999718, -1.4224640000000708], [1.2569999999999717, -1.4199510000000712], [1.2579999999999716, -1.4174360000000714], [1.2589999999999715, -1.4149190000000718], [1.2599999999999714, -1.4124000000000723], [1.2609999999999713, -1.4098790000000725], [1.2619999999999711, -1.4073560000000729], [1.262999999999971, -1.4048310000000732], [1.263999999999971, -1.4023040000000735], [1.2649999999999708, -1.399775000000074], [1.2659999999999707, -1.397244000000074], [1.2669999999999706, -1.3947110000000744], [1.2679999999999705, -1.392176000000075], [1.2689999999999704, -1.3896390000000751], [1.2699999999999703, -1.3871000000000755], [1.2709999999999702, -1.3845590000000758], [1.27199999999997, -1.3820160000000763], [1.27299999999997, -1.3794710000000765], [1.2739999999999698, -1.3769240000000769], [1.2749999999999697, -1.3743750000000772], [1.2759999999999696, -1.3718240000000776], [1.2769999999999695, -1.3692710000000778], [1.2779999999999694, -1.3667160000000782], [1.2789999999999693, -1.3641590000000785], [1.2799999999999692, -1.361600000000079], [1.280999999999969, -1.3590390000000794], [1.281999999999969, -1.3564760000000797], [1.2829999999999688, -1.35391100000008], [1.2839999999999687, -1.3513440000000803], [1.2849999999999686, -1.3487750000000807], [1.2859999999999685, -1.346204000000081], [1.2869999999999684, -1.3436310000000813], [1.2879999999999683, -1.3410560000000817], [1.2889999999999682, -1.3384790000000821], [1.289999999999968, -1.3359000000000825], [1.290999999999968, -1.3333190000000827], [1.2919999999999678, -1.3307360000000832], [1.2929999999999677, -1.3281510000000833], [1.2939999999999676, -1.325564000000084], [1.2949999999999675, -1.3229750000000842], [1.2959999999999674, -1.3203840000000846], [1.2969999999999673, -1.3177910000000848], [1.2979999999999672, -1.3151960000000853], [1.298999999999967, -1.3125990000000856], [1.299999999999967, -1.310000000000086], [1.3009999999999668, -1.3073990000000864], [1.3019999999999667, -1.3047960000000867], [1.3029999999999666, -1.302191000000087], [1.3039999999999665, -1.2995840000000873], [1.3049999999999664, -1.2969750000000877], [1.3059999999999663, -1.294364000000088], [1.3069999999999662, -1.2917510000000885], [1.307999999999966, -1.2891360000000887], [1.308999999999966, -1.286519000000089], [1.3099999999999659, -1.2839000000000895], [1.3109999999999657, -1.2812790000000898], [1.3119999999999656, -1.2786560000000902], [1.3129999999999655, -1.2760310000000905], [1.3139999999999654, -1.2734040000000908], [1.3149999999999653, -1.2707750000000912], [1.3159999999999652, -1.2681440000000916], [1.316999999999965, -1.265511000000092], [1.317999999999965, -1.2628760000000923], [1.3189999999999649, -1.2602390000000927], [1.3199999999999648, -1.257600000000093], [1.3209999999999646, -1.2549590000000934], [1.3219999999999645, -1.2523160000000937], [1.3229999999999644, -1.2496710000000941], [1.3239999999999643, -1.2470240000000945], [1.3249999999999642, -1.2443750000000948], [1.325999999999964, -1.2417240000000953], [1.326999999999964, -1.2390710000000955], [1.3279999999999639, -1.2364160000000959], [1.3289999999999638, -1.2337590000000964], [1.3299999999999637, -1.2311000000000967], [1.3309999999999635, -1.228439000000097], [1.3319999999999634, -1.2257760000000975], [1.3329999999999633, -1.2231110000000978], [1.3339999999999632, -1.2204440000000982], [1.334999999999963, -1.2177750000000984], [1.335999999999963, -1.2151040000000988], [1.3369999999999629, -1.2124310000000993], [1.3379999999999628, -1.2097560000000995], [1.3389999999999627, -1.2070790000001], [1.3399999999999626, -1.2044000000001003], [1.3409999999999624, -1.2017190000001008], [1.3419999999999623, -1.199036000000101], [1.3429999999999622, -1.1963510000001014], [1.3439999999999621, -1.1936640000001018], [1.344999999999962, -1.1909750000001023], [1.345999999999962, -1.1882840000001025], [1.3469999999999618, -1.1855910000001029], [1.3479999999999617, -1.1828960000001034], [1.3489999999999616, -1.1801990000001037], [1.3499999999999615, -1.1775000000001041], [1.3509999999999613, -1.1747990000001045], [1.3519999999999612, -1.1720960000001048], [1.3529999999999611, -1.169391000000105], [1.353999999999961, -1.1666840000001055], [1.354999999999961, -1.163975000000106], [1.3559999999999608, -1.1612640000001064], [1.3569999999999607, -1.1585510000001067], [1.3579999999999606, -1.1558360000001071], [1.3589999999999605, -1.1531190000001075], [1.3599999999999604, -1.1504000000001078], [1.3609999999999602, -1.1476790000001083], [1.3619999999999601, -1.1449560000001087], [1.36299999999996, -1.142231000000109], [1.36399999999996, -1.1395040000001093], [1.3649999999999598, -1.1367750000001098], [1.3659999999999597, -1.1340440000001102], [1.3669999999999596, -1.1313110000001105], [1.3679999999999595, -1.1285760000001108], [1.3689999999999594, -1.1258390000001113], [1.3699999999999593, -1.1231000000001117], [1.3709999999999591, -1.120359000000112], [1.371999999999959, -1.1176160000001125], [1.372999999999959, -1.1148710000001127], [1.3739999999999588, -1.1121240000001131], [1.3749999999999587, -1.1093750000001135], [1.3759999999999586, -1.106624000000114], [1.3769999999999585, -1.1038710000001144], [1.3779999999999584, -1.1011160000001148], [1.3789999999999583, -1.098359000000115], [1.3799999999999581, -1.0956000000001156], [1.380999999999958, -1.0928390000001158], [1.381999999999958, -1.0900760000001162], [1.3829999999999578, -1.0873110000001167], [1.3839999999999577, -1.084544000000117], [1.3849999999999576, -1.0817750000001174], [1.3859999999999575, -1.0790040000001178], [1.3869999999999574, -1.0762310000001183], [1.3879999999999573, -1.0734560000001185], [1.3889999999999572, -1.070679000000119], [1.389999999999957, -1.0679000000001193], [1.390999999999957, -1.0651190000001198], [1.3919999999999568, -1.0623360000001203], [1.3929999999999567, -1.0595510000001205], [1.3939999999999566, -1.056764000000121], [1.3949999999999565, -1.0539750000001213], [1.3959999999999564, -1.0511840000001218], [1.3969999999999563, -1.0483910000001222], [1.3979999999999562, -1.0455960000001225], [1.398999999999956, -1.042799000000123], [1.399999999999956, -1.0400000000001233], [1.4009999999999558, -1.0371990000001237], [1.4019999999999557, -1.0343960000001242], [1.4029999999999556, -1.0315910000001245], [1.4039999999999555, -1.028784000000125], [1.4049999999999554, -1.0259750000001253], [1.4059999999999553, -1.0231640000001256], [1.4069999999999552, -1.0203510000001261], [1.407999999999955, -1.0175360000001266], [1.408999999999955, -1.014719000000127], [1.4099999999999548, -1.0119000000001273], [1.4109999999999547, -1.0090790000001277], [1.4119999999999546, -1.0062560000001282], [1.4129999999999545, -1.0034310000001285], [1.4139999999999544, -1.0006040000001288], [1.4149999999999543, -0.9977750000001295], [1.4159999999999542, -0.99494400000013], [1.416999999999954, -0.9921110000001301], [1.417999999999954, -0.9892760000001304], [1.4189999999999539, -0.9864390000001309], [1.4199999999999537, -0.9836000000001315], [1.4209999999999536, -0.9807590000001318], [1.4219999999999535, -0.9779160000001323], [1.4229999999999534, -0.9750710000001326], [1.4239999999999533, -0.972224000000133], [1.4249999999999532, -0.9693750000001335], [1.425999999999953, -0.9665240000001338], [1.426999999999953, -0.9636710000001343], [1.4279999999999529, -0.9608160000001345], [1.4289999999999528, -0.9579590000001352], [1.4299999999999526, -0.9551000000001353], [1.4309999999999525, -0.952239000000136], [1.4319999999999524, -0.9493760000001363], [1.4329999999999523, -0.9465110000001369], [1.4339999999999522, -0.9436440000001372], [1.434999999999952, -0.9407750000001376], [1.435999999999952, -0.9379040000001377], [1.4369999999999519, -0.9350310000001385], [1.4379999999999518, -0.9321560000001385], [1.4389999999999517, -0.9292790000001392], [1.4399999999999515, -0.9264000000001396], [1.4409999999999514, -0.9235190000001401], [1.4419999999999513, -0.9206360000001403], [1.4429999999999512, -0.9177510000001408], [1.443999999999951, -0.9148640000001413], [1.444999999999951, -0.9119750000001416], [1.4459999999999509, -0.9090840000001421], [1.4469999999999508, -0.9061910000001423], [1.4479999999999507, -0.9032960000001431], [1.4489999999999505, -0.9003990000001432], [1.4499999999999504, -0.8975000000001438], [1.4509999999999503, -0.8945990000001443], [1.4519999999999502, -0.8916960000001444], [1.45299999999995, -0.8887910000001451], [1.45399999999995, -0.8858840000001456], [1.4549999999999499, -0.8829750000001457], [1.4559999999999498, -0.8800640000001461], [1.4569999999999497, -0.8771510000001466], [1.4579999999999496, -0.8742360000001472], [1.4589999999999494, -0.8713190000001476], [1.4599999999999493, -0.8684000000001477], [1.4609999999999492, -0.8654790000001484], [1.4619999999999491, -0.8625560000001489], [1.462999999999949, -0.859631000000149], [1.463999999999949, -0.8567040000001498], [1.4649999999999488, -0.8537750000001498], [1.4659999999999487, -0.8508440000001505], [1.4669999999999486, -0.8479110000001508], [1.4679999999999485, -0.8449760000001514], [1.4689999999999483, -0.8420390000001516], [1.4699999999999482, -0.8391000000001521], [1.4709999999999481, -0.8361590000001526], [1.471999999999948, -0.833216000000153], [1.472999999999948, -0.8302710000001534], [1.4739999999999478, -0.827324000000154], [1.4749999999999477, -0.8243750000001544], [1.4759999999999476, -0.8214240000001549], [1.4769999999999475, -0.8184710000001552], [1.4779999999999474, -0.8155160000001556], [1.4789999999999472, -0.8125590000001561], [1.4799999999999471, -0.8096000000001564], [1.480999999999947, -0.8066390000001569], [1.481999999999947, -0.8036760000001575], [1.4829999999999468, -0.8007110000001578], [1.4839999999999467, -0.7977440000001583], [1.4849999999999466, -0.7947750000001585], [1.4859999999999465, -0.7918040000001589], [1.4869999999999464, -0.7888310000001595], [1.4879999999999463, -0.7858560000001598], [1.4889999999999461, -0.7828790000001602], [1.489999999999946, -0.7799000000001608], [1.490999999999946, -0.7769190000001611], [1.4919999999999458, -0.7739360000001616], [1.4929999999999457, -0.7709510000001623], [1.4939999999999456, -0.7679640000001626], [1.4949999999999455, -0.7649750000001632], [1.4959999999999454, -0.7619840000001634], [1.4969999999999453, -0.7589910000001638], [1.4979999999999452, -0.7559960000001644], [1.498999999999945, -0.7529990000001647], [1.499999999999945, -0.7500000000001652], [1.5009999999999448, -0.7469990000001658], [1.5019999999999447, -0.7439960000001662], [1.5029999999999446, -0.7409910000001667], [1.5039999999999445, -0.737984000000167], [1.5049999999999444, -0.7349750000001674], [1.5059999999999443, -0.7319640000001679], [1.5069999999999442, -0.7289510000001682], [1.507999999999944, -0.7259360000001687], [1.508999999999944, -0.7229190000001693], [1.5099999999999438, -0.7199000000001696], [1.5109999999999437, -0.7168790000001701], [1.5119999999999436, -0.7138560000001704], [1.5129999999999435, -0.7108310000001712], [1.5139999999999434, -0.7078040000001713], [1.5149999999999433, -0.704775000000172], [1.5159999999999432, -0.7017440000001725], [1.516999999999943, -0.6987110000001726], [1.517999999999943, -0.6956760000001734], [1.5189999999999428, -0.6926390000001739], [1.5199999999999427, -0.6896000000001741], [1.5209999999999426, -0.6865590000001744], [1.5219999999999425, -0.683516000000175], [1.5229999999999424, -0.6804710000001752], [1.5239999999999423, -0.6774240000001761], [1.5249999999999422, -0.6743750000001763], [1.525999999999942, -0.671324000000177], [1.526999999999942, -0.6682710000001775], [1.5279999999999418, -0.6652160000001777], [1.5289999999999417, -0.662159000000178], [1.5299999999999416, -0.6591000000001785], [1.5309999999999415, -0.6560390000001792], [1.5319999999999414, -0.6529760000001796], [1.5329999999999413, -0.6499110000001798], [1.5339999999999412, -0.6468440000001805], [1.534999999999941, -0.643775000000181], [1.535999999999941, -0.6407040000001811], [1.5369999999999409, -0.6376310000001819], [1.5379999999999407, -0.6345560000001824], [1.5389999999999406, -0.6314790000001826], [1.5399999999999405, -0.628400000000183], [1.5409999999999404, -0.6253190000001836], [1.5419999999999403, -0.6222360000001843], [1.5429999999999402, -0.6191510000001847], [1.54399999999994, -0.6160640000001849], [1.54499999999994, -0.6129750000001857], [1.5459999999999399, -0.6098840000001857], [1.5469999999999398, -0.6067910000001864], [1.5479999999999396, -0.6036960000001867], [1.5489999999999395, -0.6005990000001873], [1.5499999999999394, -0.597500000000188], [1.5509999999999393, -0.5943990000001884], [1.5519999999999392, -0.5912960000001886], [1.552999999999939, -0.5881910000001893], [1.553999999999939, -0.5850840000001898], [1.5549999999999389, -0.58197500000019], [1.5559999999999388, -0.5788640000001908], [1.5569999999999387, -0.5757510000001909], [1.5579999999999385, -0.5726360000001915], [1.5589999999999384, -0.569519000000192], [1.5599999999999383, -0.5664000000001925], [1.5609999999999382, -0.5632790000001928], [1.561999999999938, -0.5601560000001933], [1.562999999999938, -0.5570310000001939], [1.5639999999999379, -0.5539040000001942], [1.5649999999999378, -0.5507750000001947], [1.5659999999999377, -0.5476440000001954], [1.5669999999999376, -0.5445110000001958], [1.5679999999999374, -0.5413760000001964], [1.5689999999999373, -0.5382390000001966], [1.5699999999999372, -0.5351000000001971], [1.5709999999999371, -0.5319590000001977], [1.571999999999937, -0.528816000000198], [1.572999999999937, -0.5256710000001985], [1.5739999999999368, -0.5225240000001992], [1.5749999999999367, -0.5193750000001995], [1.5759999999999366, -0.5162240000002001], [1.5769999999999365, -0.5130710000002003], [1.5779999999999363, -0.5099160000002008], [1.5789999999999362, -0.5067590000002014], [1.5799999999999361, -0.5036000000002017], [1.580999999999936, -0.5004390000002021], [1.581999999999936, -0.4972760000002028], [1.5829999999999358, -0.49411100000020314], [1.5839999999999357, -0.49094400000020366], [1.5849999999999356, -0.48777500000020435], [1.5859999999999355, -0.48460400000020476], [1.5869999999999354, -0.48143100000020533], [1.5879999999999352, -0.4782560000002056], [1.5889999999999351, -0.4750790000002061], [1.589999999999935, -0.4719000000002067], [1.590999999999935, -0.46871900000020705], [1.5919999999999348, -0.46553600000020756], [1.5929999999999347, -0.46235100000020823], [1.5939999999999346, -0.4591640000002086], [1.5949999999999345, -0.4559750000002092], [1.5959999999999344, -0.45278400000020946], [1.5969999999999342, -0.4495910000002099], [1.5979999999999341, -0.4463960000002105], [1.598999999999934, -0.44319900000021084], [1.599999999999934, -0.44000000000021133], [1.6009999999999338, -0.436799000000212], [1.6019999999999337, -0.43359600000021237], [1.6029999999999336, -0.4303910000002129], [1.6039999999999335, -0.4271840000002136], [1.6049999999999334, -0.42397500000021404], [1.6059999999999333, -0.4207640000002142], [1.6069999999999331, -0.41755100000021494], [1.607999999999933, -0.4143360000002154], [1.608999999999933, -0.4111190000002156], [1.6099999999999328, -0.4079000000002164], [1.6109999999999327, -0.40467900000021695], [1.6119999999999326, -0.4014560000002172], [1.6129999999999325, -0.3982310000002176], [1.6139999999999324, -0.3950040000002182], [1.6149999999999323, -0.3917750000002189], [1.6159999999999322, -0.3885440000002194], [1.616999999999932, -0.38531100000021956], [1.617999999999932, -0.38207600000022035], [1.6189999999999318, -0.37883900000022086], [1.6199999999999317, -0.3756000000002211], [1.6209999999999316, -0.37235900000022193], [1.6219999999999315, -0.36911600000022204], [1.6229999999999314, -0.36587100000022277], [1.6239999999999313, -0.3626240000002232], [1.6249999999999312, -0.3593750000002238], [1.625999999999931, -0.35612400000022415], [1.626999999999931, -0.35287100000022464], [1.6279999999999308, -0.3496160000002253], [1.6289999999999307, -0.3463590000002257], [1.6299999999999306, -0.3431000000002262], [1.6309999999999305, -0.3398390000002265], [1.6319999999999304, -0.33657600000022736], [1.6329999999999303, -0.3333110000002275], [1.6339999999999302, -0.33004400000022827], [1.63499999999993, -0.32677500000022874], [1.63599999999993, -0.3235040000002294], [1.6369999999999298, -0.32023100000022975], [1.6379999999999297, -0.3169560000002303], [1.6389999999999296, -0.3136790000002305], [1.6399999999999295, -0.3104000000002314], [1.6409999999999294, -0.3071190000002315], [1.6419999999999293, -0.30383600000023225], [1.6429999999999292, -0.3005510000002327], [1.643999999999929, -0.29726400000023334], [1.644999999999929, -0.2939750000002337], [1.6459999999999289, -0.2906840000002342], [1.6469999999999287, -0.2873910000002349], [1.6479999999999286, -0.28409600000023527], [1.6489999999999285, -0.28079900000023583], [1.6499999999999284, -0.2775000000002361], [1.6509999999999283, -0.27419900000023656], [1.6519999999999282, -0.27089600000023717], [1.652999999999928, -0.26759100000023794], [1.653999999999928, -0.26428400000023844], [1.6549999999999279, -0.26097500000023865], [1.6559999999999278, -0.2576640000002395], [1.6569999999999276, -0.2543510000002396], [1.6579999999999275, -0.2510360000002403], [1.6589999999999274, -0.24771900000024072], [1.6599999999999273, -0.2444000000002413], [1.6609999999999272, -0.24107900000024163], [1.661999999999927, -0.23775600000024255], [1.662999999999927, -0.23443100000024275], [1.6639999999999269, -0.23110400000024356], [1.6649999999999268, -0.2277750000002441], [1.6659999999999267, -0.22444400000024434], [1.6669999999999265, -0.22111100000024475], [1.6679999999999264, -0.21777600000024533], [1.6689999999999263, -0.21443900000024607], [1.6699999999999262, -0.21110000000024653], [1.670999999999926, -0.20775900000024716], [1.671999999999926, -0.2044160000002475], [1.6729999999999259, -0.20107100000024802], [1.6739999999999258, -0.1977240000002487], [1.6749999999999257, -0.1943750000002491], [1.6759999999999255, -0.19102400000024966], [1.6769999999999254, -0.18767100000024994], [1.6779999999999253, -0.1843160000002504], [1.6789999999999252, -0.180959000000251], [1.679999999999925, -0.17760000000025178], [1.680999999999925, -0.17423900000025228], [1.6819999999999249, -0.1708760000002525], [1.6829999999999248, -0.16751100000025332], [1.6839999999999247, -0.16414400000025386], [1.6849999999999246, -0.16077500000025413], [1.6859999999999244, -0.15740400000025456], [1.6869999999999243, -0.15403100000025516], [1.6879999999999242, -0.15065600000025592], [1.6889999999999241, -0.1472790000002564], [1.689999999999924, -0.14390000000025704], [1.690999999999924, -0.1405190000002574], [1.6919999999999238, -0.13713600000025794], [1.6929999999999237, -0.13375100000025864], [1.6939999999999236, -0.13036400000025905], [1.6949999999999235, -0.12697500000025963], [1.6959999999999233, -0.12358400000025993], [1.6969999999999232, -0.1201910000002604], [1.6979999999999231, -0.11679600000026102], [1.698999999999923, -0.11339900000026137], [1.699999999999923, -0.11000000000026233], [1.7009999999999228, -0.10659900000026257], [1.7019999999999227, -0.10319600000026297], [1.7029999999999226, -0.09979100000026353], [1.7039999999999225, -0.09638400000026426], [1.7049999999999224, -0.09297500000026471], [1.7059999999999222, -0.08956400000026532], [1.7069999999999221, -0.08615100000026565], [1.707999999999922, -0.08273600000026615], [1.708999999999922, -0.07931900000026681], [1.7099999999999218, -0.07590000000026764], [1.7109999999999217, -0.07247900000026775], [1.7119999999999216, -0.06905600000026846], [1.7129999999999215, -0.06563100000026889], [1.7139999999999214, -0.06220400000026949], [1.7149999999999213, -0.05877500000027025], [1.7159999999999211, -0.05534400000027073], [1.716999999999921, -0.05191100000027138], [1.717999999999921, -0.048476000000271746], [1.7189999999999208, -0.04503900000027228], [1.7199999999999207, -0.041600000000272974], [1.7209999999999206, -0.03815900000027339], [1.7219999999999205, -0.03471600000027397], [1.7229999999999204, -0.031271000000274274], [1.7239999999999203, -0.02782400000027474], [1.7249999999999202, -0.02437500000027537], [1.72599999999992, -0.020924000000276166], [1.72699999999992, -0.017471000000276682], [1.7279999999999198, -0.014016000000276918], [1.7289999999999197, -0.010559000000277763], [1.7299999999999196, -0.007100000000278328], [1.7309999999999195, -0.003639000000278614], [1.7319999999999194, -0.00017600000027906404], [1.7329999999999193, 0.003288999999720321], [1.7339999999999192, 0.006755999999719542], [1.734999999999919, 0.010224999999719042], [1.735999999999919, 0.013695999999718378], [1.7369999999999188, 0.017168999999717993], [1.7379999999999187, 0.020643999999717444], [1.7389999999999186, 0.02412099999971673], [1.7399999999999185, 0.027599999999716296], [1.7409999999999184, 0.031080999999715697], [1.7419999999999183, 0.03456399999971538], [1.7429999999999182, 0.038048999999714894], [1.743999999999918, 0.041535999999714246], [1.744999999999918, 0.04502499999971343], [1.7459999999999178, 0.0485159999997129], [1.7469999999999177, 0.052008999999712646], [1.7479999999999176, 0.055503999999711784], [1.7489999999999175, 0.059000999999711645], [1.7499999999999174, 0.0624999999997109], [1.7509999999999173, 0.06600099999971043], [1.7519999999999172, 0.0695039999997098], [1.752999999999917, 0.07300899999970945], [1.753999999999917, 0.07651599999970848], [1.7549999999999168, 0.08002499999970825], [1.7559999999999167, 0.0835359999997074], [1.7569999999999166, 0.08704899999970683], [1.7579999999999165, 0.09056399999970655], [1.7589999999999164, 0.0940809999997061], [1.7599999999999163, 0.09759999999970548], [1.7609999999999162, 0.1011209999997047], [1.761999999999916, 0.1046439999997042], [1.762999999999916, 0.10816899999970353], [1.7639999999999159, 0.11169599999970314], [1.7649999999999157, 0.1152249999997026], [1.7659999999999156, 0.11875599999970188], [1.7669999999999155, 0.12228899999970144], [1.7679999999999154, 0.12582399999970084], [1.7689999999999153, 0.12936099999970052], [1.7699999999999152, 0.1328999999996996], [1.770999999999915, 0.13644099999969939], [1.771999999999915, 0.13998399999969857], [1.7729999999999149, 0.14352899999969804], [1.7739999999999148, 0.14707599999969734], [1.7749999999999146, 0.15062499999969692], [1.7759999999999145, 0.15417599999969633], [1.7769999999999144, 0.15772899999969603], [1.7779999999999143, 0.16128399999969512], [1.7789999999999142, 0.16484099999969493], [1.779999999999914, 0.16839999999969413], [1.780999999999914, 0.1719609999996936], [1.7819999999999139, 0.17552399999969293], [1.7829999999999138, 0.17908899999969252], [1.7839999999999137, 0.18265599999969195], [1.7849999999999135, 0.18622499999969122], [1.7859999999999134, 0.18979599999969077], [1.7869999999999133, 0.19336899999969015], [1.7879999999999132, 0.1969439999996898], [1.788999999999913, 0.20052099999968886], [1.789999999999913, 0.20409999999968864], [1.7909999999999129, 0.2076809999996878], [1.7919999999999128, 0.21126399999968726], [1.7929999999999127, 0.21484899999968698], [1.7939999999999126, 0.2184359999996861], [1.7949999999999124, 0.2220249999996855], [1.7959999999999123, 0.22561599999968518], [1.7969999999999122, 0.2292089999996847], [1.7979999999999121, 0.23280399999968404], [1.798999999999912, 0.23640099999968323], [1.799999999999912, 0.2399999999996827], [1.8009999999999118, 0.24360099999968243], [1.8019999999999117, 0.24720399999968157], [1.8029999999999116, 0.250808999999681], [1.8039999999999115, 0.2544159999996807], [1.8049999999999113, 0.25802499999967976], [1.8059999999999112, 0.26163599999967957], [1.8069999999999111, 0.26524899999967877], [1.807999999999911, 0.26886399999967825], [1.808999999999911, 0.27248099999967756], [1.8099999999999108, 0.27609999999967716], [1.8109999999999107, 0.2797209999996766], [1.8119999999999106, 0.28334399999967586], [1.8129999999999105, 0.2869689999996754], [1.8139999999999104, 0.2905959999996748], [1.8149999999999102, 0.294224999999674], [1.8159999999999101, 0.2978559999996735], [1.81699999999991, 0.3014889999996728], [1.81799999999991, 0.30512399999967244], [1.8189999999999098, 0.3087609999996719], [1.8199999999999097, 0.31239999999967116], [1.8209999999999096, 0.3160409999996707], [1.8219999999999095, 0.3196839999996701], [1.8229999999999094, 0.32332899999966935], [1.8239999999999092, 0.32697599999966886], [1.8249999999999091, 0.3306249999996682], [1.825999999999909, 0.33427599999966784], [1.826999999999909, 0.3379289999996673], [1.8279999999999088, 0.3415839999996666], [1.8289999999999087, 0.3452409999996662], [1.8299999999999086, 0.3488999999996656], [1.8309999999999085, 0.35256099999966484], [1.8319999999999084, 0.35622399999966436], [1.8329999999999083, 0.35988899999966373], [1.8339999999999081, 0.3635559999996629], [1.834999999999908, 0.3672249999996624], [1.835999999999908, 0.3708959999996617], [1.8369999999999078, 0.3745689999996613], [1.8379999999999077, 0.37824399999966074], [1.8389999999999076, 0.38192099999966], [1.8399999999999075, 0.38559999999965955], [1.8409999999999074, 0.3892809999996589], [1.8419999999999073, 0.3929639999996586], [1.8429999999999072, 0.39664899999965764], [1.843999999999907, 0.4003359999996574], [1.844999999999907, 0.4040249999996566], [1.8459999999999068, 0.407715999999656], [1.8469999999999067, 0.4114089999996553], [1.8479999999999066, 0.41510399999965486], [1.8489999999999065, 0.41880099999965426], [1.8499999999999064, 0.4224999999996535], [1.8509999999999063, 0.426200999999653], [1.8519999999999062, 0.42990399999965234], [1.852999999999906, 0.43360899999965197], [1.853999999999906, 0.43731599999965143], [1.8549999999999058, 0.4410249999996507], [1.8559999999999057, 0.44473599999964986], [1.8569999999999056, 0.44844899999964927], [1.8579999999999055, 0.45216399999964896], [1.8589999999999054, 0.45588099999964804], [1.8599999999999053, 0.45959999999964785], [1.8609999999999052, 0.46332099999964704], [1.861999999999905, 0.4670439999996465], [1.862999999999905, 0.47076899999964583], [1.8639999999999048, 0.4744959999996454], [1.8649999999999047, 0.47822499999964485], [1.8659999999999046, 0.4819559999996441], [1.8669999999999045, 0.48568899999964366], [1.8679999999999044, 0.48942399999964303], [1.8689999999999043, 0.49316099999964225], [1.8699999999999042, 0.49689999999964174], [1.870999999999904, 0.5006409999996411], [1.871999999999904, 0.5043839999996402], [1.8729999999999039, 0.5081289999996397], [1.8739999999999037, 0.5118759999996394], [1.8749999999999036, 0.5156249999996385], [1.8759999999999035, 0.5193759999996379], [1.8769999999999034, 0.5231289999996376], [1.8779999999999033, 0.5268839999996366], [1.8789999999999032, 0.530640999999636], [1.879999999999903, 0.5343999999996356], [1.880999999999903, 0.5381609999996351], [1.8819999999999029, 0.5419239999996344], [1.8829999999999028, 0.5456889999996339], [1.8839999999999026, 0.5494559999996333], [1.8849999999999025, 0.5532249999996326], [1.8859999999999024, 0.5569959999996321], [1.8869999999999023, 0.5607689999996315], [1.8879999999999022, 0.5645439999996307], [1.888999999999902, 0.5683209999996301], [1.889999999999902, 0.5720999999996295], [1.8909999999999019, 0.575880999999629], [1.8919999999999018, 0.5796639999996285], [1.8929999999999017, 0.5834489999996277], [1.8939999999999015, 0.5872359999996268], [1.8949999999999014, 0.5910249999996262], [1.8959999999999013, 0.5948159999996259], [1.8969999999999012, 0.5986089999996254], [1.897999999999901, 0.6024039999996247], [1.898999999999901, 0.6062009999996238], [1.8999999999999009, 0.6099999999996233], [1.9009999999999008, 0.6138009999996226], [1.9019999999999007, 0.6176039999996221], [1.9029999999999005, 0.6214089999996215], [1.9039999999999004, 0.6252159999996207], [1.9049999999999003, 0.6290249999996202], [1.9059999999999002, 0.6328359999996196], [1.9069999999999, 0.6366489999996192], [1.9079999999999, 0.6404639999996182], [1.9089999999998999, 0.644280999999618], [1.9099999999998998, 0.6480999999996171], [1.9109999999998997, 0.6519209999996165], [1.9119999999998996, 0.6557439999996157], [1.9129999999998994, 0.6595689999996153], [1.9139999999998993, 0.6633959999996146], [1.9149999999998992, 0.6672249999996138], [1.9159999999998991, 0.6710559999996133], [1.916999999999899, 0.6748889999996126], [1.917999999999899, 0.6787239999996122], [1.9189999999998988, 0.6825609999996116], [1.9199999999998987, 0.6863999999996109], [1.9209999999998986, 0.6902409999996104], [1.9219999999998985, 0.6940839999996098], [1.9229999999998983, 0.697928999999609], [1.9239999999998982, 0.7017759999996085], [1.9249999999998981, 0.7056249999996078], [1.925999999999898, 0.709475999999607], [1.926999999999898, 0.7133289999996064], [1.9279999999998978, 0.7171839999996057], [1.9289999999998977, 0.7210409999996052], [1.9299999999998976, 0.7248999999996046], [1.9309999999998975, 0.7287609999996039], [1.9319999999998974, 0.7326239999996034], [1.9329999999998972, 0.7364889999996027], [1.9339999999998971, 0.7403559999996023], [1.934999999999897, 0.7442249999996013], [1.935999999999897, 0.7480959999996006], [1.9369999999998968, 0.7519689999996002], [1.9379999999998967, 0.7558439999995996], [1.9389999999998966, 0.7597209999995989], [1.9399999999998965, 0.7635999999995984], [1.9409999999998964, 0.7674809999995977], [1.9419999999998963, 0.7713639999995969], [1.9429999999998961, 0.7752489999995964], [1.943999999999896, 0.7791359999995957], [1.944999999999896, 0.7830249999995953], [1.9459999999998958, 0.7869159999995947], [1.9469999999998957, 0.790808999999594], [1.9479999999998956, 0.7947039999995931], [1.9489999999998955, 0.7986009999995924], [1.9499999999998954, 0.8024999999995921], [1.9509999999998953, 0.8064009999995911], [1.9519999999998952, 0.8103039999995905], [1.952999999999895, 0.8142089999995901], [1.953999999999895, 0.8181159999995895], [1.9549999999998948, 0.8220249999995888], [1.9559999999998947, 0.8259359999995883], [1.9569999999998946, 0.8298489999995873], [1.9579999999998945, 0.833763999999587], [1.9589999999998944, 0.837680999999586], [1.9599999999998943, 0.8415999999995853], [1.9609999999998942, 0.845520999999585], [1.961999999999894, 0.8494439999995844], [1.962999999999894, 0.8533689999995837], [1.9639999999998938, 0.8572959999995828], [1.9649999999998937, 0.8612249999995822], [1.9659999999998936, 0.8651559999995815], [1.9669999999998935, 0.869088999999581], [1.9679999999998934, 0.8730239999995804], [1.9689999999998933, 0.8769609999995795], [1.9699999999998932, 0.880899999999579], [1.970999999999893, 0.8848409999995783], [1.971999999999893, 0.8887839999995779], [1.9729999999998928, 0.8927289999995773], [1.9739999999998927, 0.8966759999995766], [1.9749999999998926, 0.9006249999995757], [1.9759999999998925, 0.904575999999575], [1.9769999999998924, 0.9085289999995747], [1.9779999999998923, 0.9124839999995737], [1.9789999999998922, 0.9164409999995731], [1.979999999999892, 0.9203999999995727], [1.980999999999892, 0.9243609999995721], [1.9819999999998918, 0.9283239999995714], [1.9829999999998917, 0.9322889999995705], [1.9839999999998916, 0.9362559999995699], [1.9849999999998915, 0.9402249999995695], [1.9859999999998914, 0.9441959999995686], [1.9869999999998913, 0.9481689999995679], [1.9879999999998912, 0.9521439999995676], [1.988999999999891, 0.9561209999995666], [1.989999999999891, 0.9600999999995659], [1.9909999999998909, 0.9640809999995654], [1.9919999999998907, 0.9680639999995648], [1.9929999999998906, 0.9720489999995641], [1.9939999999998905, 0.9760359999995636], [1.9949999999998904, 0.9800249999995629], [1.9959999999998903, 0.9840159999995621], [1.9969999999998902, 0.9880089999995616], [1.99799999999989, 0.9920039999995609], [1.99899999999989, 0.99600099999956]], \"data02\": [[1.5, -0.75], [1.75, 0.0625], [1.625, -0.359375], [1.6875, -0.15234375], [1.71875, -0.04589843802386895], [1.734375, 0.008056640974245965], [1.7265625, -0.018981934001203626]]}, \"id\": \"el59140410915675088\", \"plugins\": [{\"type\": \"reset\"}, {\"type\": \"zoom\", \"button\": true, \"enabled\": false}, {\"type\": \"boxzoom\", \"button\": true, \"enabled\": false}, {\"type\": \"mouseposition\", \"fontsize\": 14, \"fmt\": \".3g\"}]});\n",
              "      });\n",
              "    });\n",
              "}else{\n",
              "    // require.js not available: dynamically load d3 & mpld3\n",
              "    mpld3_load_lib(\"https://mpld3.github.io/js/d3.v3.min.js\", function(){\n",
              "         mpld3_load_lib(\"https://mpld3.github.io/js/mpld3.v0.3.1.dev1.js\", function(){\n",
              "                 \n",
              "                 mpld3.draw_figure(\"fig_el591404109156750883935169732\", {\"width\": 432.0, \"height\": 288.0, \"axes\": [{\"bbox\": [0.125, 0.125, 0.775, 0.755], \"xlim\": [0.9500500000000055, 2.0489499999998846], \"ylim\": [-2.149800049999978, 1.1458010499995381], \"xdomain\": [0.9500500000000055, 2.0489499999998846], \"ydomain\": [-2.149800049999978, 1.1458010499995381], \"xscale\": \"linear\", \"yscale\": \"linear\", \"axes\": [{\"position\": \"bottom\", \"nticks\": 8, \"tickvalues\": null, \"tickformat\": null, \"scale\": \"linear\", \"fontsize\": 10.0, \"grid\": {\"gridOn\": true, \"color\": \"#B0B0B0\", \"dasharray\": \"none\", \"alpha\": 1.0}, \"visible\": true}, {\"position\": \"left\", \"nticks\": 9, \"tickvalues\": null, \"tickformat\": null, \"scale\": \"linear\", \"fontsize\": 10.0, \"grid\": {\"gridOn\": true, \"color\": \"#B0B0B0\", \"dasharray\": \"none\", \"alpha\": 1.0}, \"visible\": true}], \"axesbg\": \"#FFFFFF\", \"axesbgalpha\": null, \"zoomable\": true, \"id\": \"el59140410917172048\", \"lines\": [{\"data\": \"data01\", \"xindex\": 0, \"yindex\": 1, \"coordinates\": \"data\", \"id\": \"el59140410757630992\", \"color\": \"#1F77B4\", \"linewidth\": 1.5, \"dasharray\": \"none\", \"alpha\": 1, \"zorder\": 2, \"drawstyle\": \"default\"}], \"paths\": [], \"markers\": [{\"data\": \"data01\", \"xindex\": 0, \"yindex\": 1, \"coordinates\": \"data\", \"id\": \"el59140410757630992pts\", \"facecolor\": \"#1F77B4\", \"edgecolor\": \"#1F77B4\", \"edgewidth\": 1.0, \"alpha\": 1, \"zorder\": 2, \"markerpath\": [[[0.0, 1.0], [0.2652031, 1.0], [0.5195798707848535, 0.8946336915882417], [0.7071067811865476, 0.7071067811865476], [0.8946336915882417, 0.5195798707848535], [1.0, 0.2652031], [1.0, 0.0], [1.0, -0.2652031], [0.8946336915882417, -0.5195798707848535], [0.7071067811865476, -0.7071067811865476], [0.5195798707848535, -0.8946336915882417], [0.2652031, -1.0], [0.0, -1.0], [-0.2652031, -1.0], [-0.5195798707848535, -0.8946336915882417], [-0.7071067811865476, -0.7071067811865476], [-0.8946336915882417, -0.5195798707848535], [-1.0, -0.2652031], [-1.0, 0.0], [-1.0, 0.2652031], [-0.8946336915882417, 0.5195798707848535], [-0.7071067811865476, 0.7071067811865476], [-0.5195798707848535, 0.8946336915882417], [-0.2652031, 1.0], [0.0, 1.0]], [\"M\", \"C\", \"C\", \"C\", \"C\", \"C\", \"C\", \"C\", \"C\", \"Z\"]]}, {\"data\": \"data02\", \"xindex\": 0, \"yindex\": 1, \"coordinates\": \"data\", \"id\": \"el59140410757674000pts\", \"facecolor\": \"#FF0000\", \"edgecolor\": \"#FF0000\", \"edgewidth\": 1.0, \"alpha\": 1, \"zorder\": 2, \"markerpath\": [[[0.0, 3.0], [0.7956093000000001, 3.0], [1.5587396123545605, 2.683901074764725], [2.121320343559643, 2.121320343559643], [2.683901074764725, 1.5587396123545605], [3.0, 0.7956093000000001], [3.0, 0.0], [3.0, -0.7956093000000001], [2.683901074764725, -1.5587396123545605], [2.121320343559643, -2.121320343559643], [1.5587396123545605, -2.683901074764725], [0.7956093000000001, -3.0], [0.0, -3.0], [-0.7956093000000001, -3.0], [-1.5587396123545605, -2.683901074764725], [-2.121320343559643, -2.121320343559643], [-2.683901074764725, -1.5587396123545605], [-3.0, -0.7956093000000001], [-3.0, 0.0], [-3.0, 0.7956093000000001], [-2.683901074764725, 1.5587396123545605], [-2.121320343559643, 2.121320343559643], [-1.5587396123545605, 2.683901074764725], [-0.7956093000000001, 3.0], [0.0, 3.0]], [\"M\", \"C\", \"C\", \"C\", \"C\", \"C\", \"C\", \"C\", \"C\", \"Z\"]]}], \"texts\": [{\"text\": \"Gr\\u00e1fico fun\\u00e7\\u00e3o f(x)=x**2 - 3\", \"position\": [0.49999999999999994, 1.0275938189845473], \"coordinates\": \"axes\", \"h_anchor\": \"middle\", \"v_baseline\": \"auto\", \"rotation\": -0.0, \"fontsize\": 12.0, \"color\": \"#000000\", \"alpha\": 1, \"zorder\": 3, \"id\": \"el59140410914915472\"}], \"collections\": [], \"images\": [], \"sharex\": [], \"sharey\": []}], \"data\": {\"data01\": [[1.0, -2.0], [1.001, -1.9979990000000003], [1.0019999999999998, -1.9959960000000005], [1.0029999999999997, -1.9939910000000007], [1.0039999999999996, -1.9919840000000009], [1.0049999999999994, -1.9899750000000012], [1.0059999999999993, -1.9879640000000014], [1.0069999999999992, -1.9859510000000016], [1.0079999999999991, -1.9839360000000017], [1.008999999999999, -1.981919000000002], [1.009999999999999, -1.9799000000000022], [1.0109999999999988, -1.9778790000000024], [1.0119999999999987, -1.9758560000000027], [1.0129999999999986, -1.973831000000003], [1.0139999999999985, -1.9718040000000032], [1.0149999999999983, -1.9697750000000034], [1.0159999999999982, -1.9677440000000035], [1.0169999999999981, -1.9657110000000038], [1.017999999999998, -1.963676000000004], [1.018999999999998, -1.9616390000000044], [1.0199999999999978, -1.9596000000000044], [1.0209999999999977, -1.9575590000000047], [1.0219999999999976, -1.955516000000005], [1.0229999999999975, -1.9534710000000053], [1.0239999999999974, -1.9514240000000054], [1.0249999999999972, -1.9493750000000056], [1.0259999999999971, -1.9473240000000058], [1.026999999999997, -1.9452710000000062], [1.027999999999997, -1.9432160000000063], [1.0289999999999968, -1.9411590000000065], [1.0299999999999967, -1.9391000000000067], [1.0309999999999966, -1.937039000000007], [1.0319999999999965, -1.9349760000000074], [1.0329999999999964, -1.9329110000000076], [1.0339999999999963, -1.9308440000000078], [1.0349999999999961, -1.928775000000008], [1.035999999999996, -1.9267040000000082], [1.036999999999996, -1.9246310000000084], [1.0379999999999958, -1.9225560000000086], [1.0389999999999957, -1.920479000000009], [1.0399999999999956, -1.9184000000000092], [1.0409999999999955, -1.9163190000000094], [1.0419999999999954, -1.9142360000000096], [1.0429999999999953, -1.91215100000001], [1.0439999999999952, -1.9100640000000102], [1.044999999999995, -1.9079750000000104], [1.045999999999995, -1.9058840000000106], [1.0469999999999948, -1.903791000000011], [1.0479999999999947, -1.9016960000000112], [1.0489999999999946, -1.8995990000000114], [1.0499999999999945, -1.8975000000000115], [1.0509999999999944, -1.8953990000000118], [1.0519999999999943, -1.893296000000012], [1.0529999999999942, -1.8911910000000123], [1.053999999999994, -1.8890840000000126], [1.054999999999994, -1.8869750000000127], [1.0559999999999938, -1.884864000000013], [1.0569999999999937, -1.8827510000000132], [1.0579999999999936, -1.8806360000000135], [1.0589999999999935, -1.8785190000000138], [1.0599999999999934, -1.876400000000014], [1.0609999999999933, -1.8742790000000142], [1.0619999999999932, -1.8721560000000146], [1.062999999999993, -1.8700310000000147], [1.063999999999993, -1.867904000000015], [1.0649999999999928, -1.8657750000000153], [1.0659999999999927, -1.8636440000000154], [1.0669999999999926, -1.8615110000000157], [1.0679999999999925, -1.859376000000016], [1.0689999999999924, -1.8572390000000163], [1.0699999999999923, -1.8551000000000164], [1.0709999999999922, -1.8529590000000167], [1.071999999999992, -1.850816000000017], [1.072999999999992, -1.8486710000000173], [1.0739999999999919, -1.8465240000000176], [1.0749999999999917, -1.8443750000000179], [1.0759999999999916, -1.842224000000018], [1.0769999999999915, -1.8400710000000182], [1.0779999999999914, -1.8379160000000185], [1.0789999999999913, -1.8357590000000188], [1.0799999999999912, -1.833600000000019], [1.080999999999991, -1.8314390000000194], [1.081999999999991, -1.8292760000000194], [1.0829999999999909, -1.8271110000000197], [1.0839999999999907, -1.82494400000002], [1.0849999999999906, -1.8227750000000202], [1.0859999999999905, -1.8206040000000205], [1.0869999999999904, -1.8184310000000208], [1.0879999999999903, -1.8162560000000212], [1.0889999999999902, -1.8140790000000213], [1.08999999999999, -1.8119000000000216], [1.09099999999999, -1.8097190000000218], [1.0919999999999899, -1.8075360000000222], [1.0929999999999898, -1.8053510000000224], [1.0939999999999896, -1.8031640000000226], [1.0949999999999895, -1.8009750000000229], [1.0959999999999894, -1.7987840000000233], [1.0969999999999893, -1.7965910000000234], [1.0979999999999892, -1.7943960000000236], [1.098999999999989, -1.7921990000000239], [1.099999999999989, -1.7900000000000242], [1.1009999999999889, -1.7877990000000246], [1.1019999999999888, -1.7855960000000248], [1.1029999999999887, -1.783391000000025], [1.1039999999999885, -1.7811840000000252], [1.1049999999999884, -1.7789750000000255], [1.1059999999999883, -1.7767640000000258], [1.1069999999999882, -1.7745510000000262], [1.107999999999988, -1.7723360000000263], [1.108999999999988, -1.7701190000000266], [1.1099999999999879, -1.767900000000027], [1.1109999999999878, -1.765679000000027], [1.1119999999999877, -1.7634560000000274], [1.1129999999999876, -1.7612310000000277], [1.1139999999999874, -1.759004000000028], [1.1149999999999873, -1.7567750000000282], [1.1159999999999872, -1.7545440000000285], [1.1169999999999871, -1.7523110000000288], [1.117999999999987, -1.750076000000029], [1.118999999999987, -1.7478390000000292], [1.1199999999999868, -1.7456000000000296], [1.1209999999999867, -1.7433590000000299], [1.1219999999999866, -1.74111600000003], [1.1229999999999865, -1.7388710000000305], [1.1239999999999863, -1.7366240000000308], [1.1249999999999862, -1.7343750000000309], [1.1259999999999861, -1.7321240000000313], [1.126999999999986, -1.7298710000000315], [1.127999999999986, -1.7276160000000318], [1.1289999999999858, -1.725359000000032], [1.1299999999999857, -1.7231000000000323], [1.1309999999999856, -1.7208390000000326], [1.1319999999999855, -1.718576000000033], [1.1329999999999854, -1.7163110000000332], [1.1339999999999852, -1.7140440000000334], [1.1349999999999851, -1.7117750000000338], [1.135999999999985, -1.709504000000034], [1.136999999999985, -1.7072310000000344], [1.1379999999999848, -1.7049560000000346], [1.1389999999999847, -1.702679000000035], [1.1399999999999846, -1.7004000000000352], [1.1409999999999845, -1.6981190000000355], [1.1419999999999844, -1.6958360000000356], [1.1429999999999843, -1.693551000000036], [1.1439999999999841, -1.6912640000000363], [1.144999999999984, -1.6889750000000365], [1.145999999999984, -1.686684000000037], [1.1469999999999838, -1.684391000000037], [1.1479999999999837, -1.6820960000000373], [1.1489999999999836, -1.6797990000000378], [1.1499999999999835, -1.677500000000038], [1.1509999999999834, -1.6751990000000383], [1.1519999999999833, -1.6728960000000386], [1.1529999999999831, -1.6705910000000388], [1.153999999999983, -1.6682840000000392], [1.154999999999983, -1.6659750000000395], [1.1559999999999828, -1.6636640000000398], [1.1569999999999827, -1.66135100000004], [1.1579999999999826, -1.6590360000000404], [1.1589999999999825, -1.6567190000000407], [1.1599999999999824, -1.654400000000041], [1.1609999999999823, -1.6520790000000412], [1.1619999999999822, -1.6497560000000415], [1.162999999999982, -1.6474310000000418], [1.163999999999982, -1.645104000000042], [1.1649999999999818, -1.6427750000000423], [1.1659999999999817, -1.6404440000000426], [1.1669999999999816, -1.638111000000043], [1.1679999999999815, -1.6357760000000432], [1.1689999999999814, -1.6334390000000436], [1.1699999999999813, -1.6311000000000437], [1.1709999999999812, -1.628759000000044], [1.171999999999981, -1.6264160000000445], [1.172999999999981, -1.6240710000000447], [1.1739999999999808, -1.621724000000045], [1.1749999999999807, -1.6193750000000453], [1.1759999999999806, -1.6170240000000455], [1.1769999999999805, -1.614671000000046], [1.1779999999999804, -1.6123160000000463], [1.1789999999999803, -1.6099590000000465], [1.1799999999999802, -1.6076000000000468], [1.18099999999998, -1.6052390000000472], [1.18199999999998, -1.6028760000000475], [1.1829999999999798, -1.6005110000000478], [1.1839999999999797, -1.598144000000048], [1.1849999999999796, -1.5957750000000483], [1.1859999999999795, -1.5934040000000487], [1.1869999999999794, -1.591031000000049], [1.1879999999999793, -1.5886560000000491], [1.1889999999999792, -1.5862790000000495], [1.189999999999979, -1.5839000000000498], [1.190999999999979, -1.58151900000005], [1.1919999999999789, -1.5791360000000505], [1.1929999999999787, -1.5767510000000506], [1.1939999999999786, -1.574364000000051], [1.1949999999999785, -1.5719750000000514], [1.1959999999999784, -1.5695840000000516], [1.1969999999999783, -1.567191000000052], [1.1979999999999782, -1.5647960000000523], [1.198999999999978, -1.5623990000000525], [1.199999999999978, -1.560000000000053], [1.2009999999999779, -1.5575990000000532], [1.2019999999999778, -1.5551960000000535], [1.2029999999999776, -1.5527910000000538], [1.2039999999999775, -1.5503840000000542], [1.2049999999999774, -1.5479750000000545], [1.2059999999999773, -1.5455640000000548], [1.2069999999999772, -1.543151000000055], [1.207999999999977, -1.5407360000000554], [1.208999999999977, -1.5383190000000557], [1.2099999999999769, -1.535900000000056], [1.2109999999999768, -1.5334790000000562], [1.2119999999999767, -1.5310560000000566], [1.2129999999999765, -1.528631000000057], [1.2139999999999764, -1.5262040000000572], [1.2149999999999763, -1.5237750000000576], [1.2159999999999762, -1.5213440000000578], [1.216999999999976, -1.518911000000058], [1.217999999999976, -1.5164760000000586], [1.2189999999999759, -1.5140390000000588], [1.2199999999999758, -1.5116000000000591], [1.2209999999999757, -1.5091590000000594], [1.2219999999999756, -1.5067160000000597], [1.2229999999999754, -1.50427100000006], [1.2239999999999753, -1.5018240000000604], [1.2249999999999752, -1.4993750000000607], [1.225999999999975, -1.496924000000061], [1.226999999999975, -1.4944710000000614], [1.227999999999975, -1.4920160000000617], [1.2289999999999748, -1.489559000000062], [1.2299999999999747, -1.4871000000000623], [1.2309999999999746, -1.4846390000000627], [1.2319999999999744, -1.482176000000063], [1.2329999999999743, -1.4797110000000633], [1.2339999999999742, -1.4772440000000635], [1.2349999999999741, -1.474775000000064], [1.235999999999974, -1.4723040000000642], [1.236999999999974, -1.4698310000000645], [1.2379999999999738, -1.467356000000065], [1.2389999999999737, -1.4648790000000653], [1.2399999999999736, -1.4624000000000656], [1.2409999999999735, -1.459919000000066], [1.2419999999999733, -1.4574360000000661], [1.2429999999999732, -1.4549510000000665], [1.2439999999999731, -1.4524640000000668], [1.244999999999973, -1.4499750000000673], [1.245999999999973, -1.4474840000000675], [1.2469999999999728, -1.4449910000000679], [1.2479999999999727, -1.4424960000000682], [1.2489999999999726, -1.4399990000000684], [1.2499999999999725, -1.4375000000000688], [1.2509999999999724, -1.4349990000000692], [1.2519999999999722, -1.4324960000000695], [1.2529999999999721, -1.4299910000000697], [1.253999999999972, -1.4274840000000701], [1.254999999999972, -1.4249750000000705], [1.2559999999999718, -1.4224640000000708], [1.2569999999999717, -1.4199510000000712], [1.2579999999999716, -1.4174360000000714], [1.2589999999999715, -1.4149190000000718], [1.2599999999999714, -1.4124000000000723], [1.2609999999999713, -1.4098790000000725], [1.2619999999999711, -1.4073560000000729], [1.262999999999971, -1.4048310000000732], [1.263999999999971, -1.4023040000000735], [1.2649999999999708, -1.399775000000074], [1.2659999999999707, -1.397244000000074], [1.2669999999999706, -1.3947110000000744], [1.2679999999999705, -1.392176000000075], [1.2689999999999704, -1.3896390000000751], [1.2699999999999703, -1.3871000000000755], [1.2709999999999702, -1.3845590000000758], [1.27199999999997, -1.3820160000000763], [1.27299999999997, -1.3794710000000765], [1.2739999999999698, -1.3769240000000769], [1.2749999999999697, -1.3743750000000772], [1.2759999999999696, -1.3718240000000776], [1.2769999999999695, -1.3692710000000778], [1.2779999999999694, -1.3667160000000782], [1.2789999999999693, -1.3641590000000785], [1.2799999999999692, -1.361600000000079], [1.280999999999969, -1.3590390000000794], [1.281999999999969, -1.3564760000000797], [1.2829999999999688, -1.35391100000008], [1.2839999999999687, -1.3513440000000803], [1.2849999999999686, -1.3487750000000807], [1.2859999999999685, -1.346204000000081], [1.2869999999999684, -1.3436310000000813], [1.2879999999999683, -1.3410560000000817], [1.2889999999999682, -1.3384790000000821], [1.289999999999968, -1.3359000000000825], [1.290999999999968, -1.3333190000000827], [1.2919999999999678, -1.3307360000000832], [1.2929999999999677, -1.3281510000000833], [1.2939999999999676, -1.325564000000084], [1.2949999999999675, -1.3229750000000842], [1.2959999999999674, -1.3203840000000846], [1.2969999999999673, -1.3177910000000848], [1.2979999999999672, -1.3151960000000853], [1.298999999999967, -1.3125990000000856], [1.299999999999967, -1.310000000000086], [1.3009999999999668, -1.3073990000000864], [1.3019999999999667, -1.3047960000000867], [1.3029999999999666, -1.302191000000087], [1.3039999999999665, -1.2995840000000873], [1.3049999999999664, -1.2969750000000877], [1.3059999999999663, -1.294364000000088], [1.3069999999999662, -1.2917510000000885], [1.307999999999966, -1.2891360000000887], [1.308999999999966, -1.286519000000089], [1.3099999999999659, -1.2839000000000895], [1.3109999999999657, -1.2812790000000898], [1.3119999999999656, -1.2786560000000902], [1.3129999999999655, -1.2760310000000905], [1.3139999999999654, -1.2734040000000908], [1.3149999999999653, -1.2707750000000912], [1.3159999999999652, -1.2681440000000916], [1.316999999999965, -1.265511000000092], [1.317999999999965, -1.2628760000000923], [1.3189999999999649, -1.2602390000000927], [1.3199999999999648, -1.257600000000093], [1.3209999999999646, -1.2549590000000934], [1.3219999999999645, -1.2523160000000937], [1.3229999999999644, -1.2496710000000941], [1.3239999999999643, -1.2470240000000945], [1.3249999999999642, -1.2443750000000948], [1.325999999999964, -1.2417240000000953], [1.326999999999964, -1.2390710000000955], [1.3279999999999639, -1.2364160000000959], [1.3289999999999638, -1.2337590000000964], [1.3299999999999637, -1.2311000000000967], [1.3309999999999635, -1.228439000000097], [1.3319999999999634, -1.2257760000000975], [1.3329999999999633, -1.2231110000000978], [1.3339999999999632, -1.2204440000000982], [1.334999999999963, -1.2177750000000984], [1.335999999999963, -1.2151040000000988], [1.3369999999999629, -1.2124310000000993], [1.3379999999999628, -1.2097560000000995], [1.3389999999999627, -1.2070790000001], [1.3399999999999626, -1.2044000000001003], [1.3409999999999624, -1.2017190000001008], [1.3419999999999623, -1.199036000000101], [1.3429999999999622, -1.1963510000001014], [1.3439999999999621, -1.1936640000001018], [1.344999999999962, -1.1909750000001023], [1.345999999999962, -1.1882840000001025], [1.3469999999999618, -1.1855910000001029], [1.3479999999999617, -1.1828960000001034], [1.3489999999999616, -1.1801990000001037], [1.3499999999999615, -1.1775000000001041], [1.3509999999999613, -1.1747990000001045], [1.3519999999999612, -1.1720960000001048], [1.3529999999999611, -1.169391000000105], [1.353999999999961, -1.1666840000001055], [1.354999999999961, -1.163975000000106], [1.3559999999999608, -1.1612640000001064], [1.3569999999999607, -1.1585510000001067], [1.3579999999999606, -1.1558360000001071], [1.3589999999999605, -1.1531190000001075], [1.3599999999999604, -1.1504000000001078], [1.3609999999999602, -1.1476790000001083], [1.3619999999999601, -1.1449560000001087], [1.36299999999996, -1.142231000000109], [1.36399999999996, -1.1395040000001093], [1.3649999999999598, -1.1367750000001098], [1.3659999999999597, -1.1340440000001102], [1.3669999999999596, -1.1313110000001105], [1.3679999999999595, -1.1285760000001108], [1.3689999999999594, -1.1258390000001113], [1.3699999999999593, -1.1231000000001117], [1.3709999999999591, -1.120359000000112], [1.371999999999959, -1.1176160000001125], [1.372999999999959, -1.1148710000001127], [1.3739999999999588, -1.1121240000001131], [1.3749999999999587, -1.1093750000001135], [1.3759999999999586, -1.106624000000114], [1.3769999999999585, -1.1038710000001144], [1.3779999999999584, -1.1011160000001148], [1.3789999999999583, -1.098359000000115], [1.3799999999999581, -1.0956000000001156], [1.380999999999958, -1.0928390000001158], [1.381999999999958, -1.0900760000001162], [1.3829999999999578, -1.0873110000001167], [1.3839999999999577, -1.084544000000117], [1.3849999999999576, -1.0817750000001174], [1.3859999999999575, -1.0790040000001178], [1.3869999999999574, -1.0762310000001183], [1.3879999999999573, -1.0734560000001185], [1.3889999999999572, -1.070679000000119], [1.389999999999957, -1.0679000000001193], [1.390999999999957, -1.0651190000001198], [1.3919999999999568, -1.0623360000001203], [1.3929999999999567, -1.0595510000001205], [1.3939999999999566, -1.056764000000121], [1.3949999999999565, -1.0539750000001213], [1.3959999999999564, -1.0511840000001218], [1.3969999999999563, -1.0483910000001222], [1.3979999999999562, -1.0455960000001225], [1.398999999999956, -1.042799000000123], [1.399999999999956, -1.0400000000001233], [1.4009999999999558, -1.0371990000001237], [1.4019999999999557, -1.0343960000001242], [1.4029999999999556, -1.0315910000001245], [1.4039999999999555, -1.028784000000125], [1.4049999999999554, -1.0259750000001253], [1.4059999999999553, -1.0231640000001256], [1.4069999999999552, -1.0203510000001261], [1.407999999999955, -1.0175360000001266], [1.408999999999955, -1.014719000000127], [1.4099999999999548, -1.0119000000001273], [1.4109999999999547, -1.0090790000001277], [1.4119999999999546, -1.0062560000001282], [1.4129999999999545, -1.0034310000001285], [1.4139999999999544, -1.0006040000001288], [1.4149999999999543, -0.9977750000001295], [1.4159999999999542, -0.99494400000013], [1.416999999999954, -0.9921110000001301], [1.417999999999954, -0.9892760000001304], [1.4189999999999539, -0.9864390000001309], [1.4199999999999537, -0.9836000000001315], [1.4209999999999536, -0.9807590000001318], [1.4219999999999535, -0.9779160000001323], [1.4229999999999534, -0.9750710000001326], [1.4239999999999533, -0.972224000000133], [1.4249999999999532, -0.9693750000001335], [1.425999999999953, -0.9665240000001338], [1.426999999999953, -0.9636710000001343], [1.4279999999999529, -0.9608160000001345], [1.4289999999999528, -0.9579590000001352], [1.4299999999999526, -0.9551000000001353], [1.4309999999999525, -0.952239000000136], [1.4319999999999524, -0.9493760000001363], [1.4329999999999523, -0.9465110000001369], [1.4339999999999522, -0.9436440000001372], [1.434999999999952, -0.9407750000001376], [1.435999999999952, -0.9379040000001377], [1.4369999999999519, -0.9350310000001385], [1.4379999999999518, -0.9321560000001385], [1.4389999999999517, -0.9292790000001392], [1.4399999999999515, -0.9264000000001396], [1.4409999999999514, -0.9235190000001401], [1.4419999999999513, -0.9206360000001403], [1.4429999999999512, -0.9177510000001408], [1.443999999999951, -0.9148640000001413], [1.444999999999951, -0.9119750000001416], [1.4459999999999509, -0.9090840000001421], [1.4469999999999508, -0.9061910000001423], [1.4479999999999507, -0.9032960000001431], [1.4489999999999505, -0.9003990000001432], [1.4499999999999504, -0.8975000000001438], [1.4509999999999503, -0.8945990000001443], [1.4519999999999502, -0.8916960000001444], [1.45299999999995, -0.8887910000001451], [1.45399999999995, -0.8858840000001456], [1.4549999999999499, -0.8829750000001457], [1.4559999999999498, -0.8800640000001461], [1.4569999999999497, -0.8771510000001466], [1.4579999999999496, -0.8742360000001472], [1.4589999999999494, -0.8713190000001476], [1.4599999999999493, -0.8684000000001477], [1.4609999999999492, -0.8654790000001484], [1.4619999999999491, -0.8625560000001489], [1.462999999999949, -0.859631000000149], [1.463999999999949, -0.8567040000001498], [1.4649999999999488, -0.8537750000001498], [1.4659999999999487, -0.8508440000001505], [1.4669999999999486, -0.8479110000001508], [1.4679999999999485, -0.8449760000001514], [1.4689999999999483, -0.8420390000001516], [1.4699999999999482, -0.8391000000001521], [1.4709999999999481, -0.8361590000001526], [1.471999999999948, -0.833216000000153], [1.472999999999948, -0.8302710000001534], [1.4739999999999478, -0.827324000000154], [1.4749999999999477, -0.8243750000001544], [1.4759999999999476, -0.8214240000001549], [1.4769999999999475, -0.8184710000001552], [1.4779999999999474, -0.8155160000001556], [1.4789999999999472, -0.8125590000001561], [1.4799999999999471, -0.8096000000001564], [1.480999999999947, -0.8066390000001569], [1.481999999999947, -0.8036760000001575], [1.4829999999999468, -0.8007110000001578], [1.4839999999999467, -0.7977440000001583], [1.4849999999999466, -0.7947750000001585], [1.4859999999999465, -0.7918040000001589], [1.4869999999999464, -0.7888310000001595], [1.4879999999999463, -0.7858560000001598], [1.4889999999999461, -0.7828790000001602], [1.489999999999946, -0.7799000000001608], [1.490999999999946, -0.7769190000001611], [1.4919999999999458, -0.7739360000001616], [1.4929999999999457, -0.7709510000001623], [1.4939999999999456, -0.7679640000001626], [1.4949999999999455, -0.7649750000001632], [1.4959999999999454, -0.7619840000001634], [1.4969999999999453, -0.7589910000001638], [1.4979999999999452, -0.7559960000001644], [1.498999999999945, -0.7529990000001647], [1.499999999999945, -0.7500000000001652], [1.5009999999999448, -0.7469990000001658], [1.5019999999999447, -0.7439960000001662], [1.5029999999999446, -0.7409910000001667], [1.5039999999999445, -0.737984000000167], [1.5049999999999444, -0.7349750000001674], [1.5059999999999443, -0.7319640000001679], [1.5069999999999442, -0.7289510000001682], [1.507999999999944, -0.7259360000001687], [1.508999999999944, -0.7229190000001693], [1.5099999999999438, -0.7199000000001696], [1.5109999999999437, -0.7168790000001701], [1.5119999999999436, -0.7138560000001704], [1.5129999999999435, -0.7108310000001712], [1.5139999999999434, -0.7078040000001713], [1.5149999999999433, -0.704775000000172], [1.5159999999999432, -0.7017440000001725], [1.516999999999943, -0.6987110000001726], [1.517999999999943, -0.6956760000001734], [1.5189999999999428, -0.6926390000001739], [1.5199999999999427, -0.6896000000001741], [1.5209999999999426, -0.6865590000001744], [1.5219999999999425, -0.683516000000175], [1.5229999999999424, -0.6804710000001752], [1.5239999999999423, -0.6774240000001761], [1.5249999999999422, -0.6743750000001763], [1.525999999999942, -0.671324000000177], [1.526999999999942, -0.6682710000001775], [1.5279999999999418, -0.6652160000001777], [1.5289999999999417, -0.662159000000178], [1.5299999999999416, -0.6591000000001785], [1.5309999999999415, -0.6560390000001792], [1.5319999999999414, -0.6529760000001796], [1.5329999999999413, -0.6499110000001798], [1.5339999999999412, -0.6468440000001805], [1.534999999999941, -0.643775000000181], [1.535999999999941, -0.6407040000001811], [1.5369999999999409, -0.6376310000001819], [1.5379999999999407, -0.6345560000001824], [1.5389999999999406, -0.6314790000001826], [1.5399999999999405, -0.628400000000183], [1.5409999999999404, -0.6253190000001836], [1.5419999999999403, -0.6222360000001843], [1.5429999999999402, -0.6191510000001847], [1.54399999999994, -0.6160640000001849], [1.54499999999994, -0.6129750000001857], [1.5459999999999399, -0.6098840000001857], [1.5469999999999398, -0.6067910000001864], [1.5479999999999396, -0.6036960000001867], [1.5489999999999395, -0.6005990000001873], [1.5499999999999394, -0.597500000000188], [1.5509999999999393, -0.5943990000001884], [1.5519999999999392, -0.5912960000001886], [1.552999999999939, -0.5881910000001893], [1.553999999999939, -0.5850840000001898], [1.5549999999999389, -0.58197500000019], [1.5559999999999388, -0.5788640000001908], [1.5569999999999387, -0.5757510000001909], [1.5579999999999385, -0.5726360000001915], [1.5589999999999384, -0.569519000000192], [1.5599999999999383, -0.5664000000001925], [1.5609999999999382, -0.5632790000001928], [1.561999999999938, -0.5601560000001933], [1.562999999999938, -0.5570310000001939], [1.5639999999999379, -0.5539040000001942], [1.5649999999999378, -0.5507750000001947], [1.5659999999999377, -0.5476440000001954], [1.5669999999999376, -0.5445110000001958], [1.5679999999999374, -0.5413760000001964], [1.5689999999999373, -0.5382390000001966], [1.5699999999999372, -0.5351000000001971], [1.5709999999999371, -0.5319590000001977], [1.571999999999937, -0.528816000000198], [1.572999999999937, -0.5256710000001985], [1.5739999999999368, -0.5225240000001992], [1.5749999999999367, -0.5193750000001995], [1.5759999999999366, -0.5162240000002001], [1.5769999999999365, -0.5130710000002003], [1.5779999999999363, -0.5099160000002008], [1.5789999999999362, -0.5067590000002014], [1.5799999999999361, -0.5036000000002017], [1.580999999999936, -0.5004390000002021], [1.581999999999936, -0.4972760000002028], [1.5829999999999358, -0.49411100000020314], [1.5839999999999357, -0.49094400000020366], [1.5849999999999356, -0.48777500000020435], [1.5859999999999355, -0.48460400000020476], [1.5869999999999354, -0.48143100000020533], [1.5879999999999352, -0.4782560000002056], [1.5889999999999351, -0.4750790000002061], [1.589999999999935, -0.4719000000002067], [1.590999999999935, -0.46871900000020705], [1.5919999999999348, -0.46553600000020756], [1.5929999999999347, -0.46235100000020823], [1.5939999999999346, -0.4591640000002086], [1.5949999999999345, -0.4559750000002092], [1.5959999999999344, -0.45278400000020946], [1.5969999999999342, -0.4495910000002099], [1.5979999999999341, -0.4463960000002105], [1.598999999999934, -0.44319900000021084], [1.599999999999934, -0.44000000000021133], [1.6009999999999338, -0.436799000000212], [1.6019999999999337, -0.43359600000021237], [1.6029999999999336, -0.4303910000002129], [1.6039999999999335, -0.4271840000002136], [1.6049999999999334, -0.42397500000021404], [1.6059999999999333, -0.4207640000002142], [1.6069999999999331, -0.41755100000021494], [1.607999999999933, -0.4143360000002154], [1.608999999999933, -0.4111190000002156], [1.6099999999999328, -0.4079000000002164], [1.6109999999999327, -0.40467900000021695], [1.6119999999999326, -0.4014560000002172], [1.6129999999999325, -0.3982310000002176], [1.6139999999999324, -0.3950040000002182], [1.6149999999999323, -0.3917750000002189], [1.6159999999999322, -0.3885440000002194], [1.616999999999932, -0.38531100000021956], [1.617999999999932, -0.38207600000022035], [1.6189999999999318, -0.37883900000022086], [1.6199999999999317, -0.3756000000002211], [1.6209999999999316, -0.37235900000022193], [1.6219999999999315, -0.36911600000022204], [1.6229999999999314, -0.36587100000022277], [1.6239999999999313, -0.3626240000002232], [1.6249999999999312, -0.3593750000002238], [1.625999999999931, -0.35612400000022415], [1.626999999999931, -0.35287100000022464], [1.6279999999999308, -0.3496160000002253], [1.6289999999999307, -0.3463590000002257], [1.6299999999999306, -0.3431000000002262], [1.6309999999999305, -0.3398390000002265], [1.6319999999999304, -0.33657600000022736], [1.6329999999999303, -0.3333110000002275], [1.6339999999999302, -0.33004400000022827], [1.63499999999993, -0.32677500000022874], [1.63599999999993, -0.3235040000002294], [1.6369999999999298, -0.32023100000022975], [1.6379999999999297, -0.3169560000002303], [1.6389999999999296, -0.3136790000002305], [1.6399999999999295, -0.3104000000002314], [1.6409999999999294, -0.3071190000002315], [1.6419999999999293, -0.30383600000023225], [1.6429999999999292, -0.3005510000002327], [1.643999999999929, -0.29726400000023334], [1.644999999999929, -0.2939750000002337], [1.6459999999999289, -0.2906840000002342], [1.6469999999999287, -0.2873910000002349], [1.6479999999999286, -0.28409600000023527], [1.6489999999999285, -0.28079900000023583], [1.6499999999999284, -0.2775000000002361], [1.6509999999999283, -0.27419900000023656], [1.6519999999999282, -0.27089600000023717], [1.652999999999928, -0.26759100000023794], [1.653999999999928, -0.26428400000023844], [1.6549999999999279, -0.26097500000023865], [1.6559999999999278, -0.2576640000002395], [1.6569999999999276, -0.2543510000002396], [1.6579999999999275, -0.2510360000002403], [1.6589999999999274, -0.24771900000024072], [1.6599999999999273, -0.2444000000002413], [1.6609999999999272, -0.24107900000024163], [1.661999999999927, -0.23775600000024255], [1.662999999999927, -0.23443100000024275], [1.6639999999999269, -0.23110400000024356], [1.6649999999999268, -0.2277750000002441], [1.6659999999999267, -0.22444400000024434], [1.6669999999999265, -0.22111100000024475], [1.6679999999999264, -0.21777600000024533], [1.6689999999999263, -0.21443900000024607], [1.6699999999999262, -0.21110000000024653], [1.670999999999926, -0.20775900000024716], [1.671999999999926, -0.2044160000002475], [1.6729999999999259, -0.20107100000024802], [1.6739999999999258, -0.1977240000002487], [1.6749999999999257, -0.1943750000002491], [1.6759999999999255, -0.19102400000024966], [1.6769999999999254, -0.18767100000024994], [1.6779999999999253, -0.1843160000002504], [1.6789999999999252, -0.180959000000251], [1.679999999999925, -0.17760000000025178], [1.680999999999925, -0.17423900000025228], [1.6819999999999249, -0.1708760000002525], [1.6829999999999248, -0.16751100000025332], [1.6839999999999247, -0.16414400000025386], [1.6849999999999246, -0.16077500000025413], [1.6859999999999244, -0.15740400000025456], [1.6869999999999243, -0.15403100000025516], [1.6879999999999242, -0.15065600000025592], [1.6889999999999241, -0.1472790000002564], [1.689999999999924, -0.14390000000025704], [1.690999999999924, -0.1405190000002574], [1.6919999999999238, -0.13713600000025794], [1.6929999999999237, -0.13375100000025864], [1.6939999999999236, -0.13036400000025905], [1.6949999999999235, -0.12697500000025963], [1.6959999999999233, -0.12358400000025993], [1.6969999999999232, -0.1201910000002604], [1.6979999999999231, -0.11679600000026102], [1.698999999999923, -0.11339900000026137], [1.699999999999923, -0.11000000000026233], [1.7009999999999228, -0.10659900000026257], [1.7019999999999227, -0.10319600000026297], [1.7029999999999226, -0.09979100000026353], [1.7039999999999225, -0.09638400000026426], [1.7049999999999224, -0.09297500000026471], [1.7059999999999222, -0.08956400000026532], [1.7069999999999221, -0.08615100000026565], [1.707999999999922, -0.08273600000026615], [1.708999999999922, -0.07931900000026681], [1.7099999999999218, -0.07590000000026764], [1.7109999999999217, -0.07247900000026775], [1.7119999999999216, -0.06905600000026846], [1.7129999999999215, -0.06563100000026889], [1.7139999999999214, -0.06220400000026949], [1.7149999999999213, -0.05877500000027025], [1.7159999999999211, -0.05534400000027073], [1.716999999999921, -0.05191100000027138], [1.717999999999921, -0.048476000000271746], [1.7189999999999208, -0.04503900000027228], [1.7199999999999207, -0.041600000000272974], [1.7209999999999206, -0.03815900000027339], [1.7219999999999205, -0.03471600000027397], [1.7229999999999204, -0.031271000000274274], [1.7239999999999203, -0.02782400000027474], [1.7249999999999202, -0.02437500000027537], [1.72599999999992, -0.020924000000276166], [1.72699999999992, -0.017471000000276682], [1.7279999999999198, -0.014016000000276918], [1.7289999999999197, -0.010559000000277763], [1.7299999999999196, -0.007100000000278328], [1.7309999999999195, -0.003639000000278614], [1.7319999999999194, -0.00017600000027906404], [1.7329999999999193, 0.003288999999720321], [1.7339999999999192, 0.006755999999719542], [1.734999999999919, 0.010224999999719042], [1.735999999999919, 0.013695999999718378], [1.7369999999999188, 0.017168999999717993], [1.7379999999999187, 0.020643999999717444], [1.7389999999999186, 0.02412099999971673], [1.7399999999999185, 0.027599999999716296], [1.7409999999999184, 0.031080999999715697], [1.7419999999999183, 0.03456399999971538], [1.7429999999999182, 0.038048999999714894], [1.743999999999918, 0.041535999999714246], [1.744999999999918, 0.04502499999971343], [1.7459999999999178, 0.0485159999997129], [1.7469999999999177, 0.052008999999712646], [1.7479999999999176, 0.055503999999711784], [1.7489999999999175, 0.059000999999711645], [1.7499999999999174, 0.0624999999997109], [1.7509999999999173, 0.06600099999971043], [1.7519999999999172, 0.0695039999997098], [1.752999999999917, 0.07300899999970945], [1.753999999999917, 0.07651599999970848], [1.7549999999999168, 0.08002499999970825], [1.7559999999999167, 0.0835359999997074], [1.7569999999999166, 0.08704899999970683], [1.7579999999999165, 0.09056399999970655], [1.7589999999999164, 0.0940809999997061], [1.7599999999999163, 0.09759999999970548], [1.7609999999999162, 0.1011209999997047], [1.761999999999916, 0.1046439999997042], [1.762999999999916, 0.10816899999970353], [1.7639999999999159, 0.11169599999970314], [1.7649999999999157, 0.1152249999997026], [1.7659999999999156, 0.11875599999970188], [1.7669999999999155, 0.12228899999970144], [1.7679999999999154, 0.12582399999970084], [1.7689999999999153, 0.12936099999970052], [1.7699999999999152, 0.1328999999996996], [1.770999999999915, 0.13644099999969939], [1.771999999999915, 0.13998399999969857], [1.7729999999999149, 0.14352899999969804], [1.7739999999999148, 0.14707599999969734], [1.7749999999999146, 0.15062499999969692], [1.7759999999999145, 0.15417599999969633], [1.7769999999999144, 0.15772899999969603], [1.7779999999999143, 0.16128399999969512], [1.7789999999999142, 0.16484099999969493], [1.779999999999914, 0.16839999999969413], [1.780999999999914, 0.1719609999996936], [1.7819999999999139, 0.17552399999969293], [1.7829999999999138, 0.17908899999969252], [1.7839999999999137, 0.18265599999969195], [1.7849999999999135, 0.18622499999969122], [1.7859999999999134, 0.18979599999969077], [1.7869999999999133, 0.19336899999969015], [1.7879999999999132, 0.1969439999996898], [1.788999999999913, 0.20052099999968886], [1.789999999999913, 0.20409999999968864], [1.7909999999999129, 0.2076809999996878], [1.7919999999999128, 0.21126399999968726], [1.7929999999999127, 0.21484899999968698], [1.7939999999999126, 0.2184359999996861], [1.7949999999999124, 0.2220249999996855], [1.7959999999999123, 0.22561599999968518], [1.7969999999999122, 0.2292089999996847], [1.7979999999999121, 0.23280399999968404], [1.798999999999912, 0.23640099999968323], [1.799999999999912, 0.2399999999996827], [1.8009999999999118, 0.24360099999968243], [1.8019999999999117, 0.24720399999968157], [1.8029999999999116, 0.250808999999681], [1.8039999999999115, 0.2544159999996807], [1.8049999999999113, 0.25802499999967976], [1.8059999999999112, 0.26163599999967957], [1.8069999999999111, 0.26524899999967877], [1.807999999999911, 0.26886399999967825], [1.808999999999911, 0.27248099999967756], [1.8099999999999108, 0.27609999999967716], [1.8109999999999107, 0.2797209999996766], [1.8119999999999106, 0.28334399999967586], [1.8129999999999105, 0.2869689999996754], [1.8139999999999104, 0.2905959999996748], [1.8149999999999102, 0.294224999999674], [1.8159999999999101, 0.2978559999996735], [1.81699999999991, 0.3014889999996728], [1.81799999999991, 0.30512399999967244], [1.8189999999999098, 0.3087609999996719], [1.8199999999999097, 0.31239999999967116], [1.8209999999999096, 0.3160409999996707], [1.8219999999999095, 0.3196839999996701], [1.8229999999999094, 0.32332899999966935], [1.8239999999999092, 0.32697599999966886], [1.8249999999999091, 0.3306249999996682], [1.825999999999909, 0.33427599999966784], [1.826999999999909, 0.3379289999996673], [1.8279999999999088, 0.3415839999996666], [1.8289999999999087, 0.3452409999996662], [1.8299999999999086, 0.3488999999996656], [1.8309999999999085, 0.35256099999966484], [1.8319999999999084, 0.35622399999966436], [1.8329999999999083, 0.35988899999966373], [1.8339999999999081, 0.3635559999996629], [1.834999999999908, 0.3672249999996624], [1.835999999999908, 0.3708959999996617], [1.8369999999999078, 0.3745689999996613], [1.8379999999999077, 0.37824399999966074], [1.8389999999999076, 0.38192099999966], [1.8399999999999075, 0.38559999999965955], [1.8409999999999074, 0.3892809999996589], [1.8419999999999073, 0.3929639999996586], [1.8429999999999072, 0.39664899999965764], [1.843999999999907, 0.4003359999996574], [1.844999999999907, 0.4040249999996566], [1.8459999999999068, 0.407715999999656], [1.8469999999999067, 0.4114089999996553], [1.8479999999999066, 0.41510399999965486], [1.8489999999999065, 0.41880099999965426], [1.8499999999999064, 0.4224999999996535], [1.8509999999999063, 0.426200999999653], [1.8519999999999062, 0.42990399999965234], [1.852999999999906, 0.43360899999965197], [1.853999999999906, 0.43731599999965143], [1.8549999999999058, 0.4410249999996507], [1.8559999999999057, 0.44473599999964986], [1.8569999999999056, 0.44844899999964927], [1.8579999999999055, 0.45216399999964896], [1.8589999999999054, 0.45588099999964804], [1.8599999999999053, 0.45959999999964785], [1.8609999999999052, 0.46332099999964704], [1.861999999999905, 0.4670439999996465], [1.862999999999905, 0.47076899999964583], [1.8639999999999048, 0.4744959999996454], [1.8649999999999047, 0.47822499999964485], [1.8659999999999046, 0.4819559999996441], [1.8669999999999045, 0.48568899999964366], [1.8679999999999044, 0.48942399999964303], [1.8689999999999043, 0.49316099999964225], [1.8699999999999042, 0.49689999999964174], [1.870999999999904, 0.5006409999996411], [1.871999999999904, 0.5043839999996402], [1.8729999999999039, 0.5081289999996397], [1.8739999999999037, 0.5118759999996394], [1.8749999999999036, 0.5156249999996385], [1.8759999999999035, 0.5193759999996379], [1.8769999999999034, 0.5231289999996376], [1.8779999999999033, 0.5268839999996366], [1.8789999999999032, 0.530640999999636], [1.879999999999903, 0.5343999999996356], [1.880999999999903, 0.5381609999996351], [1.8819999999999029, 0.5419239999996344], [1.8829999999999028, 0.5456889999996339], [1.8839999999999026, 0.5494559999996333], [1.8849999999999025, 0.5532249999996326], [1.8859999999999024, 0.5569959999996321], [1.8869999999999023, 0.5607689999996315], [1.8879999999999022, 0.5645439999996307], [1.888999999999902, 0.5683209999996301], [1.889999999999902, 0.5720999999996295], [1.8909999999999019, 0.575880999999629], [1.8919999999999018, 0.5796639999996285], [1.8929999999999017, 0.5834489999996277], [1.8939999999999015, 0.5872359999996268], [1.8949999999999014, 0.5910249999996262], [1.8959999999999013, 0.5948159999996259], [1.8969999999999012, 0.5986089999996254], [1.897999999999901, 0.6024039999996247], [1.898999999999901, 0.6062009999996238], [1.8999999999999009, 0.6099999999996233], [1.9009999999999008, 0.6138009999996226], [1.9019999999999007, 0.6176039999996221], [1.9029999999999005, 0.6214089999996215], [1.9039999999999004, 0.6252159999996207], [1.9049999999999003, 0.6290249999996202], [1.9059999999999002, 0.6328359999996196], [1.9069999999999, 0.6366489999996192], [1.9079999999999, 0.6404639999996182], [1.9089999999998999, 0.644280999999618], [1.9099999999998998, 0.6480999999996171], [1.9109999999998997, 0.6519209999996165], [1.9119999999998996, 0.6557439999996157], [1.9129999999998994, 0.6595689999996153], [1.9139999999998993, 0.6633959999996146], [1.9149999999998992, 0.6672249999996138], [1.9159999999998991, 0.6710559999996133], [1.916999999999899, 0.6748889999996126], [1.917999999999899, 0.6787239999996122], [1.9189999999998988, 0.6825609999996116], [1.9199999999998987, 0.6863999999996109], [1.9209999999998986, 0.6902409999996104], [1.9219999999998985, 0.6940839999996098], [1.9229999999998983, 0.697928999999609], [1.9239999999998982, 0.7017759999996085], [1.9249999999998981, 0.7056249999996078], [1.925999999999898, 0.709475999999607], [1.926999999999898, 0.7133289999996064], [1.9279999999998978, 0.7171839999996057], [1.9289999999998977, 0.7210409999996052], [1.9299999999998976, 0.7248999999996046], [1.9309999999998975, 0.7287609999996039], [1.9319999999998974, 0.7326239999996034], [1.9329999999998972, 0.7364889999996027], [1.9339999999998971, 0.7403559999996023], [1.934999999999897, 0.7442249999996013], [1.935999999999897, 0.7480959999996006], [1.9369999999998968, 0.7519689999996002], [1.9379999999998967, 0.7558439999995996], [1.9389999999998966, 0.7597209999995989], [1.9399999999998965, 0.7635999999995984], [1.9409999999998964, 0.7674809999995977], [1.9419999999998963, 0.7713639999995969], [1.9429999999998961, 0.7752489999995964], [1.943999999999896, 0.7791359999995957], [1.944999999999896, 0.7830249999995953], [1.9459999999998958, 0.7869159999995947], [1.9469999999998957, 0.790808999999594], [1.9479999999998956, 0.7947039999995931], [1.9489999999998955, 0.7986009999995924], [1.9499999999998954, 0.8024999999995921], [1.9509999999998953, 0.8064009999995911], [1.9519999999998952, 0.8103039999995905], [1.952999999999895, 0.8142089999995901], [1.953999999999895, 0.8181159999995895], [1.9549999999998948, 0.8220249999995888], [1.9559999999998947, 0.8259359999995883], [1.9569999999998946, 0.8298489999995873], [1.9579999999998945, 0.833763999999587], [1.9589999999998944, 0.837680999999586], [1.9599999999998943, 0.8415999999995853], [1.9609999999998942, 0.845520999999585], [1.961999999999894, 0.8494439999995844], [1.962999999999894, 0.8533689999995837], [1.9639999999998938, 0.8572959999995828], [1.9649999999998937, 0.8612249999995822], [1.9659999999998936, 0.8651559999995815], [1.9669999999998935, 0.869088999999581], [1.9679999999998934, 0.8730239999995804], [1.9689999999998933, 0.8769609999995795], [1.9699999999998932, 0.880899999999579], [1.970999999999893, 0.8848409999995783], [1.971999999999893, 0.8887839999995779], [1.9729999999998928, 0.8927289999995773], [1.9739999999998927, 0.8966759999995766], [1.9749999999998926, 0.9006249999995757], [1.9759999999998925, 0.904575999999575], [1.9769999999998924, 0.9085289999995747], [1.9779999999998923, 0.9124839999995737], [1.9789999999998922, 0.9164409999995731], [1.979999999999892, 0.9203999999995727], [1.980999999999892, 0.9243609999995721], [1.9819999999998918, 0.9283239999995714], [1.9829999999998917, 0.9322889999995705], [1.9839999999998916, 0.9362559999995699], [1.9849999999998915, 0.9402249999995695], [1.9859999999998914, 0.9441959999995686], [1.9869999999998913, 0.9481689999995679], [1.9879999999998912, 0.9521439999995676], [1.988999999999891, 0.9561209999995666], [1.989999999999891, 0.9600999999995659], [1.9909999999998909, 0.9640809999995654], [1.9919999999998907, 0.9680639999995648], [1.9929999999998906, 0.9720489999995641], [1.9939999999998905, 0.9760359999995636], [1.9949999999998904, 0.9800249999995629], [1.9959999999998903, 0.9840159999995621], [1.9969999999998902, 0.9880089999995616], [1.99799999999989, 0.9920039999995609], [1.99899999999989, 0.99600099999956]], \"data02\": [[1.5, -0.75], [1.75, 0.0625], [1.625, -0.359375], [1.6875, -0.15234375], [1.71875, -0.04589843802386895], [1.734375, 0.008056640974245965], [1.7265625, -0.018981934001203626]]}, \"id\": \"el59140410915675088\", \"plugins\": [{\"type\": \"reset\"}, {\"type\": \"zoom\", \"button\": true, \"enabled\": false}, {\"type\": \"boxzoom\", \"button\": true, \"enabled\": false}, {\"type\": \"mouseposition\", \"fontsize\": 14, \"fmt\": \".3g\"}]});\n",
              "            })\n",
              "         });\n",
              "}\n",
              "</script>"
            ],
            "text/plain": [
              "<IPython.core.display.HTML object>"
            ]
          },
          "metadata": {
            "tags": []
          },
          "execution_count": 10
        }
      ]
    },
    {
      "cell_type": "markdown",
      "metadata": {
        "id": "nJPwkrURbh78"
      },
      "source": [
        "Por outro lado, se tivéssemos escolhido $a=1$ e $b=1.5$, o procedimento acima nos devolveria a seguinte informação:"
      ]
    },
    {
      "cell_type": "code",
      "metadata": {
        "id": "iECfTq4vboGk"
      },
      "source": [
        "def f(x): return pow(x,2)-3\n",
        "bisseccao(f(x), 0.01, 1, 1.5)"
      ],
      "execution_count": null,
      "outputs": []
    },
    {
      "cell_type": "markdown",
      "metadata": {
        "id": "Mk2gQpvbcN5P"
      },
      "source": [
        "Exemplo: Obtenha a raiz da equação $f(x) = x^2 + ln(x)$ com $\\epsilon \\leq 10^{-2}$."
      ]
    },
    {
      "cell_type": "markdown",
      "metadata": {
        "id": "CRbQvl5rcssA"
      },
      "source": [
        "Solução: Inicialmente, como feito no exemplo anterior, definamos f(x) e plotemos o gráfico. Em python a função log(x,base), quando não se passa o valor da base como parâmetro ela considera a base = $e$."
      ]
    },
    {
      "cell_type": "code",
      "metadata": {
        "id": "fB4yu2Yxd9CC"
      },
      "source": [
        "def f(x): return pow(x,2) + ln(x)\n",
        "plot2d(f(x), 0.2, 2)"
      ],
      "execution_count": null,
      "outputs": []
    },
    {
      "cell_type": "markdown",
      "metadata": {
        "id": "FbAR1Nv6qQSJ"
      },
      "source": [
        "Tendo em mente o gráfico acima, escolhamos por exemplo, $a=0.5$ e $b=1$,logo resulta do procedimento usado anteriormente."
      ]
    },
    {
      "cell_type": "code",
      "metadata": {
        "id": "UVO1nw5nqTtz"
      },
      "source": [
        "def f(x): return pow(x,2) + ln(x)\n",
        "bisseccao(f(x), 0.01, 0.5, 1)"
      ],
      "execution_count": null,
      "outputs": []
    },
    {
      "cell_type": "markdown",
      "metadata": {
        "id": "qPufW58JkJLP"
      },
      "source": [
        "## 2. Método do Ponto Fixo"
      ]
    },
    {
      "cell_type": "markdown",
      "metadata": {
        "id": "eKZFlPHokOvY"
      },
      "source": [
        "Neste método, devemos usar o procedimento pontoFixo(F,epsilon,x0) onde F é a função de iteração que satisfaz F(x) = x, e $x_0$ um ponto do interior de um intervalo [a,b].\n",
        "\n",
        "Exemplo: Seja $f(x)=cos(x)-x$. Determine uma raiz de f(x) com tolerância $\\epsilon \\leq 10^{-2}$.\n",
        "\n",
        "Solução: Primeiramente, é preciso definir a função f(x) pelo comando: "
      ]
    },
    {
      "cell_type": "code",
      "metadata": {
        "id": "LnKxH1EulFep"
      },
      "source": [
        "def f(x): return cos(x)-x"
      ],
      "execution_count": null,
      "outputs": []
    },
    {
      "cell_type": "markdown",
      "metadata": {
        "id": "JnkVZtbslMGl"
      },
      "source": [
        "Como de praxe, plotamos o gráfico de f(x):"
      ]
    },
    {
      "cell_type": "code",
      "metadata": {
        "id": "vV_k8K5QlNlv",
        "colab": {
          "base_uri": "https://localhost:8080/",
          "height": 281
        },
        "outputId": "e82e3979-d3d6-464c-da24-d7bd19a830f8"
      },
      "source": [
        "plot2d(f(x), 0.2, 2)"
      ],
      "execution_count": null,
      "outputs": [
        {
          "output_type": "display_data",
          "data": {
            "image/png": "[encoded data removed]",
            "text/plain": [
              "<Figure size 432x288 with 1 Axes>"
            ]
          },
          "metadata": {
            "tags": [],
            "needs_background": "light"
          }
        }
      ]
    },
    {
      "cell_type": "markdown",
      "metadata": {
        "id": "Osrp_boVwrnd"
      },
      "source": [
        "Pelo gráfico, escolhamos $a=0.5,$ $b=1$ e $x_0=\\frac{\\pi}{4}$, por exemplo. Considere $F(x)=cos(x)$. Definindo-a e usando o procedimento para o ponto fixo descrito acima, note que:"
      ]
    },
    {
      "cell_type": "code",
      "metadata": {
        "id": "NEmOvQXRxkhZ",
        "colab": {
          "base_uri": "https://localhost:8080/"
        },
        "outputId": "4e00b163-8ca5-48a2-9d86-0283b82d90d4"
      },
      "source": [
        "pontoFixo(f(x),10**(-2), math.pi/4)"
      ],
      "execution_count": null,
      "outputs": [
        {
          "output_type": "stream",
          "text": [
            "+---+--------------------+---------------------+\n",
            "| k |         xk         |   |x(k) - x(k-1)|   |\n",
            "+---+--------------------+---------------------+\n",
            "| 0 | 0.7853981633974483 |          -          |\n",
            "| 1 | 0.707106781186548  |  0.0782913822109007 |\n",
            "| 2 | 0.760244597075630  |  0.0531378158890825 |\n",
            "| 3 | 0.724667480889126  |  0.0355771161865038 |\n",
            "| 4 | 0.748719885789484  |  0.0240524049003581 |\n",
            "| 5 | 0.732560844592242  |  0.0161590411972425 |\n",
            "| 6 | 0.743464211315294  |  0.0109033667230518 |\n",
            "| 7 | 0.736128256500852  | 0.00733595481444160 |\n",
            "+---+--------------------+---------------------+\n",
            "Donde ε é aproximadamente 0.736128256500852\n"
          ],
          "name": "stdout"
        }
      ]
    },
    {
      "cell_type": "markdown",
      "metadata": {
        "id": "qt7JANYryYEk"
      },
      "source": [
        "Ademais, plotamos o gráfico de $f(x)$ com as iterações obtidas:"
      ]
    },
    {
      "cell_type": "code",
      "metadata": {
        "id": "4-qWmUp6yY9F"
      },
      "source": [
        "result = graficoPontoFixo(f(x),10**(-2),0.5,1,math.pi/4)\n",
        "inicio = 0.5\n",
        "fim = 1\n",
        "z = np.arange(inicio,fim,0.001)\n",
        "    \n",
        "y = []\n",
        "w = []\n",
        "for i in range(len(z)):\n",
        "    y.append(f(x).subs(x,z[i]))\n",
        "for i in range(len(result)):\n",
        "    w.append(f(x).subs(x,result[i]))\n",
        "\n",
        "fig, ax = plt.subplots()\n",
        "ax.set(title='Gráfico função f(x)='+str(f(x)))\n",
        "ax.plot(z,y, \"-o\", markersize=2)\n",
        "plt.plot(result,w,'ro')\n",
        "ax.grid()\n",
        "plugins.connect(fig, plugins.MousePosition(fontsize=14))\n",
        "\n",
        "mpld3.display()"
      ],
      "execution_count": null,
      "outputs": []
    },
    {
      "cell_type": "markdown",
      "metadata": {
        "id": "nUcX89qQrKol"
      },
      "source": [
        "## 2. Método de Newton"
      ]
    },
    {
      "cell_type": "markdown",
      "metadata": {
        "id": "YiD37hRrryNa"
      },
      "source": [
        "Para este método, usaremos o procedimento Newton(f,epsilon,a,b)."
      ]
    },
    {
      "cell_type": "markdown",
      "metadata": {
        "id": "5g9D6Q4pss4o"
      },
      "source": [
        "Exemplo: usando o método de Newton, obtenha a raiz positiva da equação $x^2-2=0$ com $\\epsilon \\leq 10^{-5}$."
      ]
    },
    {
      "cell_type": "markdown",
      "metadata": {
        "id": "7q3O0G8ct4b6"
      },
      "source": [
        "Solução: Inicialmente, observe que neste exemplo, obteremos uma aproximação para raiz quadrada de 2 com precisão de quatro casas decimais. De fato, definamos $f(x)=x^2-2$ e plotamos seu gráfico:"
      ]
    },
    {
      "cell_type": "code",
      "metadata": {
        "id": "HFkS64BWuQpq",
        "colab": {
          "base_uri": "https://localhost:8080/",
          "height": 281
        },
        "outputId": "98c5f40b-3944-4e29-bfe4-dd4d8261e4a9"
      },
      "source": [
        "def f(x): return x**2-2\n",
        "plot2d(f(x), -1, 4)"
      ],
      "execution_count": null,
      "outputs": [
        {
          "output_type": "display_data",
          "data": {
            "image/png": "[encoded data removed]",
            "text/plain": [
              "<Figure size 432x288 with 1 Axes>"
            ]
          },
          "metadata": {
            "tags": [],
            "needs_background": "light"
          }
        }
      ]
    },
    {
      "cell_type": "markdown",
      "metadata": {
        "id": "Da8On5lhuj1t"
      },
      "source": [
        "Pelo gráfico, sejam $a=1$ e $b=2$. Assim,"
      ]
    },
    {
      "cell_type": "code",
      "metadata": {
        "id": "up0Ig4TMulM7",
        "colab": {
          "base_uri": "https://localhost:8080/"
        },
        "outputId": "768ee51e-b8c9-48dd-91ff-87ba451146ed"
      },
      "source": [
        "\n",
        "newton(f(x), 1e-5, 1, 2)"
      ],
      "execution_count": null,
      "outputs": [
        {
          "output_type": "stream",
          "text": [
            "+---+------------------+---------------------+\n",
            "| k |        xk        |   |x(k) - x(k-1)|   |\n",
            "+---+------------------+---------------------+\n",
            "| 1 | 1.50000000000000 |  0.500000000000000  |\n",
            "| 2 | 1.41666666666667 |  0.0833333333333333 |\n",
            "| 3 | 1.41421568627451 | 0.00245098039215685 |\n",
            "| 4 | 1.41421356237469 | 2.12389982001682e-6 |\n",
            "+---+------------------+---------------------+\n",
            "Donde ε é aproximadamente 1.41421356237469\n"
          ],
          "name": "stdout"
        }
      ]
    },
    {
      "cell_type": "markdown",
      "metadata": {
        "id": "sTJEADd8YhxH"
      },
      "source": [
        "Podemos plotar o gráfico de $f(x)$ com as iterações obtidas por meio do comando: graficoNewton(f,e,a,b)"
      ]
    },
    {
      "cell_type": "code",
      "metadata": {
        "id": "3qn4rdeeWZ6R"
      },
      "source": [
        "result = graficoNewton(f(x), 0.00001, 1.0, 2)\n",
        "inicio = 1\n",
        "fim = 2\n",
        "z = np.arange(inicio,fim,0.001)\n",
        "    \n",
        "y = []\n",
        "w = []\n",
        "for i in range(len(z)):\n",
        "    y.append(f(x).subs(x,z[i]))\n",
        "for i in range(len(result)):\n",
        "    w.append(f(x).subs(x,result[i]))\n",
        "\n",
        "fig, ax = plt.subplots()\n",
        "ax.set(title='Gráfico função f(x)='+str(f(x)))\n",
        "ax.plot(z,y, \"-o\", markersize=2)\n",
        "plt.plot(result, w,'ro')\n",
        "ax.grid()\n",
        "plugins.connect(fig, plugins.MousePosition(fontsize=14))\n",
        "\n",
        "mpld3.display()"
      ],
      "execution_count": null,
      "outputs": []
    },
    {
      "cell_type": "markdown",
      "metadata": {
        "id": "gQmKNF_6va_T"
      },
      "source": [
        "Exemplo: Usando o método de Newton, obtenha uma aproximação para a solução da equação $f(x)=cos(x)-x$ com $\\epsilon \\leq 10^{-2}$.\n"
      ]
    },
    {
      "cell_type": "markdown",
      "metadata": {
        "id": "uyVJP6ff5aak"
      },
      "source": [
        "Solução: De antemão, definamos $f(x)$"
      ]
    },
    {
      "cell_type": "code",
      "metadata": {
        "id": "m-V-7Q64UEe2"
      },
      "source": [
        "def f(x): return 4*sin(x) - 3*x"
      ],
      "execution_count": null,
      "outputs": []
    },
    {
      "cell_type": "markdown",
      "metadata": {
        "id": "OX4Qn0Q8UO5t"
      },
      "source": [
        "Como feito em outros métodos, vamos plotar o gráfico de $f(x)$ para determinar os valores de $a$ e $b$:"
      ]
    },
    {
      "cell_type": "code",
      "metadata": {
        "id": "iWneyJCWUGDk"
      },
      "source": [
        "plot2d(f(x), 0, 2)"
      ],
      "execution_count": null,
      "outputs": []
    },
    {
      "cell_type": "markdown",
      "metadata": {
        "id": "9uxxxxhAUE_Y"
      },
      "source": [
        "Pelo gráfico, podemos escolher $a=0.5$, $b=1$. Sendo assim, executando o código apresentado no início desta seção, resulta que "
      ]
    },
    {
      "cell_type": "code",
      "metadata": {
        "id": "PZFUtAYq5w8D"
      },
      "source": [
        " \n",
        "newton(f(x), 10**(-5), 1, 1.3)"
      ],
      "execution_count": null,
      "outputs": []
    },
    {
      "cell_type": "markdown",
      "metadata": {
        "id": "pfZWAUZVYxn5"
      },
      "source": [
        "O gráfico de $f(x)$ com as iterações é dado a seguir:"
      ]
    },
    {
      "cell_type": "code",
      "metadata": {
        "id": "R0cfXzsTYygJ"
      },
      "source": [
        "result = graficoNewton(f(x), 10**(-2), 0.5, 1)\n",
        "inicio = 0.5\n",
        "fim = 1\n",
        "z = np.arange(inicio,fim,0.001)\n",
        "    \n",
        "y = []\n",
        "w = []\n",
        "for i in range(len(z)):\n",
        "    y.append(f(x).subs(x,z[i]))\n",
        "for i in range(len(result)):\n",
        "    w.append(f(x).subs(x,result[i]))\n",
        "\n",
        "fig, ax = plt.subplots()\n",
        "ax.set(title='Gráfico função f(x)='+str(f(x)))\n",
        "ax.plot(z,y, \"-o\", markersize=2)\n",
        "plt.plot(result, w,'ro')\n",
        "ax.grid()\n",
        "plugins.connect(fig, plugins.MousePosition(fontsize=14))\n",
        "\n",
        "mpld3.display()"
      ],
      "execution_count": null,
      "outputs": []
    },
    {
      "cell_type": "markdown",
      "metadata": {
        "id": "Y39zeTCW8j80"
      },
      "source": [
        "## 3. Método da Secante"
      ]
    },
    {
      "cell_type": "markdown",
      "metadata": {
        "id": "-hd-ym1v8zrZ"
      },
      "source": [
        "Nesta seção, o procedimento a ser usado é secante(f,epsilon,a,b)."
      ]
    },
    {
      "cell_type": "markdown",
      "metadata": {
        "id": "XJVEBi5DE614"
      },
      "source": [
        "Exemplo: Utilize o método da secante para encontrar uma solução de $f(x)=cos(x) - x$ com $\\epsilon \\leq 10^{-5}$."
      ]
    },
    {
      "cell_type": "markdown",
      "metadata": {
        "id": "hqUsRycdFYrg"
      },
      "source": [
        "Solução: Como visto anteriormente, podemos considerar os mesmos valores de $a$ e $b,$ a saber, $a=0.5$, $b=1$. Logo,"
      ]
    },
    {
      "cell_type": "code",
      "metadata": {
        "colab": {
          "base_uri": "https://localhost:8080/"
        },
        "id": "9rsM5F2bWPLx",
        "outputId": "bc339612-4efc-4b9b-a213-957b18bd0294"
      },
      "source": [
        "print(f(1.5))"
      ],
      "execution_count": null,
      "outputs": [
        {
          "output_type": "stream",
          "text": [
            "0.544916280070002\n"
          ],
          "name": "stdout"
        }
      ]
    },
    {
      "cell_type": "code",
      "metadata": {
        "id": "XAKjkuuFF0GZ",
        "colab": {
          "base_uri": "https://localhost:8080/"
        },
        "outputId": "63660b88-8495-421b-de86-4d6526a91c21"
      },
      "source": [
        "import math\n",
        "def f(x): return cos(x)-x\n",
        "secante(f(x), 10**(-5), .5, 1.0)"
      ],
      "execution_count": null,
      "outputs": [
        {
          "output_type": "stream",
          "text": [
            "+---+-------------------+----------------------+\n",
            "| k |         xk        |   |x(k+1) - x(k)|    |\n",
            "+---+-------------------+----------------------+\n",
            "| 2 | 0.725481587063930 |  0.274518412936070   |\n",
            "| 3 | 0.738398620137094 |  0.0129170330731641  |\n",
            "| 4 | 0.739087210820866 | 0.000688590683772361 |\n",
            "| 5 | 0.739085132900112 | 2.07792075390678e-6  |\n",
            "+---+-------------------+----------------------+\n",
            "Donde ε é aproximadamente 0.739085132900112\n"
          ],
          "name": "stdout"
        }
      ]
    },
    {
      "cell_type": "markdown",
      "metadata": {
        "id": "9f9PL7siNuwS"
      },
      "source": [
        "Agora, recorramos ao procedimento que nos dará o gráfico de $f(x)$ e das iterações obtidas pelo método da secante:"
      ]
    },
    {
      "cell_type": "code",
      "metadata": {
        "id": "d2jRJen3b6KM"
      },
      "source": [
        "result = graficoSecante(f(x), 10**(-5), 0.5, 1.0)\n",
        "inicio = 0.0\n",
        "fim = 1.5\n",
        "z = np.arange(inicio,fim,0.001)\n",
        "    \n",
        "y = []\n",
        "w = []\n",
        "for i in range(len(z)):\n",
        "    y.append(f(x).subs(x,z[i]))\n",
        "for i in range(len(result)):\n",
        "    w.append(f(x).subs(x,result[i]))\n",
        "\n",
        "fig, ax = plt.subplots()\n",
        "ax.set(title='Gráfico função f(x)='+str(f(x)))\n",
        "ax.plot(z,y, \"-o\", markersize=2)\n",
        "plt.plot(result, w,'ro')\n",
        "ax.grid()\n",
        "plugins.connect(fig, plugins.MousePosition(fontsize=14))\n",
        "\n",
        "mpld3.display()"
      ],
      "execution_count": null,
      "outputs": []
    },
    {
      "cell_type": "markdown",
      "metadata": {
        "id": "cE-G0DuIGzlp"
      },
      "source": [
        "Exemplo: Determine uma raiz de $f(x)=x^3-4x^2+x+6$ com $\\epsilon \\leq 10^{-2}$.\n",
        "\n",
        "Solução: Definamos f e plotamos seu gráfico:"
      ]
    },
    {
      "cell_type": "code",
      "metadata": {
        "id": "hUVnmOzfG_Ki"
      },
      "source": [
        "def f(x): return x**3 - 4*x**2 + x + 6\n",
        "plot2d(f(x), 0, 3)"
      ],
      "execution_count": null,
      "outputs": []
    },
    {
      "cell_type": "markdown",
      "metadata": {
        "id": "egVEmO7wH0ru"
      },
      "source": [
        "Pelo gráfico, escolhamos por exemplo, $x_0=1.4$ e $x_1=2.2$. Logo,"
      ]
    },
    {
      "cell_type": "code",
      "metadata": {
        "id": "4t8Gx6xWIkfS"
      },
      "source": [
        "def f(x): return x**3-4*x**2+x+6\n",
        "secante(f(x), 10**-2, 1.4, 2.2)"
      ],
      "execution_count": null,
      "outputs": []
    },
    {
      "cell_type": "markdown",
      "metadata": {
        "id": "i8Cr_7jMdDDX"
      },
      "source": [
        "Como de praxe em cada exemplo, vamos plotar o gráfico das iterações com a função $f(x)$:"
      ]
    },
    {
      "cell_type": "code",
      "metadata": {
        "id": "vYD-XMsrdLI6"
      },
      "source": [
        "result = graficoSecante(f(x), 10**(-2), 1.4, 2.2)\n",
        "inicio = 1.4\n",
        "fim = 2.2\n",
        "z = np.arange(inicio,fim,0.001)\n",
        "    \n",
        "y = []\n",
        "w = []\n",
        "for i in range(len(z)):\n",
        "    y.append(f(x).subs(x,z[i]))\n",
        "for i in range(len(result)):\n",
        "    w.append(f(x).subs(x,result[i]))\n",
        "\n",
        "fig, ax = plt.subplots()\n",
        "ax.set(title='Gráfico função f(x)='+str(f(x)))\n",
        "ax.plot(z,y, \"-o\", markersize=2)\n",
        "plt.plot(result, w,'ro')\n",
        "ax.grid()\n",
        "plugins.connect(fig, plugins.MousePosition(fontsize=14))\n",
        "\n",
        "mpld3.display()"
      ],
      "execution_count": null,
      "outputs": []
    },
    {
      "cell_type": "markdown",
      "metadata": {
        "id": "YlvCE7qDLz5N"
      },
      "source": [
        "## 4. Método da Falsa Posição (Regula Falsi)"
      ]
    },
    {
      "cell_type": "markdown",
      "metadata": {
        "id": "c36V22hnL6RJ"
      },
      "source": [
        "O procedimento a ser usado é regulaFalsi(f,epsilon,a,b).\n",
        "\n",
        "Exemplo: Utilize o método Regula Falsi para encontrar uma solução de $x=cos(x)$ com $\\epsilon \\leq 10^{-5}$.\n",
        "\n",
        "Solução: Sabemos dos exemplos anteriores que podemos considerar $a=0.5$, $b=1$. Deste modo,"
      ]
    },
    {
      "cell_type": "code",
      "metadata": {
        "id": "razDRoYjMnbs"
      },
      "source": [
        "def f(x): return cos(x)-x\n",
        "regulaFalsi(f(x), 0.00001, 0.5, 1)"
      ],
      "execution_count": null,
      "outputs": []
    },
    {
      "cell_type": "markdown",
      "metadata": {
        "id": "Xy5ak8aEf-i0"
      },
      "source": [
        "Finalmente, plotando o gráfico de $f(x)$ contendo as iterações obtidas, temos:"
      ]
    },
    {
      "cell_type": "code",
      "metadata": {
        "id": "_z7a_7wPXkuB"
      },
      "source": [
        "result = graficoRegulaFalsi(f(x), 0.00001, 0.5, 1.0)\n",
        "inicio = 0.5\n",
        "fim = 1\n",
        "z = np.arange(inicio,fim,0.001)\n",
        "print(result[0])\n",
        "y = []\n",
        "w = []\n",
        "for i in range(len(z)):\n",
        "    y.append(f(x).subs(x,z[i]))\n",
        "for i in range(len(result)):\n",
        "    w.append(f(x).subs(x,result[i]))\n",
        "\n",
        "fig, ax = plt.subplots()\n",
        "ax.set(title='Gráfico função f(x)='+str(f(x)))\n",
        "ax.plot(z,y, \"-o\", markersize=2)\n",
        "plt.plot(result, w,'ro')\n",
        "ax.grid()\n",
        "plugins.connect(fig, plugins.MousePosition(fontsize=14))\n",
        "\n",
        "mpld3.display()"
      ],
      "execution_count": null,
      "outputs": []
    }
  ]
}